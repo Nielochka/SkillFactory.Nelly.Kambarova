{
 "cells": [
  {
   "cell_type": "code",
   "execution_count": 1,
   "metadata": {
    "_cell_guid": "b1076dfc-b9ad-4769-8c92-a6c4dae69d19",
    "_uuid": "8f2839f25d086af736a60e9eeb907d3b93b6e0e5",
    "colab": {},
    "colab_type": "code",
    "id": "U2D2gTdJVp90"
   },
   "outputs": [],
   "source": [
    "import numpy as np\n",
    "import pandas as pd\n",
    "import seaborn as sns\n",
    "import matplotlib.pyplot as plt\n",
    "from collections import Counter"
   ]
  },
  {
   "cell_type": "code",
   "execution_count": 2,
   "metadata": {
    "_cell_guid": "79c7e3d0-c299-4dcb-8224-4455121ee9b0",
    "_uuid": "d629ff2d2480ee46fbb7e2d37f6b5fab8052498a",
    "colab": {},
    "colab_type": "code",
    "id": "oyGfxL3eVp9-",
    "scrolled": true
   },
   "outputs": [
    {
     "data": {
      "text/html": [
       "<div>\n",
       "<style scoped>\n",
       "    .dataframe tbody tr th:only-of-type {\n",
       "        vertical-align: middle;\n",
       "    }\n",
       "\n",
       "    .dataframe tbody tr th {\n",
       "        vertical-align: top;\n",
       "    }\n",
       "\n",
       "    .dataframe thead th {\n",
       "        text-align: right;\n",
       "    }\n",
       "</style>\n",
       "<table border=\"1\" class=\"dataframe\">\n",
       "  <thead>\n",
       "    <tr style=\"text-align: right;\">\n",
       "      <th></th>\n",
       "      <th>imdb_id</th>\n",
       "      <th>budget</th>\n",
       "      <th>revenue</th>\n",
       "      <th>original_title</th>\n",
       "      <th>cast</th>\n",
       "      <th>director</th>\n",
       "      <th>tagline</th>\n",
       "      <th>overview</th>\n",
       "      <th>runtime</th>\n",
       "      <th>genres</th>\n",
       "      <th>production_companies</th>\n",
       "      <th>release_date</th>\n",
       "      <th>vote_average</th>\n",
       "      <th>release_year</th>\n",
       "    </tr>\n",
       "  </thead>\n",
       "  <tbody>\n",
       "    <tr>\n",
       "      <th>687</th>\n",
       "      <td>tt0814022</td>\n",
       "      <td>45000000</td>\n",
       "      <td>42487390</td>\n",
       "      <td>Bangkok Dangerous</td>\n",
       "      <td>Nicolas Cage|Shahkrit Yamnarm|Charlie Yeung|Pa...</td>\n",
       "      <td>Oxide Pang Chun|Danny Pang</td>\n",
       "      <td>There's only one way out.</td>\n",
       "      <td>When carrying out a hit, assassin Joe (Cage) a...</td>\n",
       "      <td>99</td>\n",
       "      <td>Action|Crime|Thriller</td>\n",
       "      <td>Virtual Studios|Initial Entertainment Group|Sa...</td>\n",
       "      <td>8/21/2008</td>\n",
       "      <td>5.0</td>\n",
       "      <td>2008</td>\n",
       "    </tr>\n",
       "    <tr>\n",
       "      <th>1142</th>\n",
       "      <td>tt0317303</td>\n",
       "      <td>60000000</td>\n",
       "      <td>164433867</td>\n",
       "      <td>Daddy Day Care</td>\n",
       "      <td>Eddie Murphy|Jeff Garlin|Steve Zahn|Regina Kin...</td>\n",
       "      <td>Steve Carr</td>\n",
       "      <td>Who's your daddy?</td>\n",
       "      <td>Two men get laid off and have to become stay-a...</td>\n",
       "      <td>92</td>\n",
       "      <td>Comedy|Family</td>\n",
       "      <td>Columbia Pictures|Revolution Studios|Davis Ent...</td>\n",
       "      <td>5/3/2003</td>\n",
       "      <td>5.7</td>\n",
       "      <td>2003</td>\n",
       "    </tr>\n",
       "    <tr>\n",
       "      <th>1803</th>\n",
       "      <td>tt0208092</td>\n",
       "      <td>10000000</td>\n",
       "      <td>83557872</td>\n",
       "      <td>Snatch</td>\n",
       "      <td>Jason Statham|Brad Pitt|Vinnie Jones|Dennis Fa...</td>\n",
       "      <td>Guy Ritchie</td>\n",
       "      <td>Stealin' Stones and Breakin' Bones.</td>\n",
       "      <td>The second film from British director Guy Ritc...</td>\n",
       "      <td>103</td>\n",
       "      <td>Thriller|Crime</td>\n",
       "      <td>Columbia Pictures Corporation|SKA Films</td>\n",
       "      <td>9/1/2000</td>\n",
       "      <td>7.5</td>\n",
       "      <td>2000</td>\n",
       "    </tr>\n",
       "    <tr>\n",
       "      <th>493</th>\n",
       "      <td>tt1220634</td>\n",
       "      <td>60000000</td>\n",
       "      <td>296221663</td>\n",
       "      <td>Resident Evil: Afterlife</td>\n",
       "      <td>Milla Jovovich|Wentworth Miller|Ali Larter|Kim...</td>\n",
       "      <td>Paul W.S. Anderson</td>\n",
       "      <td>She's back...And she's bringing a few of her f...</td>\n",
       "      <td>In a world ravaged by a virus infection, turni...</td>\n",
       "      <td>97</td>\n",
       "      <td>Action|Adventure|Horror|Science Fiction</td>\n",
       "      <td>Impact Pictures|Davis-Films|Constantin Film Pr...</td>\n",
       "      <td>9/9/2010</td>\n",
       "      <td>5.8</td>\n",
       "      <td>2010</td>\n",
       "    </tr>\n",
       "    <tr>\n",
       "      <th>1297</th>\n",
       "      <td>tt1905041</td>\n",
       "      <td>160000000</td>\n",
       "      <td>788679850</td>\n",
       "      <td>Fast &amp; Furious 6</td>\n",
       "      <td>Paul Walker|Vin Diesel|Dwayne Johnson|Jordana ...</td>\n",
       "      <td>Justin Lin</td>\n",
       "      <td>All roads lead to this</td>\n",
       "      <td>Hobbs has Dominic and Brian reassemble their c...</td>\n",
       "      <td>130</td>\n",
       "      <td>Action|Thriller|Crime</td>\n",
       "      <td>Universal Pictures|Original Film|One Race Prod...</td>\n",
       "      <td>5/6/2013</td>\n",
       "      <td>6.6</td>\n",
       "      <td>2013</td>\n",
       "    </tr>\n",
       "  </tbody>\n",
       "</table>\n",
       "</div>"
      ],
      "text/plain": [
       "        imdb_id     budget    revenue            original_title  \\\n",
       "687   tt0814022   45000000   42487390         Bangkok Dangerous   \n",
       "1142  tt0317303   60000000  164433867            Daddy Day Care   \n",
       "1803  tt0208092   10000000   83557872                    Snatch   \n",
       "493   tt1220634   60000000  296221663  Resident Evil: Afterlife   \n",
       "1297  tt1905041  160000000  788679850          Fast & Furious 6   \n",
       "\n",
       "                                                   cast  \\\n",
       "687   Nicolas Cage|Shahkrit Yamnarm|Charlie Yeung|Pa...   \n",
       "1142  Eddie Murphy|Jeff Garlin|Steve Zahn|Regina Kin...   \n",
       "1803  Jason Statham|Brad Pitt|Vinnie Jones|Dennis Fa...   \n",
       "493   Milla Jovovich|Wentworth Miller|Ali Larter|Kim...   \n",
       "1297  Paul Walker|Vin Diesel|Dwayne Johnson|Jordana ...   \n",
       "\n",
       "                        director  \\\n",
       "687   Oxide Pang Chun|Danny Pang   \n",
       "1142                  Steve Carr   \n",
       "1803                 Guy Ritchie   \n",
       "493           Paul W.S. Anderson   \n",
       "1297                  Justin Lin   \n",
       "\n",
       "                                                tagline  \\\n",
       "687                           There's only one way out.   \n",
       "1142                                  Who's your daddy?   \n",
       "1803                Stealin' Stones and Breakin' Bones.   \n",
       "493   She's back...And she's bringing a few of her f...   \n",
       "1297                             All roads lead to this   \n",
       "\n",
       "                                               overview  runtime  \\\n",
       "687   When carrying out a hit, assassin Joe (Cage) a...       99   \n",
       "1142  Two men get laid off and have to become stay-a...       92   \n",
       "1803  The second film from British director Guy Ritc...      103   \n",
       "493   In a world ravaged by a virus infection, turni...       97   \n",
       "1297  Hobbs has Dominic and Brian reassemble their c...      130   \n",
       "\n",
       "                                       genres  \\\n",
       "687                     Action|Crime|Thriller   \n",
       "1142                            Comedy|Family   \n",
       "1803                           Thriller|Crime   \n",
       "493   Action|Adventure|Horror|Science Fiction   \n",
       "1297                    Action|Thriller|Crime   \n",
       "\n",
       "                                   production_companies release_date  \\\n",
       "687   Virtual Studios|Initial Entertainment Group|Sa...    8/21/2008   \n",
       "1142  Columbia Pictures|Revolution Studios|Davis Ent...     5/3/2003   \n",
       "1803            Columbia Pictures Corporation|SKA Films     9/1/2000   \n",
       "493   Impact Pictures|Davis-Films|Constantin Film Pr...     9/9/2010   \n",
       "1297  Universal Pictures|Original Film|One Race Prod...     5/6/2013   \n",
       "\n",
       "      vote_average  release_year  \n",
       "687            5.0          2008  \n",
       "1142           5.7          2003  \n",
       "1803           7.5          2000  \n",
       "493            5.8          2010  \n",
       "1297           6.6          2013  "
      ]
     },
     "execution_count": 2,
     "metadata": {},
     "output_type": "execute_result"
    }
   ],
   "source": [
    "data = pd.read_csv('movie_bd_v5.csv')\n",
    "data.sample(5)"
   ]
  },
  {
   "cell_type": "code",
   "execution_count": 3,
   "metadata": {
    "colab": {},
    "colab_type": "code",
    "id": "CoYUnagMVp-C"
   },
   "outputs": [
    {
     "data": {
      "text/html": [
       "<div>\n",
       "<style scoped>\n",
       "    .dataframe tbody tr th:only-of-type {\n",
       "        vertical-align: middle;\n",
       "    }\n",
       "\n",
       "    .dataframe tbody tr th {\n",
       "        vertical-align: top;\n",
       "    }\n",
       "\n",
       "    .dataframe thead th {\n",
       "        text-align: right;\n",
       "    }\n",
       "</style>\n",
       "<table border=\"1\" class=\"dataframe\">\n",
       "  <thead>\n",
       "    <tr style=\"text-align: right;\">\n",
       "      <th></th>\n",
       "      <th>budget</th>\n",
       "      <th>revenue</th>\n",
       "      <th>runtime</th>\n",
       "      <th>vote_average</th>\n",
       "      <th>release_year</th>\n",
       "    </tr>\n",
       "  </thead>\n",
       "  <tbody>\n",
       "    <tr>\n",
       "      <th>count</th>\n",
       "      <td>1.889000e+03</td>\n",
       "      <td>1.889000e+03</td>\n",
       "      <td>1889.000000</td>\n",
       "      <td>1889.000000</td>\n",
       "      <td>1889.000000</td>\n",
       "    </tr>\n",
       "    <tr>\n",
       "      <th>mean</th>\n",
       "      <td>5.431083e+07</td>\n",
       "      <td>1.553653e+08</td>\n",
       "      <td>109.658549</td>\n",
       "      <td>6.140762</td>\n",
       "      <td>2007.860773</td>\n",
       "    </tr>\n",
       "    <tr>\n",
       "      <th>std</th>\n",
       "      <td>4.858721e+07</td>\n",
       "      <td>2.146698e+08</td>\n",
       "      <td>18.017041</td>\n",
       "      <td>0.764763</td>\n",
       "      <td>4.468841</td>\n",
       "    </tr>\n",
       "    <tr>\n",
       "      <th>min</th>\n",
       "      <td>5.000000e+06</td>\n",
       "      <td>2.033165e+06</td>\n",
       "      <td>63.000000</td>\n",
       "      <td>3.300000</td>\n",
       "      <td>2000.000000</td>\n",
       "    </tr>\n",
       "    <tr>\n",
       "      <th>25%</th>\n",
       "      <td>2.000000e+07</td>\n",
       "      <td>3.456058e+07</td>\n",
       "      <td>97.000000</td>\n",
       "      <td>5.600000</td>\n",
       "      <td>2004.000000</td>\n",
       "    </tr>\n",
       "    <tr>\n",
       "      <th>50%</th>\n",
       "      <td>3.800000e+07</td>\n",
       "      <td>8.361541e+07</td>\n",
       "      <td>107.000000</td>\n",
       "      <td>6.100000</td>\n",
       "      <td>2008.000000</td>\n",
       "    </tr>\n",
       "    <tr>\n",
       "      <th>75%</th>\n",
       "      <td>7.200000e+07</td>\n",
       "      <td>1.782626e+08</td>\n",
       "      <td>120.000000</td>\n",
       "      <td>6.600000</td>\n",
       "      <td>2012.000000</td>\n",
       "    </tr>\n",
       "    <tr>\n",
       "      <th>max</th>\n",
       "      <td>3.800000e+08</td>\n",
       "      <td>2.781506e+09</td>\n",
       "      <td>214.000000</td>\n",
       "      <td>8.100000</td>\n",
       "      <td>2015.000000</td>\n",
       "    </tr>\n",
       "  </tbody>\n",
       "</table>\n",
       "</div>"
      ],
      "text/plain": [
       "             budget       revenue      runtime  vote_average  release_year\n",
       "count  1.889000e+03  1.889000e+03  1889.000000   1889.000000   1889.000000\n",
       "mean   5.431083e+07  1.553653e+08   109.658549      6.140762   2007.860773\n",
       "std    4.858721e+07  2.146698e+08    18.017041      0.764763      4.468841\n",
       "min    5.000000e+06  2.033165e+06    63.000000      3.300000   2000.000000\n",
       "25%    2.000000e+07  3.456058e+07    97.000000      5.600000   2004.000000\n",
       "50%    3.800000e+07  8.361541e+07   107.000000      6.100000   2008.000000\n",
       "75%    7.200000e+07  1.782626e+08   120.000000      6.600000   2012.000000\n",
       "max    3.800000e+08  2.781506e+09   214.000000      8.100000   2015.000000"
      ]
     },
     "execution_count": 3,
     "metadata": {},
     "output_type": "execute_result"
    }
   ],
   "source": [
    "data.describe()"
   ]
  },
  {
   "cell_type": "markdown",
   "metadata": {
    "colab_type": "text",
    "id": "DTIt7ezGVp-G"
   },
   "source": [
    "# Предобработка"
   ]
  },
  {
   "cell_type": "code",
   "execution_count": 4,
   "metadata": {},
   "outputs": [],
   "source": [
    "answers = {} # Создадим словарь для ответов "
   ]
  },
  {
   "cell_type": "code",
   "execution_count": 5,
   "metadata": {
    "colab": {},
    "colab_type": "code",
    "id": "jNb40DwKVp-H"
   },
   "outputs": [],
   "source": [
    "# Предобработки колонок:\n",
    "\n",
    "data['release_date'] = pd.to_datetime(data['release_date'])  \n",
    "            # Преобразуем дату\n",
    "\n",
    "data[\"profit\"] = data['revenue'] - data['budget'] \n",
    "            # Создаем новое значение/столбец - \"profit\" которое будет показывать прибыль фильмов\n",
    "\n",
    "\n",
    "# Создадим функцию для подсчета каждого элемента в колонке, когда в ячейке несколько элементов\n",
    "\n",
    "def counter(movie_bd, x): # movie_bd - датафрейм/наше заданое условие, x = колонка датафрейма\n",
    "    data_plot=movie_bd[x].str.cat(sep='|') # создаём строку  со значениями из колонки x, с разделителем '|'\n",
    "    dat=pd.Series(data_plot.split('|')) # преоброзуем строку в серию по розделителю '|'\n",
    "    info=dat.value_counts(ascending=False) # считаем количество элементов в серии\n",
    "    return info\n",
    "\n",
    "            # ==   то же самое, в компактной записи \n",
    "\n",
    "def counter(movie_bd, x):\n",
    "    \"\"\"создали функцию для посчета каждого элемента в колонке\"\"\"\n",
    "    info = movie_bd[x].str.split('|', expand=True).stack().value_counts()\n",
    "    return info\n",
    "\n",
    "# genre = data['genres'].str.split('|', expand=True).stack().value_counts() \n",
    "            # Разделили значения в \"genres\" по жанрам и посчитали количество жанров\n",
    "\n",
    "# data['imdb_id'] = data.imdb_id.str.replace('tt','')  \n",
    "            # Удаляем из imdb_id лишнее tt,но не стала этого делать тк в задании ответы идут с 'tt'\n"
   ]
  },
  {
   "cell_type": "markdown",
   "metadata": {
    "colab_type": "text",
    "id": "YxZaH-nPVp-L"
   },
   "source": [
    "# 1. У какого фильма из списка самый большой бюджет?"
   ]
  },
  {
   "cell_type": "markdown",
   "metadata": {
    "colab_type": "text",
    "id": "Nd-G5gX6Vp-M"
   },
   "source": [
    "Использовать варианты ответов в коде решения запрещено.    \n",
    "Вы думаете и в жизни у вас будут варианты ответов?)"
   ]
  },
  {
   "cell_type": "code",
   "execution_count": 6,
   "metadata": {
    "colab": {},
    "colab_type": "code",
    "id": "uVnXAY5RVp-O"
   },
   "outputs": [],
   "source": [
    "# в словарь вставляем номер вопроса и ваш ответ на него\n",
    "# Пример: \n",
    "answers['1'] = '2. Spider-Man 3 (tt0413300)'\n",
    "# запишите свой вариант ответа\n",
    "answers['1'] = '723. Pirates of the Caribbean: On Stranger Tides(tt1298650)' \n",
    "# если ответили верно, можете добавить комментарий со значком \"+\""
   ]
  },
  {
   "cell_type": "code",
   "execution_count": 7,
   "metadata": {},
   "outputs": [],
   "source": [
    "answers['1'] = '5. Pirates of the Caribbean: On Stranger Tides(tt1298650)'\n",
    "# +"
   ]
  },
  {
   "cell_type": "code",
   "execution_count": 8,
   "metadata": {
    "colab": {},
    "colab_type": "code",
    "id": "dZwb3m28Vp-S"
   },
   "outputs": [
    {
     "data": {
      "text/plain": [
       "380000000"
      ]
     },
     "execution_count": 8,
     "metadata": {},
     "output_type": "execute_result"
    }
   ],
   "source": [
    "# тут пишем ваш код для решения данного вопроса:\n",
    "budget = data['budget'].max()\n",
    "budget"
   ]
  },
  {
   "cell_type": "code",
   "execution_count": 9,
   "metadata": {},
   "outputs": [
    {
     "data": {
      "text/html": [
       "<div>\n",
       "<style scoped>\n",
       "    .dataframe tbody tr th:only-of-type {\n",
       "        vertical-align: middle;\n",
       "    }\n",
       "\n",
       "    .dataframe tbody tr th {\n",
       "        vertical-align: top;\n",
       "    }\n",
       "\n",
       "    .dataframe thead th {\n",
       "        text-align: right;\n",
       "    }\n",
       "</style>\n",
       "<table border=\"1\" class=\"dataframe\">\n",
       "  <thead>\n",
       "    <tr style=\"text-align: right;\">\n",
       "      <th></th>\n",
       "      <th>imdb_id</th>\n",
       "      <th>budget</th>\n",
       "      <th>revenue</th>\n",
       "      <th>original_title</th>\n",
       "      <th>cast</th>\n",
       "      <th>director</th>\n",
       "      <th>tagline</th>\n",
       "      <th>overview</th>\n",
       "      <th>runtime</th>\n",
       "      <th>genres</th>\n",
       "      <th>production_companies</th>\n",
       "      <th>release_date</th>\n",
       "      <th>vote_average</th>\n",
       "      <th>release_year</th>\n",
       "      <th>profit</th>\n",
       "    </tr>\n",
       "  </thead>\n",
       "  <tbody>\n",
       "    <tr>\n",
       "      <th>723</th>\n",
       "      <td>tt1298650</td>\n",
       "      <td>380000000</td>\n",
       "      <td>1021683000</td>\n",
       "      <td>Pirates of the Caribbean: On Stranger Tides</td>\n",
       "      <td>Johnny Depp|PenÃ©lope Cruz|Geoffrey Rush|Ian M...</td>\n",
       "      <td>Rob Marshall</td>\n",
       "      <td>Live Forever Or Die Trying.</td>\n",
       "      <td>Captain Jack Sparrow crosses paths with a woma...</td>\n",
       "      <td>136</td>\n",
       "      <td>Adventure|Action|Fantasy</td>\n",
       "      <td>Walt Disney Pictures|Jerry Bruckheimer Films|M...</td>\n",
       "      <td>2011-05-11</td>\n",
       "      <td>6.3</td>\n",
       "      <td>2011</td>\n",
       "      <td>641683000</td>\n",
       "    </tr>\n",
       "  </tbody>\n",
       "</table>\n",
       "</div>"
      ],
      "text/plain": [
       "       imdb_id     budget     revenue  \\\n",
       "723  tt1298650  380000000  1021683000   \n",
       "\n",
       "                                  original_title  \\\n",
       "723  Pirates of the Caribbean: On Stranger Tides   \n",
       "\n",
       "                                                  cast      director  \\\n",
       "723  Johnny Depp|PenÃ©lope Cruz|Geoffrey Rush|Ian M...  Rob Marshall   \n",
       "\n",
       "                         tagline  \\\n",
       "723  Live Forever Or Die Trying.   \n",
       "\n",
       "                                              overview  runtime  \\\n",
       "723  Captain Jack Sparrow crosses paths with a woma...      136   \n",
       "\n",
       "                       genres  \\\n",
       "723  Adventure|Action|Fantasy   \n",
       "\n",
       "                                  production_companies release_date  \\\n",
       "723  Walt Disney Pictures|Jerry Bruckheimer Films|M...   2011-05-11   \n",
       "\n",
       "     vote_average  release_year     profit  \n",
       "723           6.3          2011  641683000  "
      ]
     },
     "execution_count": 9,
     "metadata": {},
     "output_type": "execute_result"
    }
   ],
   "source": [
    "data.loc[(data['budget'] == 380000000 )]"
   ]
  },
  {
   "cell_type": "markdown",
   "metadata": {
    "colab_type": "text",
    "id": "K7L3nbRXVp-X"
   },
   "source": [
    "ВАРИАНТ 2"
   ]
  },
  {
   "cell_type": "code",
   "execution_count": 10,
   "metadata": {
    "colab": {},
    "colab_type": "code",
    "id": "OGaoQI7rVp-X"
   },
   "outputs": [
    {
     "data": {
      "text/html": [
       "<div>\n",
       "<style scoped>\n",
       "    .dataframe tbody tr th:only-of-type {\n",
       "        vertical-align: middle;\n",
       "    }\n",
       "\n",
       "    .dataframe tbody tr th {\n",
       "        vertical-align: top;\n",
       "    }\n",
       "\n",
       "    .dataframe thead th {\n",
       "        text-align: right;\n",
       "    }\n",
       "</style>\n",
       "<table border=\"1\" class=\"dataframe\">\n",
       "  <thead>\n",
       "    <tr style=\"text-align: right;\">\n",
       "      <th></th>\n",
       "      <th>imdb_id</th>\n",
       "      <th>budget</th>\n",
       "      <th>revenue</th>\n",
       "      <th>original_title</th>\n",
       "      <th>cast</th>\n",
       "      <th>director</th>\n",
       "      <th>tagline</th>\n",
       "      <th>overview</th>\n",
       "      <th>runtime</th>\n",
       "      <th>genres</th>\n",
       "      <th>production_companies</th>\n",
       "      <th>release_date</th>\n",
       "      <th>vote_average</th>\n",
       "      <th>release_year</th>\n",
       "      <th>profit</th>\n",
       "    </tr>\n",
       "  </thead>\n",
       "  <tbody>\n",
       "    <tr>\n",
       "      <th>723</th>\n",
       "      <td>tt1298650</td>\n",
       "      <td>380000000</td>\n",
       "      <td>1021683000</td>\n",
       "      <td>Pirates of the Caribbean: On Stranger Tides</td>\n",
       "      <td>Johnny Depp|PenÃ©lope Cruz|Geoffrey Rush|Ian M...</td>\n",
       "      <td>Rob Marshall</td>\n",
       "      <td>Live Forever Or Die Trying.</td>\n",
       "      <td>Captain Jack Sparrow crosses paths with a woma...</td>\n",
       "      <td>136</td>\n",
       "      <td>Adventure|Action|Fantasy</td>\n",
       "      <td>Walt Disney Pictures|Jerry Bruckheimer Films|M...</td>\n",
       "      <td>2011-05-11</td>\n",
       "      <td>6.3</td>\n",
       "      <td>2011</td>\n",
       "      <td>641683000</td>\n",
       "    </tr>\n",
       "  </tbody>\n",
       "</table>\n",
       "</div>"
      ],
      "text/plain": [
       "       imdb_id     budget     revenue  \\\n",
       "723  tt1298650  380000000  1021683000   \n",
       "\n",
       "                                  original_title  \\\n",
       "723  Pirates of the Caribbean: On Stranger Tides   \n",
       "\n",
       "                                                  cast      director  \\\n",
       "723  Johnny Depp|PenÃ©lope Cruz|Geoffrey Rush|Ian M...  Rob Marshall   \n",
       "\n",
       "                         tagline  \\\n",
       "723  Live Forever Or Die Trying.   \n",
       "\n",
       "                                              overview  runtime  \\\n",
       "723  Captain Jack Sparrow crosses paths with a woma...      136   \n",
       "\n",
       "                       genres  \\\n",
       "723  Adventure|Action|Fantasy   \n",
       "\n",
       "                                  production_companies release_date  \\\n",
       "723  Walt Disney Pictures|Jerry Bruckheimer Films|M...   2011-05-11   \n",
       "\n",
       "     vote_average  release_year     profit  \n",
       "723           6.3          2011  641683000  "
      ]
     },
     "execution_count": 10,
     "metadata": {},
     "output_type": "execute_result"
    }
   ],
   "source": [
    "data[data.budget == data.budget.max()]"
   ]
  },
  {
   "cell_type": "markdown",
   "metadata": {
    "colab_type": "text",
    "id": "FNRbbI3vVp-c"
   },
   "source": [
    "# 2. Какой из фильмов самый длительный (в минутах)?"
   ]
  },
  {
   "cell_type": "code",
   "execution_count": 11,
   "metadata": {
    "colab": {},
    "colab_type": "code",
    "id": "vHAoEXNTVp-d"
   },
   "outputs": [],
   "source": [
    "# думаю логику работы с этим словарем вы уже поняли, \n",
    "# по этому не буду больше его дублировать\n",
    "answers['2'] = '2.Gods and Generals(tt0279111)'\n",
    "# +"
   ]
  },
  {
   "cell_type": "code",
   "execution_count": 12,
   "metadata": {
    "colab": {},
    "colab_type": "code",
    "id": "ot-VX2XrVp-g"
   },
   "outputs": [
    {
     "data": {
      "text/plain": [
       "214"
      ]
     },
     "execution_count": 12,
     "metadata": {},
     "output_type": "execute_result"
    }
   ],
   "source": [
    "runtime = data['runtime'].max()\n",
    "runtime"
   ]
  },
  {
   "cell_type": "code",
   "execution_count": 13,
   "metadata": {
    "scrolled": true
   },
   "outputs": [
    {
     "data": {
      "text/html": [
       "<div>\n",
       "<style scoped>\n",
       "    .dataframe tbody tr th:only-of-type {\n",
       "        vertical-align: middle;\n",
       "    }\n",
       "\n",
       "    .dataframe tbody tr th {\n",
       "        vertical-align: top;\n",
       "    }\n",
       "\n",
       "    .dataframe thead th {\n",
       "        text-align: right;\n",
       "    }\n",
       "</style>\n",
       "<table border=\"1\" class=\"dataframe\">\n",
       "  <thead>\n",
       "    <tr style=\"text-align: right;\">\n",
       "      <th></th>\n",
       "      <th>imdb_id</th>\n",
       "      <th>budget</th>\n",
       "      <th>revenue</th>\n",
       "      <th>original_title</th>\n",
       "      <th>cast</th>\n",
       "      <th>director</th>\n",
       "      <th>tagline</th>\n",
       "      <th>overview</th>\n",
       "      <th>runtime</th>\n",
       "      <th>genres</th>\n",
       "      <th>production_companies</th>\n",
       "      <th>release_date</th>\n",
       "      <th>vote_average</th>\n",
       "      <th>release_year</th>\n",
       "      <th>profit</th>\n",
       "    </tr>\n",
       "  </thead>\n",
       "  <tbody>\n",
       "    <tr>\n",
       "      <th>1157</th>\n",
       "      <td>tt0279111</td>\n",
       "      <td>56000000</td>\n",
       "      <td>12923936</td>\n",
       "      <td>Gods and Generals</td>\n",
       "      <td>Stephen Lang|Jeff Daniels|Robert Duvall|Kevin ...</td>\n",
       "      <td>Ronald F. Maxwell</td>\n",
       "      <td>The nations heart was touched by...</td>\n",
       "      <td>The film centers mostly around the personal an...</td>\n",
       "      <td>214</td>\n",
       "      <td>Drama|History|War</td>\n",
       "      <td>Turner Pictures|Antietam Filmworks</td>\n",
       "      <td>2003-02-21</td>\n",
       "      <td>5.8</td>\n",
       "      <td>2003</td>\n",
       "      <td>-43076064</td>\n",
       "    </tr>\n",
       "  </tbody>\n",
       "</table>\n",
       "</div>"
      ],
      "text/plain": [
       "        imdb_id    budget   revenue     original_title  \\\n",
       "1157  tt0279111  56000000  12923936  Gods and Generals   \n",
       "\n",
       "                                                   cast           director  \\\n",
       "1157  Stephen Lang|Jeff Daniels|Robert Duvall|Kevin ...  Ronald F. Maxwell   \n",
       "\n",
       "                                  tagline  \\\n",
       "1157  The nations heart was touched by...   \n",
       "\n",
       "                                               overview  runtime  \\\n",
       "1157  The film centers mostly around the personal an...      214   \n",
       "\n",
       "                 genres                production_companies release_date  \\\n",
       "1157  Drama|History|War  Turner Pictures|Antietam Filmworks   2003-02-21   \n",
       "\n",
       "      vote_average  release_year    profit  \n",
       "1157           5.8          2003 -43076064  "
      ]
     },
     "execution_count": 13,
     "metadata": {},
     "output_type": "execute_result"
    }
   ],
   "source": [
    "data.loc[(data['runtime'] == 214)]"
   ]
  },
  {
   "cell_type": "markdown",
   "metadata": {},
   "source": [
    "ВАРИАНТ 2"
   ]
  },
  {
   "cell_type": "code",
   "execution_count": 14,
   "metadata": {},
   "outputs": [
    {
     "data": {
      "text/html": [
       "<div>\n",
       "<style scoped>\n",
       "    .dataframe tbody tr th:only-of-type {\n",
       "        vertical-align: middle;\n",
       "    }\n",
       "\n",
       "    .dataframe tbody tr th {\n",
       "        vertical-align: top;\n",
       "    }\n",
       "\n",
       "    .dataframe thead th {\n",
       "        text-align: right;\n",
       "    }\n",
       "</style>\n",
       "<table border=\"1\" class=\"dataframe\">\n",
       "  <thead>\n",
       "    <tr style=\"text-align: right;\">\n",
       "      <th></th>\n",
       "      <th>imdb_id</th>\n",
       "      <th>budget</th>\n",
       "      <th>revenue</th>\n",
       "      <th>original_title</th>\n",
       "      <th>cast</th>\n",
       "      <th>director</th>\n",
       "      <th>tagline</th>\n",
       "      <th>overview</th>\n",
       "      <th>runtime</th>\n",
       "      <th>genres</th>\n",
       "      <th>production_companies</th>\n",
       "      <th>release_date</th>\n",
       "      <th>vote_average</th>\n",
       "      <th>release_year</th>\n",
       "      <th>profit</th>\n",
       "    </tr>\n",
       "  </thead>\n",
       "  <tbody>\n",
       "    <tr>\n",
       "      <th>1157</th>\n",
       "      <td>tt0279111</td>\n",
       "      <td>56000000</td>\n",
       "      <td>12923936</td>\n",
       "      <td>Gods and Generals</td>\n",
       "      <td>Stephen Lang|Jeff Daniels|Robert Duvall|Kevin ...</td>\n",
       "      <td>Ronald F. Maxwell</td>\n",
       "      <td>The nations heart was touched by...</td>\n",
       "      <td>The film centers mostly around the personal an...</td>\n",
       "      <td>214</td>\n",
       "      <td>Drama|History|War</td>\n",
       "      <td>Turner Pictures|Antietam Filmworks</td>\n",
       "      <td>2003-02-21</td>\n",
       "      <td>5.8</td>\n",
       "      <td>2003</td>\n",
       "      <td>-43076064</td>\n",
       "    </tr>\n",
       "  </tbody>\n",
       "</table>\n",
       "</div>"
      ],
      "text/plain": [
       "        imdb_id    budget   revenue     original_title  \\\n",
       "1157  tt0279111  56000000  12923936  Gods and Generals   \n",
       "\n",
       "                                                   cast           director  \\\n",
       "1157  Stephen Lang|Jeff Daniels|Robert Duvall|Kevin ...  Ronald F. Maxwell   \n",
       "\n",
       "                                  tagline  \\\n",
       "1157  The nations heart was touched by...   \n",
       "\n",
       "                                               overview  runtime  \\\n",
       "1157  The film centers mostly around the personal an...      214   \n",
       "\n",
       "                 genres                production_companies release_date  \\\n",
       "1157  Drama|History|War  Turner Pictures|Antietam Filmworks   2003-02-21   \n",
       "\n",
       "      vote_average  release_year    profit  \n",
       "1157           5.8          2003 -43076064  "
      ]
     },
     "execution_count": 14,
     "metadata": {},
     "output_type": "execute_result"
    }
   ],
   "source": [
    "data[data.runtime == data.runtime.max()]"
   ]
  },
  {
   "cell_type": "markdown",
   "metadata": {
    "colab_type": "text",
    "id": "bapLlpW8Vp-k"
   },
   "source": [
    "# 3. Какой из фильмов самый короткий (в минутах)?\n",
    "\n",
    "\n",
    "\n"
   ]
  },
  {
   "cell_type": "code",
   "execution_count": 15,
   "metadata": {},
   "outputs": [],
   "source": [
    "answers ['3'] = '3. Winnie the Pooh (tt1449283)' \n",
    "# +"
   ]
  },
  {
   "cell_type": "code",
   "execution_count": 16,
   "metadata": {
    "colab": {},
    "colab_type": "code",
    "id": "YBxaSHuAVp-l"
   },
   "outputs": [
    {
     "data": {
      "text/html": [
       "<div>\n",
       "<style scoped>\n",
       "    .dataframe tbody tr th:only-of-type {\n",
       "        vertical-align: middle;\n",
       "    }\n",
       "\n",
       "    .dataframe tbody tr th {\n",
       "        vertical-align: top;\n",
       "    }\n",
       "\n",
       "    .dataframe thead th {\n",
       "        text-align: right;\n",
       "    }\n",
       "</style>\n",
       "<table border=\"1\" class=\"dataframe\">\n",
       "  <thead>\n",
       "    <tr style=\"text-align: right;\">\n",
       "      <th></th>\n",
       "      <th>imdb_id</th>\n",
       "      <th>budget</th>\n",
       "      <th>revenue</th>\n",
       "      <th>original_title</th>\n",
       "      <th>cast</th>\n",
       "      <th>director</th>\n",
       "      <th>tagline</th>\n",
       "      <th>overview</th>\n",
       "      <th>runtime</th>\n",
       "      <th>genres</th>\n",
       "      <th>production_companies</th>\n",
       "      <th>release_date</th>\n",
       "      <th>vote_average</th>\n",
       "      <th>release_year</th>\n",
       "      <th>profit</th>\n",
       "    </tr>\n",
       "  </thead>\n",
       "  <tbody>\n",
       "    <tr>\n",
       "      <th>768</th>\n",
       "      <td>tt1449283</td>\n",
       "      <td>30000000</td>\n",
       "      <td>14460000</td>\n",
       "      <td>Winnie the Pooh</td>\n",
       "      <td>Jim Cummings|Travis Oates|Jim Cummings|Bud Luc...</td>\n",
       "      <td>Stephen Anderson|Don Hall</td>\n",
       "      <td>Oh Pooh.</td>\n",
       "      <td>During an ordinary day in Hundred Acre Wood, W...</td>\n",
       "      <td>63</td>\n",
       "      <td>Animation|Family</td>\n",
       "      <td>Walt Disney Pictures|Walt Disney Animation Stu...</td>\n",
       "      <td>2011-04-13</td>\n",
       "      <td>6.8</td>\n",
       "      <td>2011</td>\n",
       "      <td>-15540000</td>\n",
       "    </tr>\n",
       "  </tbody>\n",
       "</table>\n",
       "</div>"
      ],
      "text/plain": [
       "       imdb_id    budget   revenue   original_title  \\\n",
       "768  tt1449283  30000000  14460000  Winnie the Pooh   \n",
       "\n",
       "                                                  cast  \\\n",
       "768  Jim Cummings|Travis Oates|Jim Cummings|Bud Luc...   \n",
       "\n",
       "                      director   tagline  \\\n",
       "768  Stephen Anderson|Don Hall  Oh Pooh.   \n",
       "\n",
       "                                              overview  runtime  \\\n",
       "768  During an ordinary day in Hundred Acre Wood, W...       63   \n",
       "\n",
       "               genres                               production_companies  \\\n",
       "768  Animation|Family  Walt Disney Pictures|Walt Disney Animation Stu...   \n",
       "\n",
       "    release_date  vote_average  release_year    profit  \n",
       "768   2011-04-13           6.8          2011 -15540000  "
      ]
     },
     "execution_count": 16,
     "metadata": {},
     "output_type": "execute_result"
    }
   ],
   "source": [
    "data[data.runtime == data.runtime.min()]"
   ]
  },
  {
   "cell_type": "markdown",
   "metadata": {},
   "source": [
    "ВАРИАНТ 2"
   ]
  },
  {
   "cell_type": "code",
   "execution_count": 17,
   "metadata": {},
   "outputs": [
    {
     "data": {
      "text/plain": [
       "63"
      ]
     },
     "execution_count": 17,
     "metadata": {},
     "output_type": "execute_result"
    }
   ],
   "source": [
    "runtime = data['runtime'].min()\n",
    "runtime"
   ]
  },
  {
   "cell_type": "code",
   "execution_count": 18,
   "metadata": {},
   "outputs": [
    {
     "data": {
      "text/html": [
       "<div>\n",
       "<style scoped>\n",
       "    .dataframe tbody tr th:only-of-type {\n",
       "        vertical-align: middle;\n",
       "    }\n",
       "\n",
       "    .dataframe tbody tr th {\n",
       "        vertical-align: top;\n",
       "    }\n",
       "\n",
       "    .dataframe thead th {\n",
       "        text-align: right;\n",
       "    }\n",
       "</style>\n",
       "<table border=\"1\" class=\"dataframe\">\n",
       "  <thead>\n",
       "    <tr style=\"text-align: right;\">\n",
       "      <th></th>\n",
       "      <th>imdb_id</th>\n",
       "      <th>budget</th>\n",
       "      <th>revenue</th>\n",
       "      <th>original_title</th>\n",
       "      <th>cast</th>\n",
       "      <th>director</th>\n",
       "      <th>tagline</th>\n",
       "      <th>overview</th>\n",
       "      <th>runtime</th>\n",
       "      <th>genres</th>\n",
       "      <th>production_companies</th>\n",
       "      <th>release_date</th>\n",
       "      <th>vote_average</th>\n",
       "      <th>release_year</th>\n",
       "      <th>profit</th>\n",
       "    </tr>\n",
       "  </thead>\n",
       "  <tbody>\n",
       "    <tr>\n",
       "      <th>768</th>\n",
       "      <td>tt1449283</td>\n",
       "      <td>30000000</td>\n",
       "      <td>14460000</td>\n",
       "      <td>Winnie the Pooh</td>\n",
       "      <td>Jim Cummings|Travis Oates|Jim Cummings|Bud Luc...</td>\n",
       "      <td>Stephen Anderson|Don Hall</td>\n",
       "      <td>Oh Pooh.</td>\n",
       "      <td>During an ordinary day in Hundred Acre Wood, W...</td>\n",
       "      <td>63</td>\n",
       "      <td>Animation|Family</td>\n",
       "      <td>Walt Disney Pictures|Walt Disney Animation Stu...</td>\n",
       "      <td>2011-04-13</td>\n",
       "      <td>6.8</td>\n",
       "      <td>2011</td>\n",
       "      <td>-15540000</td>\n",
       "    </tr>\n",
       "  </tbody>\n",
       "</table>\n",
       "</div>"
      ],
      "text/plain": [
       "       imdb_id    budget   revenue   original_title  \\\n",
       "768  tt1449283  30000000  14460000  Winnie the Pooh   \n",
       "\n",
       "                                                  cast  \\\n",
       "768  Jim Cummings|Travis Oates|Jim Cummings|Bud Luc...   \n",
       "\n",
       "                      director   tagline  \\\n",
       "768  Stephen Anderson|Don Hall  Oh Pooh.   \n",
       "\n",
       "                                              overview  runtime  \\\n",
       "768  During an ordinary day in Hundred Acre Wood, W...       63   \n",
       "\n",
       "               genres                               production_companies  \\\n",
       "768  Animation|Family  Walt Disney Pictures|Walt Disney Animation Stu...   \n",
       "\n",
       "    release_date  vote_average  release_year    profit  \n",
       "768   2011-04-13           6.8          2011 -15540000  "
      ]
     },
     "execution_count": 18,
     "metadata": {},
     "output_type": "execute_result"
    }
   ],
   "source": [
    "data.loc[(data['runtime'] == 63)]"
   ]
  },
  {
   "cell_type": "markdown",
   "metadata": {
    "colab_type": "text",
    "id": "TfQbxbfNVp-p"
   },
   "source": [
    "# 4. Какова средняя длительность фильмов?\n"
   ]
  },
  {
   "cell_type": "code",
   "execution_count": 19,
   "metadata": {},
   "outputs": [],
   "source": [
    "answers ['4'] = '2.110'\n",
    "# +"
   ]
  },
  {
   "cell_type": "code",
   "execution_count": 20,
   "metadata": {
    "colab": {},
    "colab_type": "code",
    "id": "5K6dKZYVVp-q"
   },
   "outputs": [
    {
     "data": {
      "text/plain": [
       "109.6585494970884"
      ]
     },
     "execution_count": 20,
     "metadata": {},
     "output_type": "execute_result"
    }
   ],
   "source": [
    "data['runtime'].mean()"
   ]
  },
  {
   "cell_type": "markdown",
   "metadata": {},
   "source": [
    "ВАРИАНТ 2"
   ]
  },
  {
   "cell_type": "code",
   "execution_count": 21,
   "metadata": {},
   "outputs": [
    {
     "name": "stdout",
     "output_type": "stream",
     "text": [
      "110\n"
     ]
    }
   ],
   "source": [
    "mean_film = round(data['runtime'].mean())\n",
    "print(mean_film)"
   ]
  },
  {
   "cell_type": "markdown",
   "metadata": {
    "colab_type": "text",
    "id": "r5TvbnT_Vp-u"
   },
   "source": [
    "# 5. Каково медианное значение длительности фильмов? "
   ]
  },
  {
   "cell_type": "code",
   "execution_count": 22,
   "metadata": {
    "colab": {},
    "colab_type": "code",
    "id": "iBROplKnVp-v"
   },
   "outputs": [],
   "source": [
    "answers ['5'] = '1.107' \n",
    "# +"
   ]
  },
  {
   "cell_type": "code",
   "execution_count": 23,
   "metadata": {},
   "outputs": [
    {
     "data": {
      "text/plain": [
       "107.0"
      ]
     },
     "execution_count": 23,
     "metadata": {},
     "output_type": "execute_result"
    }
   ],
   "source": [
    "data['runtime'].median()"
   ]
  },
  {
   "cell_type": "markdown",
   "metadata": {
    "colab_type": "text",
    "id": "39P-deDSVp-y"
   },
   "source": [
    "# 6. Какой самый прибыльный фильм?\n",
    "#### Внимание! Здесь и далее под «прибылью» или «убытками» понимается разность между сборами и бюджетом фильма. (прибыль = сборы - бюджет) в нашем датасете это будет (profit = revenue - budget) "
   ]
  },
  {
   "cell_type": "code",
   "execution_count": 24,
   "metadata": {
    "colab": {},
    "colab_type": "code",
    "id": "UYZh4T9WVp-y"
   },
   "outputs": [],
   "source": [
    "# лучше код получения столбца profit вынести в Предобработку что в начале\n",
    "data[\"profit\"] = data['revenue'] - data['budget']"
   ]
  },
  {
   "cell_type": "code",
   "execution_count": 25,
   "metadata": {},
   "outputs": [],
   "source": [
    "answers ['6'] = '5.Avatar(tt0499549)' \n",
    "# +"
   ]
  },
  {
   "cell_type": "code",
   "execution_count": 26,
   "metadata": {},
   "outputs": [
    {
     "data": {
      "text/html": [
       "<div>\n",
       "<style scoped>\n",
       "    .dataframe tbody tr th:only-of-type {\n",
       "        vertical-align: middle;\n",
       "    }\n",
       "\n",
       "    .dataframe tbody tr th {\n",
       "        vertical-align: top;\n",
       "    }\n",
       "\n",
       "    .dataframe thead th {\n",
       "        text-align: right;\n",
       "    }\n",
       "</style>\n",
       "<table border=\"1\" class=\"dataframe\">\n",
       "  <thead>\n",
       "    <tr style=\"text-align: right;\">\n",
       "      <th></th>\n",
       "      <th>imdb_id</th>\n",
       "      <th>budget</th>\n",
       "      <th>revenue</th>\n",
       "      <th>original_title</th>\n",
       "      <th>cast</th>\n",
       "      <th>director</th>\n",
       "      <th>tagline</th>\n",
       "      <th>overview</th>\n",
       "      <th>runtime</th>\n",
       "      <th>genres</th>\n",
       "      <th>production_companies</th>\n",
       "      <th>release_date</th>\n",
       "      <th>vote_average</th>\n",
       "      <th>release_year</th>\n",
       "      <th>profit</th>\n",
       "    </tr>\n",
       "  </thead>\n",
       "  <tbody>\n",
       "    <tr>\n",
       "      <th>239</th>\n",
       "      <td>tt0499549</td>\n",
       "      <td>237000000</td>\n",
       "      <td>2781505847</td>\n",
       "      <td>Avatar</td>\n",
       "      <td>Sam Worthington|Zoe Saldana|Sigourney Weaver|S...</td>\n",
       "      <td>James Cameron</td>\n",
       "      <td>Enter the World of Pandora.</td>\n",
       "      <td>In the 22nd century, a paraplegic Marine is di...</td>\n",
       "      <td>162</td>\n",
       "      <td>Action|Adventure|Fantasy|Science Fiction</td>\n",
       "      <td>Ingenious Film Partners|Twentieth Century Fox ...</td>\n",
       "      <td>2009-12-10</td>\n",
       "      <td>7.1</td>\n",
       "      <td>2009</td>\n",
       "      <td>2544505847</td>\n",
       "    </tr>\n",
       "  </tbody>\n",
       "</table>\n",
       "</div>"
      ],
      "text/plain": [
       "       imdb_id     budget     revenue original_title  \\\n",
       "239  tt0499549  237000000  2781505847         Avatar   \n",
       "\n",
       "                                                  cast       director  \\\n",
       "239  Sam Worthington|Zoe Saldana|Sigourney Weaver|S...  James Cameron   \n",
       "\n",
       "                         tagline  \\\n",
       "239  Enter the World of Pandora.   \n",
       "\n",
       "                                              overview  runtime  \\\n",
       "239  In the 22nd century, a paraplegic Marine is di...      162   \n",
       "\n",
       "                                       genres  \\\n",
       "239  Action|Adventure|Fantasy|Science Fiction   \n",
       "\n",
       "                                  production_companies release_date  \\\n",
       "239  Ingenious Film Partners|Twentieth Century Fox ...   2009-12-10   \n",
       "\n",
       "     vote_average  release_year      profit  \n",
       "239           7.1          2009  2544505847  "
      ]
     },
     "execution_count": 26,
     "metadata": {},
     "output_type": "execute_result"
    }
   ],
   "source": [
    "data[data.profit == data.profit.max()]"
   ]
  },
  {
   "cell_type": "markdown",
   "metadata": {},
   "source": [
    "ВАРИАНТ 2"
   ]
  },
  {
   "cell_type": "code",
   "execution_count": 27,
   "metadata": {},
   "outputs": [
    {
     "data": {
      "text/plain": [
       "2544505847"
      ]
     },
     "execution_count": 27,
     "metadata": {},
     "output_type": "execute_result"
    }
   ],
   "source": [
    "data['profit'].max()"
   ]
  },
  {
   "cell_type": "code",
   "execution_count": 28,
   "metadata": {},
   "outputs": [
    {
     "data": {
      "text/html": [
       "<div>\n",
       "<style scoped>\n",
       "    .dataframe tbody tr th:only-of-type {\n",
       "        vertical-align: middle;\n",
       "    }\n",
       "\n",
       "    .dataframe tbody tr th {\n",
       "        vertical-align: top;\n",
       "    }\n",
       "\n",
       "    .dataframe thead th {\n",
       "        text-align: right;\n",
       "    }\n",
       "</style>\n",
       "<table border=\"1\" class=\"dataframe\">\n",
       "  <thead>\n",
       "    <tr style=\"text-align: right;\">\n",
       "      <th></th>\n",
       "      <th>imdb_id</th>\n",
       "      <th>budget</th>\n",
       "      <th>revenue</th>\n",
       "      <th>original_title</th>\n",
       "      <th>cast</th>\n",
       "      <th>director</th>\n",
       "      <th>tagline</th>\n",
       "      <th>overview</th>\n",
       "      <th>runtime</th>\n",
       "      <th>genres</th>\n",
       "      <th>production_companies</th>\n",
       "      <th>release_date</th>\n",
       "      <th>vote_average</th>\n",
       "      <th>release_year</th>\n",
       "      <th>profit</th>\n",
       "    </tr>\n",
       "  </thead>\n",
       "  <tbody>\n",
       "    <tr>\n",
       "      <th>239</th>\n",
       "      <td>tt0499549</td>\n",
       "      <td>237000000</td>\n",
       "      <td>2781505847</td>\n",
       "      <td>Avatar</td>\n",
       "      <td>Sam Worthington|Zoe Saldana|Sigourney Weaver|S...</td>\n",
       "      <td>James Cameron</td>\n",
       "      <td>Enter the World of Pandora.</td>\n",
       "      <td>In the 22nd century, a paraplegic Marine is di...</td>\n",
       "      <td>162</td>\n",
       "      <td>Action|Adventure|Fantasy|Science Fiction</td>\n",
       "      <td>Ingenious Film Partners|Twentieth Century Fox ...</td>\n",
       "      <td>2009-12-10</td>\n",
       "      <td>7.1</td>\n",
       "      <td>2009</td>\n",
       "      <td>2544505847</td>\n",
       "    </tr>\n",
       "  </tbody>\n",
       "</table>\n",
       "</div>"
      ],
      "text/plain": [
       "       imdb_id     budget     revenue original_title  \\\n",
       "239  tt0499549  237000000  2781505847         Avatar   \n",
       "\n",
       "                                                  cast       director  \\\n",
       "239  Sam Worthington|Zoe Saldana|Sigourney Weaver|S...  James Cameron   \n",
       "\n",
       "                         tagline  \\\n",
       "239  Enter the World of Pandora.   \n",
       "\n",
       "                                              overview  runtime  \\\n",
       "239  In the 22nd century, a paraplegic Marine is di...      162   \n",
       "\n",
       "                                       genres  \\\n",
       "239  Action|Adventure|Fantasy|Science Fiction   \n",
       "\n",
       "                                  production_companies release_date  \\\n",
       "239  Ingenious Film Partners|Twentieth Century Fox ...   2009-12-10   \n",
       "\n",
       "     vote_average  release_year      profit  \n",
       "239           7.1          2009  2544505847  "
      ]
     },
     "execution_count": 28,
     "metadata": {},
     "output_type": "execute_result"
    }
   ],
   "source": [
    "data.loc[(data['profit'] == 2544505847)]"
   ]
  },
  {
   "cell_type": "markdown",
   "metadata": {},
   "source": [
    "ВАРИАНТ 3"
   ]
  },
  {
   "cell_type": "code",
   "execution_count": 29,
   "metadata": {},
   "outputs": [
    {
     "data": {
      "text/html": [
       "<div>\n",
       "<style scoped>\n",
       "    .dataframe tbody tr th:only-of-type {\n",
       "        vertical-align: middle;\n",
       "    }\n",
       "\n",
       "    .dataframe tbody tr th {\n",
       "        vertical-align: top;\n",
       "    }\n",
       "\n",
       "    .dataframe thead th {\n",
       "        text-align: right;\n",
       "    }\n",
       "</style>\n",
       "<table border=\"1\" class=\"dataframe\">\n",
       "  <thead>\n",
       "    <tr style=\"text-align: right;\">\n",
       "      <th></th>\n",
       "      <th>original_title</th>\n",
       "      <th>imdb_id</th>\n",
       "    </tr>\n",
       "  </thead>\n",
       "  <tbody>\n",
       "    <tr>\n",
       "      <th>239</th>\n",
       "      <td>Avatar</td>\n",
       "      <td>tt0499549</td>\n",
       "    </tr>\n",
       "  </tbody>\n",
       "</table>\n",
       "</div>"
      ],
      "text/plain": [
       "    original_title    imdb_id\n",
       "239         Avatar  tt0499549"
      ]
     },
     "execution_count": 29,
     "metadata": {},
     "output_type": "execute_result"
    }
   ],
   "source": [
    "data.sort_values(by=['profit'],ascending=False).head(1)[['original_title','imdb_id']]"
   ]
  },
  {
   "cell_type": "markdown",
   "metadata": {
    "colab_type": "text",
    "id": "M99JmIX4Vp-2"
   },
   "source": [
    "# 7. Какой фильм самый убыточный? "
   ]
  },
  {
   "cell_type": "code",
   "execution_count": 30,
   "metadata": {
    "colab": {},
    "colab_type": "code",
    "id": "w-D2m4XPVp-3"
   },
   "outputs": [],
   "source": [
    "answers ['7'] = '5.The Lone Ranger(tt1210819)' \n",
    "# +"
   ]
  },
  {
   "cell_type": "code",
   "execution_count": 31,
   "metadata": {},
   "outputs": [
    {
     "data": {
      "text/html": [
       "<div>\n",
       "<style scoped>\n",
       "    .dataframe tbody tr th:only-of-type {\n",
       "        vertical-align: middle;\n",
       "    }\n",
       "\n",
       "    .dataframe tbody tr th {\n",
       "        vertical-align: top;\n",
       "    }\n",
       "\n",
       "    .dataframe thead th {\n",
       "        text-align: right;\n",
       "    }\n",
       "</style>\n",
       "<table border=\"1\" class=\"dataframe\">\n",
       "  <thead>\n",
       "    <tr style=\"text-align: right;\">\n",
       "      <th></th>\n",
       "      <th>imdb_id</th>\n",
       "      <th>budget</th>\n",
       "      <th>revenue</th>\n",
       "      <th>original_title</th>\n",
       "      <th>cast</th>\n",
       "      <th>director</th>\n",
       "      <th>tagline</th>\n",
       "      <th>overview</th>\n",
       "      <th>runtime</th>\n",
       "      <th>genres</th>\n",
       "      <th>production_companies</th>\n",
       "      <th>release_date</th>\n",
       "      <th>vote_average</th>\n",
       "      <th>release_year</th>\n",
       "      <th>profit</th>\n",
       "    </tr>\n",
       "  </thead>\n",
       "  <tbody>\n",
       "    <tr>\n",
       "      <th>1245</th>\n",
       "      <td>tt1210819</td>\n",
       "      <td>255000000</td>\n",
       "      <td>89289910</td>\n",
       "      <td>The Lone Ranger</td>\n",
       "      <td>Johnny Depp|Armie Hammer|William Fichtner|Hele...</td>\n",
       "      <td>Gore Verbinski</td>\n",
       "      <td>Never Take Off the Mask</td>\n",
       "      <td>The Texas Rangers chase down a gang of outlaws...</td>\n",
       "      <td>149</td>\n",
       "      <td>Action|Adventure|Western</td>\n",
       "      <td>Walt Disney Pictures|Jerry Bruckheimer Films|I...</td>\n",
       "      <td>2013-07-03</td>\n",
       "      <td>6.0</td>\n",
       "      <td>2013</td>\n",
       "      <td>-165710090</td>\n",
       "    </tr>\n",
       "  </tbody>\n",
       "</table>\n",
       "</div>"
      ],
      "text/plain": [
       "        imdb_id     budget   revenue   original_title  \\\n",
       "1245  tt1210819  255000000  89289910  The Lone Ranger   \n",
       "\n",
       "                                                   cast        director  \\\n",
       "1245  Johnny Depp|Armie Hammer|William Fichtner|Hele...  Gore Verbinski   \n",
       "\n",
       "                      tagline  \\\n",
       "1245  Never Take Off the Mask   \n",
       "\n",
       "                                               overview  runtime  \\\n",
       "1245  The Texas Rangers chase down a gang of outlaws...      149   \n",
       "\n",
       "                        genres  \\\n",
       "1245  Action|Adventure|Western   \n",
       "\n",
       "                                   production_companies release_date  \\\n",
       "1245  Walt Disney Pictures|Jerry Bruckheimer Films|I...   2013-07-03   \n",
       "\n",
       "      vote_average  release_year     profit  \n",
       "1245           6.0          2013 -165710090  "
      ]
     },
     "execution_count": 31,
     "metadata": {},
     "output_type": "execute_result"
    }
   ],
   "source": [
    "data[data.profit == data.profit.min()]"
   ]
  },
  {
   "cell_type": "markdown",
   "metadata": {},
   "source": [
    "ВАРИАНТ 2"
   ]
  },
  {
   "cell_type": "code",
   "execution_count": 32,
   "metadata": {},
   "outputs": [
    {
     "data": {
      "text/html": [
       "<div>\n",
       "<style scoped>\n",
       "    .dataframe tbody tr th:only-of-type {\n",
       "        vertical-align: middle;\n",
       "    }\n",
       "\n",
       "    .dataframe tbody tr th {\n",
       "        vertical-align: top;\n",
       "    }\n",
       "\n",
       "    .dataframe thead th {\n",
       "        text-align: right;\n",
       "    }\n",
       "</style>\n",
       "<table border=\"1\" class=\"dataframe\">\n",
       "  <thead>\n",
       "    <tr style=\"text-align: right;\">\n",
       "      <th></th>\n",
       "      <th>original_title</th>\n",
       "      <th>imdb_id</th>\n",
       "    </tr>\n",
       "  </thead>\n",
       "  <tbody>\n",
       "    <tr>\n",
       "      <th>1245</th>\n",
       "      <td>The Lone Ranger</td>\n",
       "      <td>tt1210819</td>\n",
       "    </tr>\n",
       "  </tbody>\n",
       "</table>\n",
       "</div>"
      ],
      "text/plain": [
       "       original_title    imdb_id\n",
       "1245  The Lone Ranger  tt1210819"
      ]
     },
     "execution_count": 32,
     "metadata": {},
     "output_type": "execute_result"
    }
   ],
   "source": [
    "data.sort_values(by=['profit']).head(1)[['original_title','imdb_id']]"
   ]
  },
  {
   "cell_type": "markdown",
   "metadata": {
    "colab_type": "text",
    "id": "wEOM5ERVVp-6"
   },
   "source": [
    "# 8. У скольких фильмов из датасета объем сборов оказался выше бюджета?"
   ]
  },
  {
   "cell_type": "code",
   "execution_count": 33,
   "metadata": {
    "colab": {},
    "colab_type": "code",
    "id": "y00_7HD6Vp-7"
   },
   "outputs": [],
   "source": [
    "answers ['8'] = '1.1478'\n",
    "# +"
   ]
  },
  {
   "cell_type": "code",
   "execution_count": 34,
   "metadata": {},
   "outputs": [
    {
     "data": {
      "text/plain": [
       "1478"
      ]
     },
     "execution_count": 34,
     "metadata": {},
     "output_type": "execute_result"
    }
   ],
   "source": [
    "hight_profit = data.query('profit>0')\n",
    "len(hight_profit)"
   ]
  },
  {
   "cell_type": "markdown",
   "metadata": {},
   "source": [
    "ВАРИАНТ 2"
   ]
  },
  {
   "cell_type": "code",
   "execution_count": 35,
   "metadata": {},
   "outputs": [
    {
     "data": {
      "text/plain": [
       "1478"
      ]
     },
     "execution_count": 35,
     "metadata": {},
     "output_type": "execute_result"
    }
   ],
   "source": [
    "len(data[data['profit'] > 0])"
   ]
  },
  {
   "cell_type": "markdown",
   "metadata": {},
   "source": [
    "ВАРИАНТ 3"
   ]
  },
  {
   "cell_type": "code",
   "execution_count": 36,
   "metadata": {},
   "outputs": [
    {
     "data": {
      "text/plain": [
       "1478"
      ]
     },
     "execution_count": 36,
     "metadata": {},
     "output_type": "execute_result"
    }
   ],
   "source": [
    "len(data[data.revenue > data.budget])"
   ]
  },
  {
   "cell_type": "markdown",
   "metadata": {
    "colab_type": "text",
    "id": "xhpspA9KVp_A"
   },
   "source": [
    "# 9. Какой фильм оказался самым кассовым в 2008 году?"
   ]
  },
  {
   "cell_type": "code",
   "execution_count": 37,
   "metadata": {
    "colab": {},
    "colab_type": "code",
    "id": "MoUyQr9RVp_B"
   },
   "outputs": [],
   "source": [
    "answers ['9'] = '4.The Dark Knight(tt0468569)'\n",
    "# +"
   ]
  },
  {
   "cell_type": "code",
   "execution_count": 38,
   "metadata": {},
   "outputs": [
    {
     "data": {
      "text/html": [
       "<div>\n",
       "<style scoped>\n",
       "    .dataframe tbody tr th:only-of-type {\n",
       "        vertical-align: middle;\n",
       "    }\n",
       "\n",
       "    .dataframe tbody tr th {\n",
       "        vertical-align: top;\n",
       "    }\n",
       "\n",
       "    .dataframe thead th {\n",
       "        text-align: right;\n",
       "    }\n",
       "</style>\n",
       "<table border=\"1\" class=\"dataframe\">\n",
       "  <thead>\n",
       "    <tr style=\"text-align: right;\">\n",
       "      <th></th>\n",
       "      <th>imdb_id</th>\n",
       "      <th>budget</th>\n",
       "      <th>revenue</th>\n",
       "      <th>original_title</th>\n",
       "      <th>cast</th>\n",
       "      <th>director</th>\n",
       "      <th>tagline</th>\n",
       "      <th>overview</th>\n",
       "      <th>runtime</th>\n",
       "      <th>genres</th>\n",
       "      <th>production_companies</th>\n",
       "      <th>release_date</th>\n",
       "      <th>vote_average</th>\n",
       "      <th>release_year</th>\n",
       "      <th>profit</th>\n",
       "    </tr>\n",
       "  </thead>\n",
       "  <tbody>\n",
       "    <tr>\n",
       "      <th>599</th>\n",
       "      <td>tt0468569</td>\n",
       "      <td>185000000</td>\n",
       "      <td>1001921825</td>\n",
       "      <td>The Dark Knight</td>\n",
       "      <td>Christian Bale|Michael Caine|Heath Ledger|Aaro...</td>\n",
       "      <td>Christopher Nolan</td>\n",
       "      <td>Why So Serious?</td>\n",
       "      <td>Batman raises the stakes in his war on crime. ...</td>\n",
       "      <td>152</td>\n",
       "      <td>Drama|Action|Crime|Thriller</td>\n",
       "      <td>DC Comics|Legendary Pictures|Warner Bros.|Syncopy</td>\n",
       "      <td>2008-07-16</td>\n",
       "      <td>8.1</td>\n",
       "      <td>2008</td>\n",
       "      <td>816921825</td>\n",
       "    </tr>\n",
       "  </tbody>\n",
       "</table>\n",
       "</div>"
      ],
      "text/plain": [
       "       imdb_id     budget     revenue   original_title  \\\n",
       "599  tt0468569  185000000  1001921825  The Dark Knight   \n",
       "\n",
       "                                                  cast           director  \\\n",
       "599  Christian Bale|Michael Caine|Heath Ledger|Aaro...  Christopher Nolan   \n",
       "\n",
       "             tagline                                           overview  \\\n",
       "599  Why So Serious?  Batman raises the stakes in his war on crime. ...   \n",
       "\n",
       "     runtime                       genres  \\\n",
       "599      152  Drama|Action|Crime|Thriller   \n",
       "\n",
       "                                  production_companies release_date  \\\n",
       "599  DC Comics|Legendary Pictures|Warner Bros.|Syncopy   2008-07-16   \n",
       "\n",
       "     vote_average  release_year     profit  \n",
       "599           8.1          2008  816921825  "
      ]
     },
     "execution_count": 38,
     "metadata": {},
     "output_type": "execute_result"
    }
   ],
   "source": [
    "data.loc[data.release_year == 2008].sort_values(by='profit', ascending=False).head(1)"
   ]
  },
  {
   "cell_type": "markdown",
   "metadata": {},
   "source": [
    "ВАРИАНТ 2"
   ]
  },
  {
   "cell_type": "code",
   "execution_count": 39,
   "metadata": {},
   "outputs": [
    {
     "data": {
      "text/plain": [
       "'The Dark Knight'"
      ]
     },
     "execution_count": 39,
     "metadata": {},
     "output_type": "execute_result"
    }
   ],
   "source": [
    "data.loc[data.release_year==2008] \\\n",
    "        .sort_values(by='profit',ascending=False) \\\n",
    "        .head(1)['original_title'].values[0]"
   ]
  },
  {
   "cell_type": "markdown",
   "metadata": {
    "colab_type": "text",
    "id": "Zi4hDKidVp_F"
   },
   "source": [
    "# 10. Самый убыточный фильм за период с 2012 по 2014 г. (включительно)?\n"
   ]
  },
  {
   "cell_type": "code",
   "execution_count": 40,
   "metadata": {
    "colab": {},
    "colab_type": "code",
    "id": "XqyRmufJVp_F"
   },
   "outputs": [],
   "source": [
    "answers ['10'] = '5.The Lone Ranger(tt1210819)'\n",
    "# +"
   ]
  },
  {
   "cell_type": "code",
   "execution_count": 41,
   "metadata": {},
   "outputs": [
    {
     "data": {
      "text/plain": [
       "'The Lone Ranger'"
      ]
     },
     "execution_count": 41,
     "metadata": {},
     "output_type": "execute_result"
    }
   ],
   "source": [
    "data[(data.release_year > 2012) & (data.release_year <= 2014)] \\\n",
    "    .sort_values('profit',ascending=True) \\\n",
    "    .head(1)['original_title'].values[0]"
   ]
  },
  {
   "cell_type": "markdown",
   "metadata": {},
   "source": [
    "ВАРИАНТ 2"
   ]
  },
  {
   "cell_type": "code",
   "execution_count": 42,
   "metadata": {},
   "outputs": [
    {
     "data": {
      "text/html": [
       "<div>\n",
       "<style scoped>\n",
       "    .dataframe tbody tr th:only-of-type {\n",
       "        vertical-align: middle;\n",
       "    }\n",
       "\n",
       "    .dataframe tbody tr th {\n",
       "        vertical-align: top;\n",
       "    }\n",
       "\n",
       "    .dataframe thead th {\n",
       "        text-align: right;\n",
       "    }\n",
       "</style>\n",
       "<table border=\"1\" class=\"dataframe\">\n",
       "  <thead>\n",
       "    <tr style=\"text-align: right;\">\n",
       "      <th></th>\n",
       "      <th>imdb_id</th>\n",
       "      <th>revenue</th>\n",
       "      <th>profit</th>\n",
       "      <th>original_title</th>\n",
       "    </tr>\n",
       "  </thead>\n",
       "  <tbody>\n",
       "    <tr>\n",
       "      <th>1245</th>\n",
       "      <td>tt1210819</td>\n",
       "      <td>89289910</td>\n",
       "      <td>-165710090</td>\n",
       "      <td>The Lone Ranger</td>\n",
       "    </tr>\n",
       "  </tbody>\n",
       "</table>\n",
       "</div>"
      ],
      "text/plain": [
       "        imdb_id   revenue     profit   original_title\n",
       "1245  tt1210819  89289910 -165710090  The Lone Ranger"
      ]
     },
     "execution_count": 42,
     "metadata": {},
     "output_type": "execute_result"
    }
   ],
   "source": [
    "data.loc[(data.release_year > 2012) & (data.release_year <= 2014)] \\\n",
    "        [['imdb_id', 'revenue', 'profit','original_title']] \\\n",
    "        .sort_values('profit',ascending=True).head(1)"
   ]
  },
  {
   "cell_type": "markdown",
   "metadata": {
    "colab_type": "text",
    "id": "EA7Sa9dkVp_I"
   },
   "source": [
    "# 11. Какого жанра фильмов больше всего?"
   ]
  },
  {
   "cell_type": "markdown",
   "metadata": {
    "colab": {},
    "colab_type": "code",
    "id": "zsJAwJ8QVp_J"
   },
   "source": [
    "эту задачу тоже можно решать разными подходами, попробуй реализовать разные варианты\n",
    "если будешь добавлять функцию - выноси ее в предобработку что в начале"
   ]
  },
  {
   "cell_type": "code",
   "execution_count": 43,
   "metadata": {},
   "outputs": [],
   "source": [
    "answers ['11'] = '3.Drama'\n",
    "# +"
   ]
  },
  {
   "cell_type": "code",
   "execution_count": 44,
   "metadata": {
    "scrolled": true
   },
   "outputs": [
    {
     "data": {
      "text/plain": [
       "array(['Action|Adventure|Science Fiction|Thriller',\n",
       "       'Adventure|Science Fiction|Thriller',\n",
       "       'Action|Adventure|Science Fiction|Fantasy',\n",
       "       'Action|Crime|Thriller', 'Western|Drama|Adventure|Thriller',\n",
       "       'Science Fiction|Action|Thriller|Adventure',\n",
       "       'Drama|Adventure|Science Fiction',\n",
       "       'Family|Animation|Adventure|Comedy', 'Comedy|Animation|Family',\n",
       "       'Action|Adventure|Crime',\n",
       "       'Science Fiction|Fantasy|Action|Adventure',\n",
       "       'Drama|Science Fiction', 'Action|Comedy|Science Fiction',\n",
       "       'Action|Adventure|Science Fiction', 'Crime|Drama|Mystery|Western',\n",
       "       'Crime|Action|Thriller', 'Science Fiction|Action|Adventure',\n",
       "       'Romance|Fantasy|Family|Drama', 'War|Adventure|Science Fiction',\n",
       "       'Action|Family|Science Fiction|Adventure|Mystery', 'Action|Drama',\n",
       "       'Action|Drama|Thriller', 'Drama|Romance', 'Comedy|Drama', 'Action',\n",
       "       'Comedy', 'Crime|Comedy|Action|Adventure',\n",
       "       'Drama|Thriller|History', 'Action|Science Fiction|Thriller',\n",
       "       'Crime|Action|Science Fiction', 'Comedy|Music', 'Thriller|Drama',\n",
       "       'Adventure|Horror|Comedy', 'Drama|Thriller',\n",
       "       'Adventure|Animation|Comedy|Family|Fantasy',\n",
       "       'Action|Crime|Drama|Mystery|Thriller', 'Drama|Music',\n",
       "       'Fantasy|Action|Adventure', 'Comedy|Action|Adventure',\n",
       "       'Fantasy|Drama|Romance',\n",
       "       'Fantasy|Comedy|Animation|Science Fiction|Family',\n",
       "       'Drama|Mystery|Romance', 'Romance|Drama', 'Adventure|Drama',\n",
       "       'Drama', 'Science Fiction|Mystery|Thriller', 'Comedy|Adventure',\n",
       "       'Mystery|Crime|Action|Thriller|Drama', 'Action|Comedy|Crime',\n",
       "       'Romance|Comedy|Crime|Drama',\n",
       "       'Thriller|Drama|Adventure|Action|History', 'Drama|Thriller|War',\n",
       "       'Crime|Thriller', 'Adventure|Family|Fantasy',\n",
       "       'Adventure|Animation|Comedy|Family', 'Animation|Comedy|Family',\n",
       "       'Family|Comedy', 'Adventure|Drama|Thriller', 'Adventure|Comedy',\n",
       "       'Horror|Thriller', 'Thriller|Mystery',\n",
       "       'Adventure|Animation|Fantasy', 'Romance|Comedy', 'Horror',\n",
       "       'Action|Adventure|Comedy|Family', 'Crime|Drama',\n",
       "       'Horror|Comedy|Fantasy', 'Action|Thriller',\n",
       "       'Science Fiction|Thriller', 'Thriller|Action|Crime',\n",
       "       'Mystery|Thriller|Fantasy|Horror|Drama', 'Comedy|Drama|Music',\n",
       "       'Crime|Drama|Mystery', 'Family|Animation',\n",
       "       'Adventure|Drama|Family', 'Action|Drama|Crime',\n",
       "       'Action|Crime|Comedy', 'Drama|Horror|Thriller',\n",
       "       'Drama|Science Fiction|Thriller', 'Drama|Comedy', 'Drama|History',\n",
       "       'Drama|Music|Romance', 'Comedy|Drama|War',\n",
       "       'Adventure|Comedy|Romance', 'Comedy|Music|War',\n",
       "       'Drama|Adventure|Comedy', 'Drama|Music|Adventure|Fantasy',\n",
       "       'Adventure|Drama|Science Fiction',\n",
       "       'Action|Science Fiction|Adventure',\n",
       "       'Science Fiction|Adventure|Thriller', 'Adventure|Fantasy',\n",
       "       'Adventure|Family|Animation|Action|Comedy',\n",
       "       'History|Drama|Thriller|War',\n",
       "       'Action|Mystery|Science Fiction|Thriller',\n",
       "       'Mystery|Thriller|Drama', 'War|Drama|Action',\n",
       "       'Adventure|Comedy|Fantasy|Family',\n",
       "       'Action|Adventure|Fantasy|Science Fiction',\n",
       "       'Action|Science Fiction',\n",
       "       'Science Fiction|Action|Adventure|Fantasy|Comedy',\n",
       "       'Crime|Drama|Thriller', 'Science Fiction|Action|Drama|Thriller',\n",
       "       'Action|Adventure|Fantasy', 'Action|Comedy', 'War|Action',\n",
       "       'Adventure|Drama|Action',\n",
       "       'Fantasy|Adventure|Action|Family|Romance',\n",
       "       'Fantasy|Action|Adventure|Animation|Comedy',\n",
       "       'Action|Adventure|Thriller',\n",
       "       'Adventure|Fantasy|Animation|Comedy|Action',\n",
       "       'Horror|Action|Drama|Fantasy|War', 'Fantasy|Comedy|Music',\n",
       "       'Action|War', 'Crime|Comedy|Action',\n",
       "       'Crime|Drama|Mystery|Thriller', 'Thriller|Action|Science Fiction',\n",
       "       'Action|Thriller|Crime|Drama', 'Action|Adventure',\n",
       "       'Drama|Adventure', 'Romance|Drama|Music',\n",
       "       'Comedy|Romance|Crime|Drama|Mystery', 'Action|Thriller|Mystery',\n",
       "       'Science Fiction|Action', 'Thriller|Science Fiction|Drama|Mystery',\n",
       "       'Comedy|Romance', 'Animation|Adventure|Family',\n",
       "       'Animation|Adventure|Comedy|Family', 'War|Drama|History|Action',\n",
       "       'Drama|War', 'History|Drama',\n",
       "       'Action|Adventure|History|Romance|Drama',\n",
       "       'Music|Comedy|Drama|Family', 'Action|Crime|Drama|Thriller',\n",
       "       'Animation|Comedy|Family|Fantasy', 'Thriller|Action',\n",
       "       'Animation|Comedy|Adventure|Family', 'Action|Drama|Thriller|Crime',\n",
       "       'Thriller', 'Drama|Romance|War', 'Action|Crime|Drama',\n",
       "       'Drama|Fantasy|Mystery|Romance', 'Mystery|Thriller|Action',\n",
       "       'War|Drama', 'Thriller|Science Fiction|Drama',\n",
       "       'Comedy|Drama|Crime', 'Thriller|Crime|Drama|Mystery',\n",
       "       'Family|Drama', 'Comedy|Adventure|Crime|Family',\n",
       "       'Family|Adventure|Science Fiction', 'Thriller|Crime|Drama',\n",
       "       'Drama|Action|Thriller|War',\n",
       "       'Fantasy|Action|Adventure|Science Fiction|Thriller',\n",
       "       'Adventure|Fantasy|Family', 'Animation|Comedy|Family|Adventure',\n",
       "       'Drama|Action|Thriller|Science Fiction',\n",
       "       'Action|Thriller|Science Fiction',\n",
       "       'Adventure|Drama|Action|Comedy|Thriller', 'Comedy|Drama|Romance',\n",
       "       'Action|Mystery|Science Fiction',\n",
       "       'Action|Adventure|Animation|Science Fiction|Thriller',\n",
       "       'Romance|Family|Animation|Music', 'Comedy|Horror',\n",
       "       'Adventure|Fantasy|Drama|Romance', 'Comedy|Romance|Drama',\n",
       "       'Adventure|Action|Thriller|Science Fiction', 'Animation|Family',\n",
       "       'Adventure|Fantasy|Action|Comedy|Family', 'Animation|Drama',\n",
       "       'Fantasy|Drama', 'Drama|Family', 'Drama|Crime|Thriller',\n",
       "       'Thriller|Science Fiction', 'Action|Thriller|Crime',\n",
       "       'Action|Horror|Mystery|Science Fiction|Thriller',\n",
       "       'Action|Adventure|Drama|Mystery|Science Fiction',\n",
       "       'Science Fiction|Drama', 'Fantasy|Action|Adventure|Family|Comedy',\n",
       "       'Thriller|Drama|Crime', 'Comedy|Romance|Fantasy',\n",
       "       'Science Fiction|Drama|Romance|Fantasy',\n",
       "       'Animation|Family|Adventure|Science Fiction',\n",
       "       'Drama|Thriller|Mystery', 'History|Crime|Drama',\n",
       "       'Horror|Thriller|Mystery', 'Horror|Mystery',\n",
       "       'Comedy|Family|Animation|Fantasy|Music',\n",
       "       'Comedy|Crime|Drama|Thriller',\n",
       "       'Adventure|Family|Fantasy|Science Fiction|Thriller',\n",
       "       'Horror|Mystery|Thriller',\n",
       "       'Fantasy|Horror|Action|Thriller|Science Fiction',\n",
       "       'Drama|History|Romance', 'Thriller|Mystery|Adventure',\n",
       "       'Action|Crime|Mystery|Thriller', 'Action|Adventure|Drama|Thriller',\n",
       "       'Drama|Comedy|Romance', 'Comedy|War', 'Comedy|Drama|Family|Music',\n",
       "       'Adventure|Comedy|Science Fiction',\n",
       "       'Science Fiction|Animation|Family|Comedy|Adventure',\n",
       "       'Mystery|Horror', 'Comedy|Family', 'Adventure|Drama|History',\n",
       "       'Drama|Crime', 'Adventure|Fantasy|Action|Thriller',\n",
       "       'Animation|Action|Family|Science Fiction', 'Drama|Thriller|Crime',\n",
       "       'Documentary', 'Comedy|Drama|Family|Music|Romance',\n",
       "       'Adventure|Comedy|Family|Fantasy|Science Fiction',\n",
       "       'Thriller|Crime|Drama|Action',\n",
       "       'Adventure|Fantasy|Action|Science Fiction',\n",
       "       'Action|Thriller|Science Fiction|Mystery|Adventure',\n",
       "       'Adventure|Action|Science Fiction', 'Family|Fantasy|Adventure',\n",
       "       'Drama|Mystery|Thriller', 'Action|Animation|Family',\n",
       "       'Fantasy|Adventure|Animation|Family', 'Animation|Family|Comedy',\n",
       "       'Action|Thriller|Crime|Mystery', 'Action|Crime',\n",
       "       'Action|Thriller|Romance', 'Adventure|Fantasy|Action|Romance',\n",
       "       'Drama|Adventure|Western', 'Adventure|Fantasy|Action',\n",
       "       'Fantasy|Adventure|Action|Comedy|Drama', 'Action|Adventure|Comedy',\n",
       "       'Action|Science Fiction|Adventure|Thriller',\n",
       "       'Comedy|Adventure|Fantasy|Animation|Family',\n",
       "       'Thriller|Action|Adventure|Comedy|Crime',\n",
       "       'Action|Adventure|Comedy|Crime|Thriller', 'Action|Comedy|Thriller',\n",
       "       'Animation|Action|Comedy|Family|Science Fiction',\n",
       "       'Action|Adventure|Family|Fantasy', 'Drama|Adventure|History',\n",
       "       'Action|Science Fiction|Thriller|Crime', 'Fantasy|Horror|Thriller',\n",
       "       'Horror|Crime', 'Action|Adventure|Drama|Family',\n",
       "       'Romance|Drama|Thriller|Crime',\n",
       "       'Action|Western|Drama|Fantasy|Thriller', 'Horror|Comedy',\n",
       "       'Action|Comedy|Thriller|Romance', 'Fantasy|Comedy',\n",
       "       'Science Fiction|Comedy|Adventure', 'Drama|Horror|Mystery',\n",
       "       'Animation|Adventure|Family|Fantasy',\n",
       "       'Drama|Romance|Science Fiction', 'Drama|Action|Thriller',\n",
       "       'Comedy|Family|Fantasy', 'Science Fiction', 'Action|Comedy|Family',\n",
       "       'Drama|Fantasy', 'Drama|Horror|Mystery|Thriller',\n",
       "       'Crime|Drama|History', 'Mystery|Horror|Action',\n",
       "       'Comedy|Family|Animation|Adventure', 'Action|Adventure|Drama',\n",
       "       'Action|Comedy|Horror|Mystery|Science Fiction', 'Comedy|Thriller',\n",
       "       'Action|Adventure|Horror|Science Fiction',\n",
       "       'Drama|Comedy|Romance|Foreign', 'Thriller|Drama|Mystery',\n",
       "       'Fantasy|Animation|Family|Comedy',\n",
       "       'Drama|Science Fiction|Adventure', 'Thriller|Crime',\n",
       "       'History|Romance|War', 'Action|Adventure|Drama|Fantasy|Horror',\n",
       "       'Comedy|Family|Romance',\n",
       "       'Thriller|Science Fiction|Action|Adventure', 'War',\n",
       "       'Action|History|War', 'Adventure|Drama|Romance|Action',\n",
       "       'Action|Comedy|Crime|Thriller', 'Horror|Drama|Mystery|Thriller',\n",
       "       'Adventure|Fantasy|Animation|Action|Comedy',\n",
       "       'Drama|Mystery|Romance|Science Fiction|Thriller',\n",
       "       'Adventure|Action|Animation|Fantasy|Science Fiction',\n",
       "       'Drama|Thriller|Mystery|Romance', 'Comedy|Family|Romance|Fantasy',\n",
       "       'Action|Drama|Thriller|War', 'Crime|Mystery|Thriller|Action',\n",
       "       'Horror|Science Fiction', 'Action|Comedy|Crime|Romance',\n",
       "       'Music|Drama|Comedy', 'Drama|Romance|Thriller', 'Drama|Mystery',\n",
       "       'Mystery|Adventure|Comedy|Romance|Drama',\n",
       "       'Action|Adventure|Comedy|Thriller|Crime',\n",
       "       'Action|Horror|Science Fiction', 'Comedy|Romance|Crime',\n",
       "       'Adventure|Animation|Action|Comedy|Family',\n",
       "       'Drama|Family|Romance|Music', 'Action|Comedy|Family|Adventure',\n",
       "       'Action|Western', 'Crime|Drama|Thriller|Horror',\n",
       "       'Mystery|Thriller|Crime', 'Comedy|Family|Fantasy|Science Fiction',\n",
       "       'Crime|Comedy', 'Action|Horror|Thriller', 'Drama|Comedy|Crime',\n",
       "       'Drama|Action|Crime|Thriller', 'Adventure|Action',\n",
       "       'Adventure|Action|Thriller|Crime',\n",
       "       'Fantasy|Drama|Thriller|Mystery|Romance',\n",
       "       'Adventure|Fantasy|Science Fiction',\n",
       "       'Action|Science Fiction|Adventure|Comedy|Family',\n",
       "       'Action|Adventure|Thriller|Crime', 'Drama|Thriller|History|War',\n",
       "       'Adventure|Action|Drama|Fantasy', 'Fantasy|Action',\n",
       "       'Music|Drama|Romance', 'Animation|Family|Adventure|Comedy',\n",
       "       'Drama|Action', 'Fantasy|Comedy|Family|Romance',\n",
       "       'Drama|Action|Thriller|Crime', 'Comedy|Drama|Music|Romance',\n",
       "       'Horror|Thriller|Crime', 'Family|Action|Science Fiction',\n",
       "       'Animation|Comedy|Family|Adventure|Fantasy',\n",
       "       'Action|Adventure|Crime|Drama|Thriller', 'Thriller|Crime|Mystery',\n",
       "       'Comedy|Action', 'Action|Drama|History|War',\n",
       "       'Thriller|Horror|Mystery', 'Fantasy|Action|Science Fiction',\n",
       "       'Drama|Mystery|Science Fiction|Thriller',\n",
       "       'Drama|Thriller|Crime|Mystery',\n",
       "       'Action|Comedy|Thriller|Crime|Science Fiction',\n",
       "       'Adventure|Fantasy|Drama|Science Fiction|Romance',\n",
       "       'Adventure|Comedy|Family', 'Adventure|Comedy|Drama|Romance',\n",
       "       'Comedy|Science Fiction|Adventure|Family',\n",
       "       'Horror|Science Fiction|Thriller',\n",
       "       'Mystery|Drama|Crime|Thriller|Horror',\n",
       "       'Adventure|Comedy|Family|Fantasy', 'Adventure|Action|Fantasy',\n",
       "       'Thriller|Action|Drama|Science Fiction',\n",
       "       'Fantasy|Thriller|Action|Crime',\n",
       "       'Thriller|Science Fiction|Mystery', 'Action|Thriller|Adventure',\n",
       "       'Thriller|Crime|Mystery|Drama', 'Thriller|Mystery|Science Fiction',\n",
       "       'Comedy|Crime', 'Action|Science Fiction|Drama',\n",
       "       'Adventure|Action|Crime|Mystery',\n",
       "       'Adventure|Animation|Action|Family|Mystery',\n",
       "       'Action|Fantasy|Thriller', 'Adventure|Fantasy|Romance',\n",
       "       'Action|Thriller|Science Fiction|Adventure',\n",
       "       'Comedy|Romance|Family', 'Action|Science Fiction|Thriller|Western',\n",
       "       'Animation|Comedy|Family|Western|Adventure',\n",
       "       'Drama|Thriller|Horror', 'Adventure|Action|Thriller|Comedy',\n",
       "       'Action|Fantasy|Horror|Science Fiction|Thriller',\n",
       "       'Thriller|Action|Mystery', 'Action|Mystery|Thriller',\n",
       "       'Thriller|Romance|Fantasy', 'Fantasy|Action|Drama',\n",
       "       'Drama|Comedy|Family', 'Horror|Action|Thriller|Science Fiction',\n",
       "       'Thriller|Drama|Horror',\n",
       "       'Action|Adventure|Animation|Family|Fantasy',\n",
       "       'Crime|Adventure|Action|Comedy|Thriller',\n",
       "       'Drama|Thriller|Science Fiction', 'Drama|Fantasy|Romance',\n",
       "       'Horror|Science Fiction|Mystery|Thriller',\n",
       "       'Adventure|Fantasy|Action|Comedy',\n",
       "       'Horror|Thriller|Science Fiction', 'Music|Family|Animation|Comedy',\n",
       "       'Adventure|Animation|Family',\n",
       "       'Comedy|Fantasy|Family|Music|Animation',\n",
       "       'Animation|Family|Adventure|Comedy|Fantasy', 'Animation',\n",
       "       'Action|Comedy|Thriller|Crime', 'Comedy|Family|Music',\n",
       "       'Drama|Crime|History', 'Action|Comedy|Adventure',\n",
       "       'Drama|Action|Thriller|Crime|War',\n",
       "       'Drama|Thriller|Science Fiction|Mystery',\n",
       "       'Documentary|Music|Family', 'Action|Drama|Mystery|Thriller',\n",
       "       'Horror|Action|Science Fiction',\n",
       "       'Action|Adventure|Comedy|Science Fiction',\n",
       "       'Action|Thriller|Science Fiction|Mystery',\n",
       "       'Adventure|Animation|Family|Fantasy|Science Fiction',\n",
       "       'Adventure|Action|Thriller',\n",
       "       'Science Fiction|Horror|Action|Thriller', 'Drama|History|Crime',\n",
       "       'Family|Adventure|Animation|Comedy', 'Drama|Family|Romance',\n",
       "       'Action|Thriller|Drama',\n",
       "       'Science Fiction|Action|Adventure|Thriller',\n",
       "       'Science Fiction|Comedy|Crime|Action', 'Fantasy|Comedy|Family',\n",
       "       'Crime|Mystery|Thriller', 'Mystery|Adventure|Comedy',\n",
       "       'Western|Animation|Adventure|Comedy|Family',\n",
       "       'Action|Fantasy|Adventure', 'Action|Adventure|Comedy|Thriller',\n",
       "       'Comedy|Crime|Drama', 'Science Fiction|Adventure|Action',\n",
       "       'Drama|Action|History|War', 'Action|Adventure|Crime|Thriller',\n",
       "       'Thriller|Drama|History', 'Drama|Fantasy|Horror',\n",
       "       'Adventure|Fantasy|Animation|Family',\n",
       "       'Action|Comedy|Crime|Drama|Music', 'Thriller|Crime|Romance',\n",
       "       'Action|Fantasy|Science Fiction|Thriller',\n",
       "       'Drama|Mystery|Thriller|Crime', 'Adventure',\n",
       "       'Drama|Science Fiction|Mystery|Romance',\n",
       "       'War|Adventure|Drama|Romance', 'Drama|Mystery|Thriller|Horror',\n",
       "       'Comedy|Crime|Drama|Romance|Thriller',\n",
       "       'Adventure|Family|Science Fiction|Thriller',\n",
       "       'Action|Adventure|Comedy|Drama|Family', 'Crime|Thriller|Horror',\n",
       "       'Drama|Romance|Comedy|Music', 'Fantasy|Action|Horror',\n",
       "       'Drama|Western', 'Science Fiction|Adventure|Mystery',\n",
       "       'Animation|Adventure|Comedy|Family|Action',\n",
       "       'Adventure|Fantasy|Drama', 'Comedy|Fantasy',\n",
       "       'Family|Animation|Comedy|Adventure', 'Comedy|Music|Romance',\n",
       "       'Science Fiction|Adventure|Fantasy', 'Fantasy|Animation|Family',\n",
       "       'Action|Horror|Fantasy', 'Romance|Science Fiction|Drama|Fantasy',\n",
       "       'Thriller|Action|Adventure|Science Fiction',\n",
       "       'Adventure|Fantasy|Drama|Comedy|Science Fiction',\n",
       "       'Science Fiction|Drama|Thriller', 'Action|Thriller|War',\n",
       "       'Romance|Comedy|Drama', 'Thriller|Action|Drama|Crime',\n",
       "       'Animation|Adventure|Family|Comedy', 'Comedy|Crime|Thriller',\n",
       "       'Adventure|Drama|Romance', 'Horror|Thriller|Comedy',\n",
       "       'War|Action|Thriller|Science Fiction',\n",
       "       'Action|Comedy|Thriller|Crime|Romance',\n",
       "       'Drama|Action|Adventure|History|War', 'Documentary|Music',\n",
       "       'Fantasy|Action|Thriller', 'Romance|Comedy|Family|Fantasy',\n",
       "       'Fantasy|Action|Crime|Science Fiction|Thriller',\n",
       "       'Fantasy|Action|Thriller|Science Fiction',\n",
       "       'Family|Animation|Adventure', 'Adventure|Action|Comedy', 'Music',\n",
       "       'Drama|Action|War|History',\n",
       "       'Adventure|Action|Comedy|Thriller|Crime',\n",
       "       'Action|Adventure|Fantasy|Thriller', 'Mystery|Thriller',\n",
       "       'Action|Thriller|Adventure|Science Fiction',\n",
       "       'Action|Adventure|Comedy|Western', 'Action|Drama|War',\n",
       "       'Action|Adventure|Mystery|Science Fiction|Thriller',\n",
       "       'Action|Adventure|Comedy|Crime',\n",
       "       'Thriller|Fantasy|Comedy|Family|Mystery', 'Comedy|Drama|Family',\n",
       "       'Action|Drama|Mystery|Thriller|Crime',\n",
       "       'Adventure|Action|Comedy|Thriller', 'Western',\n",
       "       'Comedy|Adventure|Family', 'Drama|Horror|Science Fiction|Thriller',\n",
       "       'Action|Adventure|Comedy|Family|Science Fiction',\n",
       "       'Action|Comedy|Romance|Thriller',\n",
       "       'Drama|Fantasy|Horror|Mystery|Romance', 'Crime|Comedy|Romance',\n",
       "       'Drama|History|War', 'Horror|Action|Thriller',\n",
       "       'Drama|Thriller|Crime|Romance', 'Family|Documentary',\n",
       "       'Adventure|Action|Science Fiction|Thriller',\n",
       "       'Science Fiction|Thriller|Drama',\n",
       "       'Science Fiction|Thriller|Action|Adventure', 'Crime|Drama|Comedy',\n",
       "       'Action|Science Fiction|Adventure|Mystery',\n",
       "       'Romance|Science Fiction|Drama', 'Science Fiction|Action|Thriller',\n",
       "       'Action|Drama|Horror|Science Fiction|Thriller',\n",
       "       'Adventure|Comedy|Drama|Fantasy',\n",
       "       'Action|Crime|Drama|Comedy|Thriller', 'Horror|Comedy|Romance',\n",
       "       'Fantasy|Horror|Action', 'Action|Adventure|Drama|Mystery|Romance',\n",
       "       'Fantasy|Action|Comedy|Crime', 'Drama|Horror',\n",
       "       'Comedy|Music|Romance|Drama', 'Action|Family|Fantasy',\n",
       "       'Crime|Thriller|Drama', 'Comedy|Drama|History',\n",
       "       'Action|Adventure|Western', 'Crime|Drama|Action|Thriller',\n",
       "       'Fantasy|Adventure|Family', 'Thriller|Crime|Action',\n",
       "       'Action|Adventure|Romance|Science Fiction|Thriller',\n",
       "       'Drama|Thriller|Mystery|Action',\n",
       "       'Animation|Comedy|Adventure|Family|Science Fiction', 'Romance',\n",
       "       'Drama|Romance|Crime|Mystery', 'Animation|Family|Adventure',\n",
       "       'Fantasy|Family|Comedy|Animation',\n",
       "       'Action|Science Fiction|Adventure|Fantasy', 'Music|Drama',\n",
       "       'Animation|Music|Family', 'Action|Thriller|Fantasy',\n",
       "       'Adventure|Comedy|Family|Science Fiction',\n",
       "       'Action|Comedy|Drama|Family|Thriller',\n",
       "       'Adventure|Thriller|Science Fiction',\n",
       "       'Action|Thriller|Adventure|Crime',\n",
       "       'Animation|Comedy|Family|Science Fiction',\n",
       "       'Action|Crime|Adventure', 'Action|Comedy|Drama|Thriller',\n",
       "       'Action|Adventure|Drama|Western',\n",
       "       'Romance|Fantasy|Animation|Music',\n",
       "       'Drama|Mystery|Thriller|Fantasy', 'Comedy|Fantasy|Romance',\n",
       "       'Comedy|Family|Adventure|Fantasy|Romance', 'Romance|Drama|History',\n",
       "       'Action|Adventure|Science Fiction|Thriller|Horror',\n",
       "       'Adventure|Fantasy|Action|Comedy|Thriller',\n",
       "       'Mystery|Drama|Thriller|Crime', 'Drama|Action|History|Thriller',\n",
       "       'Crime|Drama|Horror|Thriller', 'Horror|Thriller|Drama',\n",
       "       'Comedy|Drama|Mystery|Romance', 'Romance|Comedy|Family',\n",
       "       'Comedy|Family|Adventure|Romance',\n",
       "       'Thriller|Science Fiction|Adventure|Action',\n",
       "       'Action|Adventure|Fantasy|Horror',\n",
       "       'Action|Adventure|Comedy|Drama|Mystery',\n",
       "       'Action|Comedy|Crime|Drama|Thriller',\n",
       "       'Action|Adventure|Drama|History|War',\n",
       "       'Adventure|Fantasy|Action|Family',\n",
       "       'Adventure|Crime|Drama|Mystery|Western',\n",
       "       'Action|Fantasy|Horror|Thriller', 'Thriller|Horror|Drama|Mystery',\n",
       "       'Action|Adventure|Horror|Thriller',\n",
       "       'Fantasy|Action|Science Fiction|Thriller',\n",
       "       'Music|Drama|Romance|Crime', 'Animation|Family|Comedy|Adventure',\n",
       "       'Action|Adventure|Comedy|Family|Fantasy',\n",
       "       'Comedy|Drama|Fantasy|Romance', 'Crime|Fantasy|Drama',\n",
       "       'Drama|Thriller|Action', 'Comedy|Drama|Family|Romance',\n",
       "       'Drama|Adventure|Science Fiction|Romance',\n",
       "       'Music|Animation|Comedy|Family', 'Fantasy|Action|Adventure|Family',\n",
       "       'Romance|Drama|Mystery', 'Thriller|Action|Adventure|Drama',\n",
       "       'Fantasy|Adventure|Animation|Comedy|Family',\n",
       "       'Comedy|Drama|Family|Fantasy|Romance', 'War|Drama|History',\n",
       "       'Comedy|Family|Adventure', 'Fantasy|Drama|Thriller|Romance',\n",
       "       'Adventure|Action|Drama|Thriller', 'Action|Adventure|Drama|War',\n",
       "       'Animation|Science Fiction|Thriller', 'Drama|History|Thriller',\n",
       "       'Horror|Action|Crime|Thriller', 'Action|Comedy|Documentary',\n",
       "       'Adventure|Action|Family', 'Fantasy|Romance|Family|Comedy',\n",
       "       'Adventure|Drama|War', 'Adventure|Comedy|Drama',\n",
       "       'Drama|History|Crime|Thriller|Action',\n",
       "       'War|Crime|Drama|Mystery|Romance',\n",
       "       'Action|Adventure|Drama|History|Romance',\n",
       "       'Comedy|Drama|Romance|Thriller',\n",
       "       'Action|Adventure|Fantasy|Horror|Science Fiction',\n",
       "       'Drama|Thriller|Fantasy|Mystery', 'Action|Adventure|Crime|Drama',\n",
       "       'Science Fiction|Drama|Romance',\n",
       "       'Action|Adventure|Animation|Family|Science Fiction',\n",
       "       'War|Adventure|Drama', 'Adventure|Action|Thriller|Mystery',\n",
       "       'Horror|Adventure|Action',\n",
       "       'Science Fiction|Action|Horror|Thriller|Adventure',\n",
       "       'Adventure|Fantasy|Comedy|Family',\n",
       "       'Animation|Action|Comedy|Family',\n",
       "       'Mystery|Action|Thriller|Science Fiction|Adventure',\n",
       "       'Adventure|Science Fiction|Action',\n",
       "       'War|History|Action|Adventure|Drama', 'Adventure|War|History',\n",
       "       'Western|History|War', 'Comedy|Drama|Horror',\n",
       "       'Thriller|Action|Comedy|Crime', 'Drama|Romance|Comedy',\n",
       "       'Western|Animation|Family|Comedy|Music', 'Western|Adventure',\n",
       "       'Music|Adventure|Animation|Action|Comedy',\n",
       "       'Music|Comedy|Family|Romance', 'Comedy|Thriller|Crime',\n",
       "       'Thriller|Drama|Romance', 'Drama|Mystery|Romance|Thriller',\n",
       "       'Crime|Drama|Horror|Mystery|Science Fiction',\n",
       "       'Mystery|Action|Drama|Thriller|Crime',\n",
       "       'Adventure|Fantasy|Family|Mystery',\n",
       "       'Drama|Horror|Action|Thriller|Science Fiction',\n",
       "       'Action|Adventure|Mystery|Thriller',\n",
       "       'Science Fiction|Horror|Thriller',\n",
       "       'Adventure|Fantasy|Romance|Family', 'Action|Adventure|War',\n",
       "       'Thriller|Action|Fantasy|Horror', 'Drama|Horror|Music',\n",
       "       'Comedy|Music|Family|Fantasy|Animation',\n",
       "       'Comedy|Family|Fantasy|Romance',\n",
       "       'Comedy|Adventure|Fantasy|Action|Science Fiction',\n",
       "       'Thriller|Action|Drama', 'Drama|Crime|Mystery|Thriller',\n",
       "       'Action|Adventure|Drama|History', 'Fantasy|Drama|Mystery',\n",
       "       'Action|Comedy|Drama', 'Action|Thriller|Comedy|Crime',\n",
       "       'Animation|Fantasy', 'Thriller|Action|Horror',\n",
       "       'Comedy|Drama|Adventure', 'Action|Horror|Crime',\n",
       "       'Crime|Horror|Mystery|Thriller', 'Action|Drama|Western',\n",
       "       'History|Drama|Thriller|Crime|Mystery',\n",
       "       'Action|Adventure|Crime|Drama|Fantasy', 'Crime|Horror|Thriller',\n",
       "       'Drama|Mystery|Crime', 'Action|Adventure|Fantasy|War',\n",
       "       'Adventure|Action|Comedy|Romance', 'Action|History',\n",
       "       'Action|Drama|Adventure', 'Family|Comedy|Fantasy',\n",
       "       'Fantasy|Comedy|Romance', 'Drama|History|War|Action',\n",
       "       'Drama|Comedy|Music', 'Thriller|Science Fiction|Action',\n",
       "       'Comedy|Crime|Action', 'Crime|Drama|Science Fiction|Thriller',\n",
       "       'Drama|Crime|Music', 'Horror|Drama|Thriller|Mystery',\n",
       "       'Comedy|Drama|Romance|Fantasy', 'Comedy|Drama|Romance|Music',\n",
       "       'Science Fiction|Comedy|Family|Romance',\n",
       "       'Drama|Adventure|Romance|Thriller',\n",
       "       'Animation|Action|Science Fiction|Family|Adventure',\n",
       "       'Fantasy|Comedy|Romance|Science Fiction',\n",
       "       'Action|Fantasy|Science Fiction', 'Action|Comedy|Drama|Romance',\n",
       "       'Horror|Family|Foreign'], dtype=object)"
      ]
     },
     "execution_count": 44,
     "metadata": {},
     "output_type": "execute_result"
    }
   ],
   "source": [
    "data['genres'].unique()"
   ]
  },
  {
   "cell_type": "code",
   "execution_count": 45,
   "metadata": {},
   "outputs": [
    {
     "data": {
      "text/plain": [
       "Drama              782\n",
       "Comedy             683\n",
       "Thriller           596\n",
       "Action             582\n",
       "Adventure          415\n",
       "Crime              315\n",
       "Romance            308\n",
       "Family             260\n",
       "Science Fiction    248\n",
       "Fantasy            222\n",
       "Horror             176\n",
       "Mystery            168\n",
       "Animation          139\n",
       "Music               64\n",
       "History             62\n",
       "War                 58\n",
       "Western             19\n",
       "Documentary          8\n",
       "Foreign              2\n",
       "dtype: int64"
      ]
     },
     "execution_count": 45,
     "metadata": {},
     "output_type": "execute_result"
    }
   ],
   "source": [
    "genre = data['genres'].str.split('|', expand=True).stack().value_counts()\n",
    "genre"
   ]
  },
  {
   "cell_type": "markdown",
   "metadata": {},
   "source": [
    "ВАРИАНТ 2"
   ]
  },
  {
   "cell_type": "code",
   "execution_count": 46,
   "metadata": {},
   "outputs": [
    {
     "data": {
      "text/plain": [
       "'Drama'"
      ]
     },
     "execution_count": 46,
     "metadata": {},
     "output_type": "execute_result"
    }
   ],
   "source": [
    "data.genres = data.genres.apply(lambda x: x.split('|')) # С помощью lambda функции разбили значения по '|' \n",
    "data_genres = data.explode('genres') # Возвращаем массив строк сформированной путем разделения ее на границах, образованных разделителем строк.\n",
    "data_genres['genres'].describe(include=['object']).top "
   ]
  },
  {
   "cell_type": "markdown",
   "metadata": {
    "colab_type": "text",
    "id": "Ax6g2C8SVp_M"
   },
   "source": [
    "ВАРИАНТ 3"
   ]
  },
  {
   "cell_type": "code",
   "execution_count": 47,
   "metadata": {},
   "outputs": [
    {
     "data": {
      "text/plain": [
       "Drama              782\n",
       "Comedy             683\n",
       "Thriller           596\n",
       "Action             582\n",
       "Adventure          415\n",
       "Crime              315\n",
       "Romance            308\n",
       "Family             260\n",
       "Science Fiction    248\n",
       "Fantasy            222\n",
       "Horror             176\n",
       "Mystery            168\n",
       "Animation          139\n",
       "Music               64\n",
       "History             62\n",
       "War                 58\n",
       "Western             19\n",
       "Documentary          8\n",
       "Foreign              2\n",
       "dtype: int64"
      ]
     },
     "execution_count": 47,
     "metadata": {},
     "output_type": "execute_result"
    }
   ],
   "source": [
    "data = pd.read_csv('movie_bd_v5.csv')\n",
    "\n",
    "def counter(movie_bd, x):\n",
    "    \"\"\"создали функцию для посчета того что нам нужно, где movie_bd = data и х = столбец 'genres' \"\"\"\n",
    "    info = movie_bd[x].str.split('|', expand=True).stack().value_counts()\n",
    "    return info\n",
    "\n",
    "top_genre = counter(data,'genres')\n",
    "\n",
    "top_genre"
   ]
  },
  {
   "cell_type": "markdown",
   "metadata": {
    "colab_type": "text",
    "id": "T9_bPWpkVp_Q"
   },
   "source": [
    "# 12. Фильмы какого жанра чаще всего становятся прибыльными? "
   ]
  },
  {
   "cell_type": "code",
   "execution_count": 48,
   "metadata": {
    "colab": {},
    "colab_type": "code",
    "id": "Tmt8MaK1Vp_R"
   },
   "outputs": [],
   "source": [
    "answers ['12'] = '1.Drama'\n",
    "# +"
   ]
  },
  {
   "cell_type": "code",
   "execution_count": 49,
   "metadata": {},
   "outputs": [
    {
     "data": {
      "text/plain": [
       "Drama              560\n",
       "Comedy             551\n",
       "Thriller           446\n",
       "Action             444\n",
       "Adventure          337\n",
       "Romance            242\n",
       "Crime              231\n",
       "Family             226\n",
       "Science Fiction    195\n",
       "Fantasy            188\n",
       "Horror             150\n",
       "Animation          120\n",
       "Mystery            119\n",
       "Music               47\n",
       "History             46\n",
       "War                 41\n",
       "Western             12\n",
       "Documentary          7\n",
       "dtype: int64"
      ]
     },
     "execution_count": 49,
     "metadata": {},
     "output_type": "execute_result"
    }
   ],
   "source": [
    "data = pd.read_csv('movie_bd_v5.csv')\n",
    "data[\"profit\"] = data['revenue'] - data['budget']\n",
    "\n",
    "positive_profit = data[data.profit>0]\n",
    "genres_profit = positive_profit.genres.str.split('|',expand=True).stack().value_counts()\n",
    "genres_profit               "
   ]
  },
  {
   "cell_type": "markdown",
   "metadata": {},
   "source": [
    "ВАРИАНТ 2"
   ]
  },
  {
   "cell_type": "code",
   "execution_count": 50,
   "metadata": {},
   "outputs": [
    {
     "data": {
      "text/plain": [
       "Drama    560\n",
       "Name: genres, dtype: int64"
      ]
     },
     "execution_count": 50,
     "metadata": {},
     "output_type": "execute_result"
    }
   ],
   "source": [
    "data_profit = data.query('profit>0')\n",
    "data_profit['genres'].str.split('|').explode().value_counts().head(1)"
   ]
  },
  {
   "cell_type": "markdown",
   "metadata": {
    "colab_type": "text",
    "id": "0F23bgsDVp_U"
   },
   "source": [
    "# 13. У какого режиссера самые большие суммарные кассовые сбооры?"
   ]
  },
  {
   "cell_type": "code",
   "execution_count": 51,
   "metadata": {
    "colab": {},
    "colab_type": "code",
    "id": "K6Z3J8ygVp_X"
   },
   "outputs": [],
   "source": [
    "answers ['13'] = '5.Peter Jackson'\n",
    "# +"
   ]
  },
  {
   "cell_type": "code",
   "execution_count": 52,
   "metadata": {},
   "outputs": [
    {
     "data": {
      "text/html": [
       "<div>\n",
       "<style scoped>\n",
       "    .dataframe tbody tr th:only-of-type {\n",
       "        vertical-align: middle;\n",
       "    }\n",
       "\n",
       "    .dataframe tbody tr th {\n",
       "        vertical-align: top;\n",
       "    }\n",
       "\n",
       "    .dataframe thead th {\n",
       "        text-align: right;\n",
       "    }\n",
       "</style>\n",
       "<table border=\"1\" class=\"dataframe\">\n",
       "  <thead>\n",
       "    <tr style=\"text-align: right;\">\n",
       "      <th></th>\n",
       "      <th>revenue</th>\n",
       "    </tr>\n",
       "    <tr>\n",
       "      <th>director</th>\n",
       "      <th></th>\n",
       "    </tr>\n",
       "  </thead>\n",
       "  <tbody>\n",
       "    <tr>\n",
       "      <th>Peter Jackson</th>\n",
       "      <td>6490593685</td>\n",
       "    </tr>\n",
       "    <tr>\n",
       "      <th>Christopher Nolan</th>\n",
       "      <td>4167548502</td>\n",
       "    </tr>\n",
       "    <tr>\n",
       "      <th>David Yates</th>\n",
       "      <td>4154295625</td>\n",
       "    </tr>\n",
       "    <tr>\n",
       "      <th>Michael Bay</th>\n",
       "      <td>3886938960</td>\n",
       "    </tr>\n",
       "    <tr>\n",
       "      <th>J.J. Abrams</th>\n",
       "      <td>3579169916</td>\n",
       "    </tr>\n",
       "    <tr>\n",
       "      <th>...</th>\n",
       "      <td>...</td>\n",
       "    </tr>\n",
       "    <tr>\n",
       "      <th>David MichÃ´d</th>\n",
       "      <td>2295423</td>\n",
       "    </tr>\n",
       "    <tr>\n",
       "      <th>Steven Shainberg</th>\n",
       "      <td>2281089</td>\n",
       "    </tr>\n",
       "    <tr>\n",
       "      <th>Paul Schrader</th>\n",
       "      <td>2062066</td>\n",
       "    </tr>\n",
       "    <tr>\n",
       "      <th>Keanu Reeves</th>\n",
       "      <td>2054941</td>\n",
       "    </tr>\n",
       "    <tr>\n",
       "      <th>Simon Hunter</th>\n",
       "      <td>2033165</td>\n",
       "    </tr>\n",
       "  </tbody>\n",
       "</table>\n",
       "<p>957 rows × 1 columns</p>\n",
       "</div>"
      ],
      "text/plain": [
       "                      revenue\n",
       "director                     \n",
       "Peter Jackson      6490593685\n",
       "Christopher Nolan  4167548502\n",
       "David Yates        4154295625\n",
       "Michael Bay        3886938960\n",
       "J.J. Abrams        3579169916\n",
       "...                       ...\n",
       "David MichÃ´d         2295423\n",
       "Steven Shainberg      2281089\n",
       "Paul Schrader         2062066\n",
       "Keanu Reeves          2054941\n",
       "Simon Hunter          2033165\n",
       "\n",
       "[957 rows x 1 columns]"
      ]
     },
     "metadata": {},
     "output_type": "display_data"
    }
   ],
   "source": [
    "max_revenue_director = pd.DataFrame(data.groupby(by='director') \\\n",
    "                      .revenue.sum()).sort_values('revenue', ascending = False)\n",
    "display(max_revenue_director)"
   ]
  },
  {
   "cell_type": "markdown",
   "metadata": {},
   "source": [
    "ВАРИАНТ 2"
   ]
  },
  {
   "cell_type": "code",
   "execution_count": null,
   "metadata": {},
   "outputs": [],
   "source": [
    "# Наша функция counter возвращает нам словарь, а как мы помним индексы у словаря уникальны что позволит нам \n",
    "# 1. Сразу получить список режисеров без дублей (directors.index)/сумм для каждого режиссера\n",
    "# 2. Заполнить значение словаря нужными нам показателем\n",
    "# Если конкретный директор director есть в строке, то в эту строку ставим True - т.е. 1, если нет, то False - 0\n",
    "# генерит серию с 0 и 1, где 1 в строках, в которых есть нужный режиссер\n",
    "for director in directors.index:\n",
    "    directors[director] = data['revenue'][data['director'].map(lambda x: True if director in x else False)].sum()"
   ]
  },
  {
   "cell_type": "code",
   "execution_count": 53,
   "metadata": {},
   "outputs": [
    {
     "data": {
      "text/html": [
       "<div>\n",
       "<style scoped>\n",
       "    .dataframe tbody tr th:only-of-type {\n",
       "        vertical-align: middle;\n",
       "    }\n",
       "\n",
       "    .dataframe tbody tr th {\n",
       "        vertical-align: top;\n",
       "    }\n",
       "\n",
       "    .dataframe thead th {\n",
       "        text-align: right;\n",
       "    }\n",
       "</style>\n",
       "<table border=\"1\" class=\"dataframe\">\n",
       "  <thead>\n",
       "    <tr style=\"text-align: right;\">\n",
       "      <th></th>\n",
       "      <th>0</th>\n",
       "    </tr>\n",
       "  </thead>\n",
       "  <tbody>\n",
       "    <tr>\n",
       "      <th>Peter Jackson</th>\n",
       "      <td>6490593685</td>\n",
       "    </tr>\n",
       "    <tr>\n",
       "      <th>Christopher Nolan</th>\n",
       "      <td>4167548502</td>\n",
       "    </tr>\n",
       "    <tr>\n",
       "      <th>David Yates</th>\n",
       "      <td>4154295625</td>\n",
       "    </tr>\n",
       "    <tr>\n",
       "      <th>Michael Bay</th>\n",
       "      <td>3886938960</td>\n",
       "    </tr>\n",
       "    <tr>\n",
       "      <th>J.J. Abrams</th>\n",
       "      <td>3579169916</td>\n",
       "    </tr>\n",
       "    <tr>\n",
       "      <th>...</th>\n",
       "      <td>...</td>\n",
       "    </tr>\n",
       "    <tr>\n",
       "      <th>David MichÃ´d</th>\n",
       "      <td>2295423</td>\n",
       "    </tr>\n",
       "    <tr>\n",
       "      <th>Steven Shainberg</th>\n",
       "      <td>2281089</td>\n",
       "    </tr>\n",
       "    <tr>\n",
       "      <th>Paul Schrader</th>\n",
       "      <td>2062066</td>\n",
       "    </tr>\n",
       "    <tr>\n",
       "      <th>Keanu Reeves</th>\n",
       "      <td>2054941</td>\n",
       "    </tr>\n",
       "    <tr>\n",
       "      <th>Simon Hunter</th>\n",
       "      <td>2033165</td>\n",
       "    </tr>\n",
       "  </tbody>\n",
       "</table>\n",
       "<p>997 rows × 1 columns</p>\n",
       "</div>"
      ],
      "text/plain": [
       "                            0\n",
       "Peter Jackson      6490593685\n",
       "Christopher Nolan  4167548502\n",
       "David Yates        4154295625\n",
       "Michael Bay        3886938960\n",
       "J.J. Abrams        3579169916\n",
       "...                       ...\n",
       "David MichÃ´d         2295423\n",
       "Steven Shainberg      2281089\n",
       "Paul Schrader         2062066\n",
       "Keanu Reeves          2054941\n",
       "Simon Hunter          2033165\n",
       "\n",
       "[997 rows x 1 columns]"
      ]
     },
     "execution_count": 53,
     "metadata": {},
     "output_type": "execute_result"
    }
   ],
   "source": [
    "def counter(movie_bd, x):\n",
    "    \"\"\"создали функцию для посчета того что нам нужно , где movie_bd = data, х = director\"\"\"\n",
    "    info = movie_bd[x].str.split('|', expand=True).stack().value_counts()\n",
    "    return info\n",
    "\n",
    "sum_director = counter(data,'director')\n",
    "\n",
    "for director in sum_director.index:\n",
    "    sum_director[director] = data['revenue'][data['director'].map(lambda x: True if director in x else False)].sum()\n",
    "    \n",
    "sum_director = pd.DataFrame(sum_director).sort_values(0,ascending=False) \n",
    "            # Создали датафрейм сумм и отсортировали значения для каждого режисера     \n",
    "\n",
    "sum_director"
   ]
  },
  {
   "cell_type": "markdown",
   "metadata": {
    "colab_type": "text",
    "id": "PsYC9FgRVp_a"
   },
   "source": [
    "# 14. Какой режисер снял больше всего фильмов в стиле Action?"
   ]
  },
  {
   "cell_type": "code",
   "execution_count": 54,
   "metadata": {
    "colab": {},
    "colab_type": "code",
    "id": "wd2M-wHeVp_b"
   },
   "outputs": [],
   "source": [
    "answers ['14'] = '3.Robert Rodriguez'\n",
    "# +"
   ]
  },
  {
   "cell_type": "code",
   "execution_count": 55,
   "metadata": {},
   "outputs": [
    {
     "data": {
      "text/plain": [
       "Robert Rodriguez      9\n",
       "Michael Bay           7\n",
       "Paul W.S. Anderson    7\n",
       "Ridley Scott          6\n",
       "Antoine Fuqua         6\n",
       "                     ..\n",
       "John Luessenhop       1\n",
       "Oliver Parker         1\n",
       "John Carpenter        1\n",
       "Michael Davis         1\n",
       "Jason Eisener         1\n",
       "Length: 364, dtype: int64"
      ]
     },
     "execution_count": 55,
     "metadata": {},
     "output_type": "execute_result"
    }
   ],
   "source": [
    "# Функция не может работать с NaN, необходимо использовать параметр na = False:\n",
    "action = data[data.genres.str.contains(\"Action\", na=False)]\n",
    "action_director_top = action['director'].str.split('|', expand=True).stack().value_counts()\n",
    "action_director_top"
   ]
  },
  {
   "cell_type": "markdown",
   "metadata": {},
   "source": [
    "ВАРИАНТ 2  "
   ]
  },
  {
   "cell_type": "code",
   "execution_count": 56,
   "metadata": {},
   "outputs": [
    {
     "data": {
      "text/plain": [
       "Robert Rodriguez      9\n",
       "Michael Bay           7\n",
       "Paul W.S. Anderson    7\n",
       "Ridley Scott          6\n",
       "Antoine Fuqua         6\n",
       "                     ..\n",
       "John Luessenhop       1\n",
       "Oliver Parker         1\n",
       "John Carpenter        1\n",
       "Michael Davis         1\n",
       "Jason Eisener         1\n",
       "Length: 364, dtype: int64"
      ]
     },
     "execution_count": 56,
     "metadata": {},
     "output_type": "execute_result"
    }
   ],
   "source": [
    "data[data.genres.str.contains(\"Action\",na=False)] \\\n",
    "                ['director'].str.split('|',expand=True).stack().value_counts()"
   ]
  },
  {
   "cell_type": "markdown",
   "metadata": {},
   "source": [
    "ВАРИАНТ 3 "
   ]
  },
  {
   "cell_type": "code",
   "execution_count": 57,
   "metadata": {},
   "outputs": [
    {
     "data": {
      "text/plain": [
       "Robert Rodriguez      9\n",
       "Michael Bay           7\n",
       "Paul W.S. Anderson    7\n",
       "Ridley Scott          6\n",
       "Antoine Fuqua         6\n",
       "                     ..\n",
       "John Luessenhop       1\n",
       "Oliver Parker         1\n",
       "John Carpenter        1\n",
       "Michael Davis         1\n",
       "Jason Eisener         1\n",
       "Length: 364, dtype: int64"
      ]
     },
     "execution_count": 57,
     "metadata": {},
     "output_type": "execute_result"
    }
   ],
   "source": [
    "def counter(movie_bd, x):\n",
    "    \"\"\"создали функцию для посчета того что нам нужно , где movie_bd = data_tmp, х = director\"\"\"\n",
    "    info = movie_bd[x].str.split('|', expand=True).stack().value_counts()\n",
    "    return info\n",
    "\n",
    "data_tmp = data[data.genres.str.contains(\"Action\")]\n",
    "sum_gen=counter(data_tmp,'director')\n",
    "sum_gen"
   ]
  },
  {
   "cell_type": "markdown",
   "metadata": {
    "colab_type": "text",
    "id": "PQ0KciD7Vp_f"
   },
   "source": [
    "# 15. Фильмы с каким актером принесли самые высокие кассовые сборы в 2012 году? "
   ]
  },
  {
   "cell_type": "code",
   "execution_count": 58,
   "metadata": {
    "colab": {},
    "colab_type": "code",
    "id": "aga62oeKVp_g"
   },
   "outputs": [],
   "source": [
    "answers ['15'] = '3.Chris Hemsworth'\n",
    "# +"
   ]
  },
  {
   "cell_type": "code",
   "execution_count": 59,
   "metadata": {},
   "outputs": [
    {
     "data": {
      "text/html": [
       "<div>\n",
       "<style scoped>\n",
       "    .dataframe tbody tr th:only-of-type {\n",
       "        vertical-align: middle;\n",
       "    }\n",
       "\n",
       "    .dataframe tbody tr th {\n",
       "        vertical-align: top;\n",
       "    }\n",
       "\n",
       "    .dataframe thead th {\n",
       "        text-align: right;\n",
       "    }\n",
       "</style>\n",
       "<table border=\"1\" class=\"dataframe\">\n",
       "  <thead>\n",
       "    <tr style=\"text-align: right;\">\n",
       "      <th></th>\n",
       "      <th>0</th>\n",
       "    </tr>\n",
       "  </thead>\n",
       "  <tbody>\n",
       "    <tr>\n",
       "      <th>Chris Hemsworth</th>\n",
       "      <td>2027450773</td>\n",
       "    </tr>\n",
       "    <tr>\n",
       "      <th>Denis Leary</th>\n",
       "      <td>1629460639</td>\n",
       "    </tr>\n",
       "    <tr>\n",
       "      <th>Anne Hathaway</th>\n",
       "      <td>1522851057</td>\n",
       "    </tr>\n",
       "    <tr>\n",
       "      <th>Mark Ruffalo</th>\n",
       "      <td>1519557910</td>\n",
       "    </tr>\n",
       "    <tr>\n",
       "      <th>Chris Evans</th>\n",
       "      <td>1519557910</td>\n",
       "    </tr>\n",
       "    <tr>\n",
       "      <th>...</th>\n",
       "      <td>...</td>\n",
       "    </tr>\n",
       "    <tr>\n",
       "      <th>Sophia Bush</th>\n",
       "      <td>0</td>\n",
       "    </tr>\n",
       "    <tr>\n",
       "      <th>Penelope Wilton</th>\n",
       "      <td>0</td>\n",
       "    </tr>\n",
       "    <tr>\n",
       "      <th>Jimmi Simpson</th>\n",
       "      <td>0</td>\n",
       "    </tr>\n",
       "    <tr>\n",
       "      <th>Powers Boothe</th>\n",
       "      <td>0</td>\n",
       "    </tr>\n",
       "    <tr>\n",
       "      <th>Martin Starr</th>\n",
       "      <td>0</td>\n",
       "    </tr>\n",
       "  </tbody>\n",
       "</table>\n",
       "<p>3406 rows × 1 columns</p>\n",
       "</div>"
      ],
      "text/plain": [
       "                          0\n",
       "Chris Hemsworth  2027450773\n",
       "Denis Leary      1629460639\n",
       "Anne Hathaway    1522851057\n",
       "Mark Ruffalo     1519557910\n",
       "Chris Evans      1519557910\n",
       "...                     ...\n",
       "Sophia Bush               0\n",
       "Penelope Wilton           0\n",
       "Jimmi Simpson             0\n",
       "Powers Boothe             0\n",
       "Martin Starr              0\n",
       "\n",
       "[3406 rows x 1 columns]"
      ]
     },
     "execution_count": 59,
     "metadata": {},
     "output_type": "execute_result"
    }
   ],
   "source": [
    "def counter(movie_bd, x):\n",
    "    \"\"\"создали функцию для посчета того что нам нужно\"\"\"\n",
    "    info = movie_bd[x].str.split('|', expand=True).stack().value_counts()\n",
    "    return info\n",
    "\n",
    "top_cast_year = counter(data,'cast') \n",
    "\n",
    "for cast in top_cast_year.index:\n",
    "    top_cast_year[cast] = data['revenue'] \\\n",
    "                          [data.release_year==2012] \\\n",
    "                          [data['cast'].map(lambda x: True if cast in x else False)].sum()\n",
    "    \n",
    "top_cast_year = pd.DataFrame(top_cast_year).sort_values(0,ascending=False)\n",
    "            # Создали датафрейм сумм с сортировкой для каждого актера      \n",
    "\n",
    "top_cast_year"
   ]
  },
  {
   "cell_type": "markdown",
   "metadata": {},
   "source": [
    "ВАРИАНТ 2"
   ]
  },
  {
   "cell_type": "code",
   "execution_count": 60,
   "metadata": {},
   "outputs": [
    {
     "name": "stderr",
     "output_type": "stream",
     "text": [
      "C:\\Users\\SVF13N12SHS\\anaconda3\\lib\\site-packages\\pandas\\core\\generic.py:5303: SettingWithCopyWarning: \n",
      "A value is trying to be set on a copy of a slice from a DataFrame.\n",
      "Try using .loc[row_indexer,col_indexer] = value instead\n",
      "\n",
      "See the caveats in the documentation: https://pandas.pydata.org/pandas-docs/stable/user_guide/indexing.html#returning-a-view-versus-a-copy\n",
      "  self[name] = value\n"
     ]
    },
    {
     "data": {
      "text/plain": [
       "cast\n",
       "Chris Hemsworth      2027450773\n",
       "Denis Leary          1629460639\n",
       "Anne Hathaway        1522851057\n",
       "Chris Evans          1519557910\n",
       "Robert Downey Jr.    1519557910\n",
       "                        ...    \n",
       "Jason Bateman           3428048\n",
       "Danny Huston            2106557\n",
       "Sami Gayle              2106557\n",
       "Josh Lucas              2106557\n",
       "Nicolas Cage            2106557\n",
       "Name: revenue, Length: 466, dtype: int64"
      ]
     },
     "execution_count": 60,
     "metadata": {},
     "output_type": "execute_result"
    }
   ],
   "source": [
    "revenue_top = data[(data.release_year == 2012)]\n",
    "revenue_top.cast = revenue_top.cast.apply(lambda x: x.split('|'))\n",
    "top_cast = revenue_top.explode('cast')\n",
    "top_cast.groupby(by='cast').revenue.sum().sort_values(ascending=False)"
   ]
  },
  {
   "cell_type": "markdown",
   "metadata": {
    "colab_type": "text",
    "id": "mWHyyL7QVp_j"
   },
   "source": [
    "# 16. Какой актер снялся в большем количестве высокобюджетных фильмов?"
   ]
  },
  {
   "cell_type": "code",
   "execution_count": 61,
   "metadata": {
    "colab": {},
    "colab_type": "code",
    "id": "qQtmHKTFVp_k"
   },
   "outputs": [],
   "source": [
    "answers ['16'] = '3.Matt Damon'\n",
    "# +"
   ]
  },
  {
   "cell_type": "code",
   "execution_count": 62,
   "metadata": {},
   "outputs": [
    {
     "data": {
      "text/plain": [
       "Matt Damon               18\n",
       "Adam Sandler             17\n",
       "Angelina Jolie           16\n",
       "Tom Cruise               15\n",
       "Samuel L. Jackson        15\n",
       "                         ..\n",
       "Jessica Brown Findlay     1\n",
       "LeVar Burton              1\n",
       "Kevin Pollak              1\n",
       "Violante Placido          1\n",
       "Dakota Blue Richards      1\n",
       "Length: 1505, dtype: int64"
      ]
     },
     "execution_count": 62,
     "metadata": {},
     "output_type": "execute_result"
    }
   ],
   "source": [
    "def counter(movie_bd, x):\n",
    "    \"\"\"создали функцию для посчета того что нам нужно , где movie_bd = budget_top, х = cast\"\"\"\n",
    "    info = movie_bd[x].str.split('|', expand=True).stack().value_counts()\n",
    "    return info\n",
    "\n",
    "budget_top = data[data.budget > data['budget'].mean()].sort_values(by='budget',ascending=True) \n",
    "            # Создали условие, в котором определили бюджет выше среднего\n",
    "cast_top = counter(budget_top,'cast') \n",
    "            # С помощью функции counter посчитали актеров в высокобюджетных фильмах\n",
    "cast_top"
   ]
  },
  {
   "cell_type": "markdown",
   "metadata": {},
   "source": [
    "ВАРИАНТ 2"
   ]
  },
  {
   "cell_type": "code",
   "execution_count": 63,
   "metadata": {},
   "outputs": [
    {
     "data": {
      "text/plain": [
       "Matt Damon           18\n",
       "Adam Sandler         17\n",
       "Angelina Jolie       16\n",
       "Tom Cruise           15\n",
       "Samuel L. Jackson    15\n",
       "                     ..\n",
       "Kathleen Turner       1\n",
       "Gaia Weiss            1\n",
       "Collin Chou           1\n",
       "George Takei          1\n",
       "Sebastian Koch        1\n",
       "Length: 1505, dtype: int64"
      ]
     },
     "execution_count": 63,
     "metadata": {},
     "output_type": "execute_result"
    }
   ],
   "source": [
    "top_budget = data[data.budget > data['budget'].mean()]\n",
    "cast_top = top_budget['cast'].str.split('|', expand=True).stack().value_counts()\n",
    "cast_top"
   ]
  },
  {
   "cell_type": "markdown",
   "metadata": {
    "colab_type": "text",
    "id": "NIh6AaW5Vp_n"
   },
   "source": [
    "# 17. В фильмах какого жанра больше всего снимался Nicolas Cage? "
   ]
  },
  {
   "cell_type": "code",
   "execution_count": 64,
   "metadata": {
    "colab": {},
    "colab_type": "code",
    "id": "H74SJDIBVp_n"
   },
   "outputs": [],
   "source": [
    "answers ['17'] = '2.Action'\n",
    "# +"
   ]
  },
  {
   "cell_type": "code",
   "execution_count": 65,
   "metadata": {},
   "outputs": [
    {
     "data": {
      "text/plain": [
       "Action             17\n",
       "Thriller           15\n",
       "Drama              12\n",
       "Crime              10\n",
       "Fantasy             8\n",
       "Adventure           7\n",
       "Comedy              6\n",
       "Science Fiction     4\n",
       "Mystery             3\n",
       "Family              3\n",
       "Animation           3\n",
       "History             2\n",
       "Romance             1\n",
       "Horror              1\n",
       "War                 1\n",
       "dtype: int64"
      ]
     },
     "execution_count": 65,
     "metadata": {},
     "output_type": "execute_result"
    }
   ],
   "source": [
    "nicolas_cage = data[data.cast.str.contains('Nicolas Cage', na=False)]\n",
    "nicolas_cage_top = nicolas_cage['genres'].str.split('|',expand=True).stack().value_counts()\n",
    "nicolas_cage_top"
   ]
  },
  {
   "cell_type": "markdown",
   "metadata": {},
   "source": [
    "ВАРИАНТ 2"
   ]
  },
  {
   "cell_type": "code",
   "execution_count": 66,
   "metadata": {},
   "outputs": [
    {
     "data": {
      "text/plain": [
       "Action             17\n",
       "Thriller           15\n",
       "Drama              12\n",
       "Crime              10\n",
       "Fantasy             8\n",
       "Adventure           7\n",
       "Comedy              6\n",
       "Science Fiction     4\n",
       "Mystery             3\n",
       "Family              3\n",
       "Animation           3\n",
       "History             2\n",
       "Romance             1\n",
       "Horror              1\n",
       "War                 1\n",
       "dtype: int64"
      ]
     },
     "execution_count": 66,
     "metadata": {},
     "output_type": "execute_result"
    }
   ],
   "source": [
    "def counter(movie_bd, x):\n",
    "    \"\"\"создали функцию для посчета того что нам нужно , где movie_bd = nc_actor, х = genres\"\"\"\n",
    "    info = movie_bd[x].str.split('|', expand=True).stack().value_counts()\n",
    "    return info\n",
    "\n",
    "nc_actor = data[data.cast.str.contains(\"Nicolas Cage\")]\n",
    "nc_genre_top = counter(nc_actor,'genres') \n",
    "nc_genre_top"
   ]
  },
  {
   "cell_type": "markdown",
   "metadata": {
    "colab_type": "text",
    "id": "RqOmPRfWVp_q"
   },
   "source": [
    "# 18. Самый убыточный фильм от Paramount Pictures"
   ]
  },
  {
   "cell_type": "code",
   "execution_count": 67,
   "metadata": {
    "colab": {},
    "colab_type": "code",
    "id": "9E_B0Y96Vp_r"
   },
   "outputs": [],
   "source": [
    "answers ['18'] = '1.K-19: The Widowmaker'\n",
    "# +"
   ]
  },
  {
   "cell_type": "code",
   "execution_count": 68,
   "metadata": {},
   "outputs": [
    {
     "data": {
      "text/plain": [
       "array(['Universal Studios|Amblin Entertainment|Legendary Pictures|Fuji Television Network|Dentsu',\n",
       "       'Village Roadshow Pictures|Kennedy Miller Productions',\n",
       "       'Summit Entertainment|Mandeville Films|Red Wagon Entertainment|NeoReel',\n",
       "       ...,\n",
       "       \"Twentieth Century Fox Film Corporation|Donners' Company|Bad Hat Harry Productions|Marvel Enterprises|Springwood Productions\",\n",
       "       'Universal Pictures|Capella International|KC Medien AG|Tribeca Productions',\n",
       "       'Laurence Mark Productions|Columbia Pictures Corporation|Global Entertainment Productions GmbH & Company Medien KG|Nora Ephron Productions'],\n",
       "      dtype=object)"
      ]
     },
     "execution_count": 68,
     "metadata": {},
     "output_type": "execute_result"
    }
   ],
   "source": [
    "data['production_companies'].unique()"
   ]
  },
  {
   "cell_type": "code",
   "execution_count": 69,
   "metadata": {},
   "outputs": [
    {
     "data": {
      "text/plain": [
       "925    K-19: The Widowmaker\n",
       "Name: original_title, dtype: object"
      ]
     },
     "execution_count": 69,
     "metadata": {},
     "output_type": "execute_result"
    }
   ],
   "source": [
    "paramount_pictures = data[data.production_companies.str.contains('Paramount Pictures',na=False)]\n",
    "lowest_profit = paramount_pictures.sort_values('profit', ascending=True).head(1)['original_title']\n",
    "lowest_profit"
   ]
  },
  {
   "cell_type": "markdown",
   "metadata": {},
   "source": [
    "ВАРИАНТ 2"
   ]
  },
  {
   "cell_type": "code",
   "execution_count": 70,
   "metadata": {},
   "outputs": [
    {
     "data": {
      "text/html": [
       "<div>\n",
       "<style scoped>\n",
       "    .dataframe tbody tr th:only-of-type {\n",
       "        vertical-align: middle;\n",
       "    }\n",
       "\n",
       "    .dataframe tbody tr th {\n",
       "        vertical-align: top;\n",
       "    }\n",
       "\n",
       "    .dataframe thead th {\n",
       "        text-align: right;\n",
       "    }\n",
       "</style>\n",
       "<table border=\"1\" class=\"dataframe\">\n",
       "  <thead>\n",
       "    <tr style=\"text-align: right;\">\n",
       "      <th></th>\n",
       "      <th>profit</th>\n",
       "    </tr>\n",
       "    <tr>\n",
       "      <th>original_title</th>\n",
       "      <th></th>\n",
       "    </tr>\n",
       "  </thead>\n",
       "  <tbody>\n",
       "    <tr>\n",
       "      <th>K-19: The Widowmaker</th>\n",
       "      <td>-64831034</td>\n",
       "    </tr>\n",
       "    <tr>\n",
       "      <th>Timeline</th>\n",
       "      <td>-60519261</td>\n",
       "    </tr>\n",
       "    <tr>\n",
       "      <th>Next</th>\n",
       "      <td>-51788987</td>\n",
       "    </tr>\n",
       "    <tr>\n",
       "      <th>Alfie</th>\n",
       "      <td>-46604061</td>\n",
       "    </tr>\n",
       "    <tr>\n",
       "      <th>Twisted</th>\n",
       "      <td>-24805000</td>\n",
       "    </tr>\n",
       "    <tr>\n",
       "      <th>...</th>\n",
       "      <td>...</td>\n",
       "    </tr>\n",
       "    <tr>\n",
       "      <th>Mission: Impossible - Ghost Protocol</th>\n",
       "      <td>549713380</td>\n",
       "    </tr>\n",
       "    <tr>\n",
       "      <th>Transformers</th>\n",
       "      <td>559709780</td>\n",
       "    </tr>\n",
       "    <tr>\n",
       "      <th>Indiana Jones and the Kingdom of the Crystal Skull</th>\n",
       "      <td>601636033</td>\n",
       "    </tr>\n",
       "    <tr>\n",
       "      <th>Transformers: Revenge of the Fallen</th>\n",
       "      <td>686297228</td>\n",
       "    </tr>\n",
       "    <tr>\n",
       "      <th>Transformers: Dark of the Moon</th>\n",
       "      <td>928746996</td>\n",
       "    </tr>\n",
       "  </tbody>\n",
       "</table>\n",
       "<p>122 rows × 1 columns</p>\n",
       "</div>"
      ],
      "text/plain": [
       "                                                       profit\n",
       "original_title                                               \n",
       "K-19: The Widowmaker                                -64831034\n",
       "Timeline                                            -60519261\n",
       "Next                                                -51788987\n",
       "Alfie                                               -46604061\n",
       "Twisted                                             -24805000\n",
       "...                                                       ...\n",
       "Mission: Impossible - Ghost Protocol                549713380\n",
       "Transformers                                        559709780\n",
       "Indiana Jones and the Kingdom of the Crystal Skull  601636033\n",
       "Transformers: Revenge of the Fallen                 686297228\n",
       "Transformers: Dark of the Moon                      928746996\n",
       "\n",
       "[122 rows x 1 columns]"
      ]
     },
     "execution_count": 70,
     "metadata": {},
     "output_type": "execute_result"
    }
   ],
   "source": [
    "paramounts_fail = data[data['production_companies'].map(lambda x: True if 'Paramount Pictures' in x else False)]\n",
    "paramounts_fail.groupby(['original_title'])[['profit']].max().sort_values(['profit'],ascending=True)"
   ]
  },
  {
   "cell_type": "markdown",
   "metadata": {
    "colab_type": "text",
    "id": "vS8Ur6ddVp_u"
   },
   "source": [
    "# 19. Какой год стал самым успешным по суммарным кассовым сборам?"
   ]
  },
  {
   "cell_type": "code",
   "execution_count": 71,
   "metadata": {
    "colab": {},
    "colab_type": "code",
    "id": "Dnbt4GdIVp_v"
   },
   "outputs": [],
   "source": [
    "answers ['19'] = '5.2015'\n",
    "# +"
   ]
  },
  {
   "cell_type": "code",
   "execution_count": 72,
   "metadata": {},
   "outputs": [
    {
     "data": {
      "text/plain": [
       "release_year\n",
       "2015    25449202382\n",
       "Name: revenue, dtype: int64"
      ]
     },
     "execution_count": 72,
     "metadata": {},
     "output_type": "execute_result"
    }
   ],
   "source": [
    "grouped_data = data.groupby([\"release_year\"])['revenue'].sum().sort_values(ascending=False)\n",
    "grouped_data.head(1)"
   ]
  },
  {
   "cell_type": "markdown",
   "metadata": {},
   "source": [
    "ВАРИАНТ 2"
   ]
  },
  {
   "cell_type": "code",
   "execution_count": 73,
   "metadata": {},
   "outputs": [
    {
     "data": {
      "text/html": [
       "<div>\n",
       "<style scoped>\n",
       "    .dataframe tbody tr th:only-of-type {\n",
       "        vertical-align: middle;\n",
       "    }\n",
       "\n",
       "    .dataframe tbody tr th {\n",
       "        vertical-align: top;\n",
       "    }\n",
       "\n",
       "    .dataframe thead th {\n",
       "        text-align: right;\n",
       "    }\n",
       "</style>\n",
       "<table border=\"1\" class=\"dataframe\">\n",
       "  <thead>\n",
       "    <tr style=\"text-align: right;\">\n",
       "      <th></th>\n",
       "      <th>revenue</th>\n",
       "    </tr>\n",
       "    <tr>\n",
       "      <th>release_year</th>\n",
       "      <th></th>\n",
       "    </tr>\n",
       "  </thead>\n",
       "  <tbody>\n",
       "    <tr>\n",
       "      <th>2015</th>\n",
       "      <td>25449202382</td>\n",
       "    </tr>\n",
       "    <tr>\n",
       "      <th>2014</th>\n",
       "      <td>23405862953</td>\n",
       "    </tr>\n",
       "    <tr>\n",
       "      <th>2013</th>\n",
       "      <td>23213799791</td>\n",
       "    </tr>\n",
       "    <tr>\n",
       "      <th>2012</th>\n",
       "      <td>23079001687</td>\n",
       "    </tr>\n",
       "    <tr>\n",
       "      <th>2011</th>\n",
       "      <td>22676791872</td>\n",
       "    </tr>\n",
       "    <tr>\n",
       "      <th>2010</th>\n",
       "      <td>21071204961</td>\n",
       "    </tr>\n",
       "    <tr>\n",
       "      <th>2009</th>\n",
       "      <td>20261791024</td>\n",
       "    </tr>\n",
       "    <tr>\n",
       "      <th>2008</th>\n",
       "      <td>18252781990</td>\n",
       "    </tr>\n",
       "    <tr>\n",
       "      <th>2007</th>\n",
       "      <td>18162406801</td>\n",
       "    </tr>\n",
       "    <tr>\n",
       "      <th>2004</th>\n",
       "      <td>15663430720</td>\n",
       "    </tr>\n",
       "    <tr>\n",
       "      <th>2005</th>\n",
       "      <td>15309425558</td>\n",
       "    </tr>\n",
       "    <tr>\n",
       "      <th>2006</th>\n",
       "      <td>14775042320</td>\n",
       "    </tr>\n",
       "    <tr>\n",
       "      <th>2003</th>\n",
       "      <td>14346123312</td>\n",
       "    </tr>\n",
       "    <tr>\n",
       "      <th>2002</th>\n",
       "      <td>14136361487</td>\n",
       "    </tr>\n",
       "    <tr>\n",
       "      <th>2001</th>\n",
       "      <td>13017764865</td>\n",
       "    </tr>\n",
       "    <tr>\n",
       "      <th>2000</th>\n",
       "      <td>10664099805</td>\n",
       "    </tr>\n",
       "  </tbody>\n",
       "</table>\n",
       "</div>"
      ],
      "text/plain": [
       "                  revenue\n",
       "release_year             \n",
       "2015          25449202382\n",
       "2014          23405862953\n",
       "2013          23213799791\n",
       "2012          23079001687\n",
       "2011          22676791872\n",
       "2010          21071204961\n",
       "2009          20261791024\n",
       "2008          18252781990\n",
       "2007          18162406801\n",
       "2004          15663430720\n",
       "2005          15309425558\n",
       "2006          14775042320\n",
       "2003          14346123312\n",
       "2002          14136361487\n",
       "2001          13017764865\n",
       "2000          10664099805"
      ]
     },
     "metadata": {},
     "output_type": "display_data"
    }
   ],
   "source": [
    "max_revenue_year= pd.DataFrame(data.groupby(by = 'release_year') \\\n",
    "                               .revenue.sum()).sort_values('revenue', ascending = False)\n",
    "display (max_revenue_year)"
   ]
  },
  {
   "cell_type": "markdown",
   "metadata": {
    "colab_type": "text",
    "id": "JAzJh4QAVp_z"
   },
   "source": [
    "# 20. Какой самый прибыльный год для студии Warner Bros?"
   ]
  },
  {
   "cell_type": "code",
   "execution_count": 74,
   "metadata": {
    "colab": {},
    "colab_type": "code",
    "id": "wgVu02DEVp_0"
   },
   "outputs": [],
   "source": [
    "answers ['20'] = '1.2014'\n",
    "# +"
   ]
  },
  {
   "cell_type": "code",
   "execution_count": 75,
   "metadata": {},
   "outputs": [
    {
     "data": {
      "text/plain": [
       "release_year\n",
       "2014    3243064519\n",
       "Name: revenue, dtype: int64"
      ]
     },
     "execution_count": 75,
     "metadata": {},
     "output_type": "execute_result"
    }
   ],
   "source": [
    "warner_bros = data[data.production_companies.str.contains('Warner Bros',na=False)]\n",
    "warner_bros_top_year = warner_bros.groupby([\"release_year\"])['revenue'] \\\n",
    "                      .sum().sort_values(ascending=False)\n",
    "warner_bros_top_year.head(1)"
   ]
  },
  {
   "cell_type": "markdown",
   "metadata": {},
   "source": [
    "ВАРИАНТ 2"
   ]
  },
  {
   "cell_type": "code",
   "execution_count": 76,
   "metadata": {},
   "outputs": [
    {
     "data": {
      "text/plain": [
       "release_year\n",
       "2014    2295464519\n",
       "2007    2201675217\n",
       "2008    2134595031\n",
       "2010    1974712985\n",
       "2011    1871393682\n",
       "2003    1855493377\n",
       "2009    1822454136\n",
       "2013    1636453400\n",
       "2004    1631933725\n",
       "2005    1551980298\n",
       "2001    1343545668\n",
       "2012    1258020056\n",
       "2002    1022709901\n",
       "2015     870368348\n",
       "2006     620170743\n",
       "2000     452631386\n",
       "Name: profit, dtype: int64"
      ]
     },
     "execution_count": 76,
     "metadata": {},
     "output_type": "execute_result"
    }
   ],
   "source": [
    "data[data.production_companies.str.contains('Warner Bros')] \\\n",
    "                                  .groupby('release_year')['profit'] \\\n",
    "                                  .sum().sort_values(ascending=False)"
   ]
  },
  {
   "cell_type": "markdown",
   "metadata": {},
   "source": [
    "ВАРИАНТ 3"
   ]
  },
  {
   "cell_type": "code",
   "execution_count": 78,
   "metadata": {},
   "outputs": [
    {
     "data": {
      "text/html": [
       "<div>\n",
       "<style scoped>\n",
       "    .dataframe tbody tr th:only-of-type {\n",
       "        vertical-align: middle;\n",
       "    }\n",
       "\n",
       "    .dataframe tbody tr th {\n",
       "        vertical-align: top;\n",
       "    }\n",
       "\n",
       "    .dataframe thead th {\n",
       "        text-align: right;\n",
       "    }\n",
       "</style>\n",
       "<table border=\"1\" class=\"dataframe\">\n",
       "  <thead>\n",
       "    <tr style=\"text-align: right;\">\n",
       "      <th></th>\n",
       "      <th>profit</th>\n",
       "    </tr>\n",
       "    <tr>\n",
       "      <th>release_year</th>\n",
       "      <th></th>\n",
       "    </tr>\n",
       "  </thead>\n",
       "  <tbody>\n",
       "    <tr>\n",
       "      <th>2014</th>\n",
       "      <td>2295464519</td>\n",
       "    </tr>\n",
       "    <tr>\n",
       "      <th>2007</th>\n",
       "      <td>2201675217</td>\n",
       "    </tr>\n",
       "    <tr>\n",
       "      <th>2008</th>\n",
       "      <td>2134595031</td>\n",
       "    </tr>\n",
       "    <tr>\n",
       "      <th>2010</th>\n",
       "      <td>1974712985</td>\n",
       "    </tr>\n",
       "    <tr>\n",
       "      <th>2011</th>\n",
       "      <td>1871393682</td>\n",
       "    </tr>\n",
       "  </tbody>\n",
       "</table>\n",
       "</div>"
      ],
      "text/plain": [
       "                  profit\n",
       "release_year            \n",
       "2014          2295464519\n",
       "2007          2201675217\n",
       "2008          2134595031\n",
       "2010          1974712985\n",
       "2011          1871393682"
      ]
     },
     "metadata": {},
     "output_type": "display_data"
    }
   ],
   "source": [
    "Warner_Bros_win = data[data['production_companies'] \\\n",
    "                 .map(lambda x: True if 'Warner Bros' in x else False)] # Только фильмы Warner Bros\n",
    "Warner_Bros_win = pd.DataFrame(Warner_Bros_win.groupby(by = 'release_year') \\\n",
    "                 .profit.sum()).sort_values('profit', ascending = False).head() # Создаем датасет по годам и прибыли \n",
    "display (Warner_Bros_win)"
   ]
  },
  {
   "cell_type": "markdown",
   "metadata": {
    "colab_type": "text",
    "id": "8Im1S2HRVp_4"
   },
   "source": [
    "# 21. В каком месяце за все годы суммарно вышло больше всего фильмов?"
   ]
  },
  {
   "cell_type": "code",
   "execution_count": 79,
   "metadata": {
    "colab": {},
    "colab_type": "code",
    "id": "lev6TH7gVp_4"
   },
   "outputs": [],
   "source": [
    "answers ['21'] = '4.September'\n",
    "# +"
   ]
  },
  {
   "cell_type": "code",
   "execution_count": 80,
   "metadata": {},
   "outputs": [
    {
     "data": {
      "text/plain": [
       "release_date\n",
       "September    227\n",
       "December     190\n",
       "October      186\n",
       "August       161\n",
       "March        156\n",
       "April        149\n",
       "June         147\n",
       "November     146\n",
       "July         142\n",
       "May          140\n",
       "February     135\n",
       "January      110\n",
       "Name: imdb_id, dtype: int64"
      ]
     },
     "execution_count": 80,
     "metadata": {},
     "output_type": "execute_result"
    }
   ],
   "source": [
    "# %B название месяца в полном виде\n",
    "\n",
    "data['release_date'] = pd.to_datetime(data['release_date']) # Перевод строки в дату\n",
    "\n",
    "top_month = data.groupby(data['release_date'].dt.strftime('%B'))['imdb_id'] \\\n",
    "           .count().sort_values(ascending=False)\n",
    "top_month"
   ]
  },
  {
   "cell_type": "markdown",
   "metadata": {},
   "source": [
    "    dt. strftime() \n",
    "dt. strftime() function is used to convert to Index using specified date_format. The function return an Index of formatted strings specified by date_format, which supports the same string format as the python standard library"
   ]
  },
  {
   "cell_type": "markdown",
   "metadata": {
    "colab_type": "text",
    "id": "uAJsZ_NeVp_7"
   },
   "source": [
    "# 22. Сколько суммарно вышло фильмов летом? (за июнь, июль, август)"
   ]
  },
  {
   "cell_type": "code",
   "execution_count": 81,
   "metadata": {
    "colab": {},
    "colab_type": "code",
    "id": "Aa-hEREoVp_8"
   },
   "outputs": [],
   "source": [
    "answers ['22'] = '2.450'\n",
    "# +"
   ]
  },
  {
   "cell_type": "code",
   "execution_count": 82,
   "metadata": {},
   "outputs": [
    {
     "data": {
      "text/plain": [
       "450"
      ]
     },
     "execution_count": 82,
     "metadata": {},
     "output_type": "execute_result"
    }
   ],
   "source": [
    "data['release_date'] = pd.to_datetime(data['release_date']) # Перевод строки в дату\n",
    "\n",
    "data[data.release_date.dt.month.isin([6, 7, 8, ])]['imdb_id'].count()"
   ]
  },
  {
   "cell_type": "markdown",
   "metadata": {},
   "source": [
    "    dt. month\n",
    "can be used to access the values of the series as datetime like and return several properties.Pandas Series. dt. month attribute return a numpy array containing the month of the datetime in the underlying data of the given series object.\n",
    "\n",
    "    isin()\n",
    "Pandas isin() method is used to filter data frames. isin() method helps in selecting rows with having a particular (or Multiple) value in a particular column."
   ]
  },
  {
   "cell_type": "markdown",
   "metadata": {
    "colab_type": "text",
    "id": "G94ppOY1VqAA"
   },
   "source": [
    "# 23. Для какого режиссера зима – самое продуктивное время года? "
   ]
  },
  {
   "cell_type": "code",
   "execution_count": 83,
   "metadata": {
    "colab": {},
    "colab_type": "code",
    "id": "RhNTsamuVqAB"
   },
   "outputs": [],
   "source": [
    "answers ['23'] = '5.Peter Jackson'\n",
    "# +"
   ]
  },
  {
   "cell_type": "code",
   "execution_count": 84,
   "metadata": {},
   "outputs": [
    {
     "data": {
      "text/plain": [
       "435"
      ]
     },
     "execution_count": 84,
     "metadata": {},
     "output_type": "execute_result"
    }
   ],
   "source": [
    "data['release_date'] = pd.to_datetime(data['release_date'])\n",
    "\n",
    "data[data.release_date.dt.month.isin([12, 1, 2, ])]['imdb_id'].count()"
   ]
  },
  {
   "cell_type": "code",
   "execution_count": 85,
   "metadata": {},
   "outputs": [
    {
     "data": {
      "text/plain": [
       "Peter Jackson        7\n",
       "Steven Soderbergh    6\n",
       "Clint Eastwood       6\n",
       "Shawn Levy           4\n",
       "Adam Shankman        4\n",
       "                    ..\n",
       "James Gunn           1\n",
       "Dewey Nicks          1\n",
       "Jon Turteltaub       1\n",
       "Alan Parker          1\n",
       "Seth Rogen           1\n",
       "Length: 358, dtype: int64"
      ]
     },
     "execution_count": 85,
     "metadata": {},
     "output_type": "execute_result"
    }
   ],
   "source": [
    "data['release_date'] = pd.to_datetime(data['release_date'])\n",
    "release_winter = data[data.release_date.dt.month.isin([12,1,2])]\n",
    "director_winter = release_winter['director'] \\\n",
    "                 .str.split('|',expand=True).stack().value_counts()\n",
    "\n",
    "director_winter"
   ]
  },
  {
   "cell_type": "markdown",
   "metadata": {},
   "source": [
    "ВАРИАНТ 2"
   ]
  },
  {
   "cell_type": "code",
   "execution_count": 86,
   "metadata": {},
   "outputs": [
    {
     "data": {
      "text/html": [
       "<div>\n",
       "<style scoped>\n",
       "    .dataframe tbody tr th:only-of-type {\n",
       "        vertical-align: middle;\n",
       "    }\n",
       "\n",
       "    .dataframe tbody tr th {\n",
       "        vertical-align: top;\n",
       "    }\n",
       "\n",
       "    .dataframe thead th {\n",
       "        text-align: right;\n",
       "    }\n",
       "</style>\n",
       "<table border=\"1\" class=\"dataframe\">\n",
       "  <thead>\n",
       "    <tr style=\"text-align: right;\">\n",
       "      <th></th>\n",
       "      <th>0</th>\n",
       "    </tr>\n",
       "  </thead>\n",
       "  <tbody>\n",
       "    <tr>\n",
       "      <th>Peter Jackson</th>\n",
       "      <td>7</td>\n",
       "    </tr>\n",
       "    <tr>\n",
       "      <th>Steven Soderbergh</th>\n",
       "      <td>6</td>\n",
       "    </tr>\n",
       "    <tr>\n",
       "      <th>Clint Eastwood</th>\n",
       "      <td>6</td>\n",
       "    </tr>\n",
       "    <tr>\n",
       "      <th>Adam Shankman</th>\n",
       "      <td>4</td>\n",
       "    </tr>\n",
       "    <tr>\n",
       "      <th>Nancy Meyers</th>\n",
       "      <td>4</td>\n",
       "    </tr>\n",
       "    <tr>\n",
       "      <th>...</th>\n",
       "      <td>...</td>\n",
       "    </tr>\n",
       "    <tr>\n",
       "      <th>Peter Cattaneo</th>\n",
       "      <td>0</td>\n",
       "    </tr>\n",
       "    <tr>\n",
       "      <th>Paolo Sorrentino</th>\n",
       "      <td>0</td>\n",
       "    </tr>\n",
       "    <tr>\n",
       "      <th>Todd Lincoln</th>\n",
       "      <td>0</td>\n",
       "    </tr>\n",
       "    <tr>\n",
       "      <th>Ben Gluck</th>\n",
       "      <td>0</td>\n",
       "    </tr>\n",
       "    <tr>\n",
       "      <th>Craig Mazin</th>\n",
       "      <td>0</td>\n",
       "    </tr>\n",
       "  </tbody>\n",
       "</table>\n",
       "<p>997 rows × 1 columns</p>\n",
       "</div>"
      ],
      "text/plain": [
       "                   0\n",
       "Peter Jackson      7\n",
       "Steven Soderbergh  6\n",
       "Clint Eastwood     6\n",
       "Adam Shankman      4\n",
       "Nancy Meyers       4\n",
       "...               ..\n",
       "Peter Cattaneo     0\n",
       "Paolo Sorrentino   0\n",
       "Todd Lincoln       0\n",
       "Ben Gluck          0\n",
       "Craig Mazin        0\n",
       "\n",
       "[997 rows x 1 columns]"
      ]
     },
     "execution_count": 86,
     "metadata": {},
     "output_type": "execute_result"
    }
   ],
   "source": [
    "def counter(movie_bd, x):\n",
    "    \"\"\"создали функцию для посчета того что нам нужно\"\"\"\n",
    "    info = movie_bd[x].str.split('|', expand=True).stack().value_counts()\n",
    "    return info\n",
    "\n",
    "top_director_winter = counter(data,'director') \n",
    "data['release_date'] = pd.to_datetime(data['release_date'])\n",
    "\n",
    "for director in top_director_winter.index:\n",
    "    top_director_winter[director] = data['release_date'] \\\n",
    "                                    [data.release_date.dt.month.isin([12,1,2])] \\\n",
    "                                    [data['director'].map(lambda x: True if director in x else False)].count()\n",
    "    \n",
    "top_director_winter = pd.DataFrame(top_director_winter).sort_values(0,ascending=False) \n",
    "            # Создали дата сет по количеству выпущеных фильмов зимой  \n",
    "    \n",
    "top_director_winter"
   ]
  },
  {
   "cell_type": "markdown",
   "metadata": {
    "colab_type": "text",
    "id": "RBo0JVjVVqAF"
   },
   "source": [
    "# 24. Какая студия дает самые длинные названия своим фильмам по количеству символов?"
   ]
  },
  {
   "cell_type": "code",
   "execution_count": 87,
   "metadata": {
    "colab": {},
    "colab_type": "code",
    "id": "QRGS8L0iVqAG"
   },
   "outputs": [],
   "source": [
    "answers ['24'] = '5.Four By Two Productions'\n",
    "# +"
   ]
  },
  {
   "cell_type": "code",
   "execution_count": 88,
   "metadata": {},
   "outputs": [
    {
     "data": {
      "text/html": [
       "<div>\n",
       "<style scoped>\n",
       "    .dataframe tbody tr th:only-of-type {\n",
       "        vertical-align: middle;\n",
       "    }\n",
       "\n",
       "    .dataframe tbody tr th {\n",
       "        vertical-align: top;\n",
       "    }\n",
       "\n",
       "    .dataframe thead th {\n",
       "        text-align: right;\n",
       "    }\n",
       "</style>\n",
       "<table border=\"1\" class=\"dataframe\">\n",
       "  <thead>\n",
       "    <tr style=\"text-align: right;\">\n",
       "      <th></th>\n",
       "      <th>0</th>\n",
       "    </tr>\n",
       "  </thead>\n",
       "  <tbody>\n",
       "    <tr>\n",
       "      <th>Four By Two Productions</th>\n",
       "      <td>12</td>\n",
       "    </tr>\n",
       "    <tr>\n",
       "      <th>Jim Henson Company, The</th>\n",
       "      <td>10</td>\n",
       "    </tr>\n",
       "    <tr>\n",
       "      <th>Polsky Films</th>\n",
       "      <td>9</td>\n",
       "    </tr>\n",
       "    <tr>\n",
       "      <th>The Saul Zaentz Company</th>\n",
       "      <td>9</td>\n",
       "    </tr>\n",
       "    <tr>\n",
       "      <th>Dos Corazones</th>\n",
       "      <td>9</td>\n",
       "    </tr>\n",
       "    <tr>\n",
       "      <th>...</th>\n",
       "      <td>...</td>\n",
       "    </tr>\n",
       "    <tr>\n",
       "      <th>Mango Farms</th>\n",
       "      <td>1</td>\n",
       "    </tr>\n",
       "    <tr>\n",
       "      <th>8:38 Productions</th>\n",
       "      <td>1</td>\n",
       "    </tr>\n",
       "    <tr>\n",
       "      <th>Fuji Television Network</th>\n",
       "      <td>1</td>\n",
       "    </tr>\n",
       "    <tr>\n",
       "      <th>Munich Film Partners &amp; Company (MFP) GHS Productions</th>\n",
       "      <td>1</td>\n",
       "    </tr>\n",
       "    <tr>\n",
       "      <th>Castel Film Romania</th>\n",
       "      <td>1</td>\n",
       "    </tr>\n",
       "  </tbody>\n",
       "</table>\n",
       "<p>1771 rows × 1 columns</p>\n",
       "</div>"
      ],
      "text/plain": [
       "                                                     0\n",
       "Four By Two Productions                             12\n",
       "Jim Henson Company, The                             10\n",
       "Polsky Films                                         9\n",
       "The Saul Zaentz Company                              9\n",
       "Dos Corazones                                        9\n",
       "...                                                 ..\n",
       "Mango Farms                                          1\n",
       "8:38 Productions                                     1\n",
       "Fuji Television Network                              1\n",
       "Munich Film Partners & Company (MFP) GHS Produc...   1\n",
       "Castel Film Romania                                  1\n",
       "\n",
       "[1771 rows x 1 columns]"
      ]
     },
     "execution_count": 88,
     "metadata": {},
     "output_type": "execute_result"
    }
   ],
   "source": [
    "def counter(movie_bd, x):\n",
    "    \"\"\"создали функцию для посчета того что нам нужно\"\"\"\n",
    "    info = movie_bd[x].str.split('|', expand=True).stack().value_counts()\n",
    "    return info\n",
    "\n",
    "data['title_words_length'] = data.original_title.map(lambda x: len(x.split(' '))) \n",
    "            # Создаем столбец title_words_length, где будет длина названия фильма\n",
    "max_len_title = counter(data,'production_companies')\n",
    "\n",
    "for title in max_len_title.index:\n",
    "    max_len_title[title] = data['title_words_length'] \\\n",
    "                          [data['production_companies'] \\\n",
    "                          .map(lambda x: True if title in x else False)].mean()\n",
    "    \n",
    "max_len_title = pd.DataFrame(max_len_title).sort_values(0, ascending=False)\n",
    "\n",
    "max_len_title"
   ]
  },
  {
   "cell_type": "markdown",
   "metadata": {
    "colab_type": "text",
    "id": "9G0hbvR7VqAK"
   },
   "source": [
    "# 25. Описание фильмов какой студии в среднем самые длинные по количеству слов?"
   ]
  },
  {
   "cell_type": "code",
   "execution_count": 89,
   "metadata": {
    "colab": {},
    "colab_type": "code",
    "id": "Ge2GsLNxVqAK"
   },
   "outputs": [],
   "source": [
    "answers ['25'] = '3.Midnight Picture Show'\n",
    "# +"
   ]
  },
  {
   "cell_type": "code",
   "execution_count": 90,
   "metadata": {},
   "outputs": [
    {
     "data": {
      "text/html": [
       "<div>\n",
       "<style scoped>\n",
       "    .dataframe tbody tr th:only-of-type {\n",
       "        vertical-align: middle;\n",
       "    }\n",
       "\n",
       "    .dataframe tbody tr th {\n",
       "        vertical-align: top;\n",
       "    }\n",
       "\n",
       "    .dataframe thead th {\n",
       "        text-align: right;\n",
       "    }\n",
       "</style>\n",
       "<table border=\"1\" class=\"dataframe\">\n",
       "  <thead>\n",
       "    <tr style=\"text-align: right;\">\n",
       "      <th></th>\n",
       "      <th>0</th>\n",
       "    </tr>\n",
       "  </thead>\n",
       "  <tbody>\n",
       "    <tr>\n",
       "      <th>Midnight Picture Show</th>\n",
       "      <td>175</td>\n",
       "    </tr>\n",
       "    <tr>\n",
       "      <th>Heineken Branded Entertainment</th>\n",
       "      <td>161</td>\n",
       "    </tr>\n",
       "    <tr>\n",
       "      <th>Room 9 Entertainment</th>\n",
       "      <td>161</td>\n",
       "    </tr>\n",
       "    <tr>\n",
       "      <th>98 MPH Productions</th>\n",
       "      <td>159</td>\n",
       "    </tr>\n",
       "    <tr>\n",
       "      <th>Brookwell-McNamara Entertainment</th>\n",
       "      <td>156</td>\n",
       "    </tr>\n",
       "    <tr>\n",
       "      <th>...</th>\n",
       "      <td>...</td>\n",
       "    </tr>\n",
       "    <tr>\n",
       "      <th>TDJ Enterprises / New Dimensions Entertainment</th>\n",
       "      <td>13</td>\n",
       "    </tr>\n",
       "    <tr>\n",
       "      <th>Sony Pictures Worldwide Acquisitions (SPWA)</th>\n",
       "      <td>13</td>\n",
       "    </tr>\n",
       "    <tr>\n",
       "      <th>Our Stories Films</th>\n",
       "      <td>13</td>\n",
       "    </tr>\n",
       "    <tr>\n",
       "      <th>Motion Picture Corporation of America</th>\n",
       "      <td>11</td>\n",
       "    </tr>\n",
       "    <tr>\n",
       "      <th>Empire Pictures</th>\n",
       "      <td>11</td>\n",
       "    </tr>\n",
       "  </tbody>\n",
       "</table>\n",
       "<p>1771 rows × 1 columns</p>\n",
       "</div>"
      ],
      "text/plain": [
       "                                                  0\n",
       "Midnight Picture Show                           175\n",
       "Heineken Branded Entertainment                  161\n",
       "Room 9 Entertainment                            161\n",
       "98 MPH Productions                              159\n",
       "Brookwell-McNamara Entertainment                156\n",
       "...                                             ...\n",
       "TDJ Enterprises / New Dimensions Entertainment   13\n",
       "Sony Pictures Worldwide Acquisitions (SPWA)      13\n",
       "Our Stories Films                                13\n",
       "Motion Picture Corporation of America            11\n",
       "Empire Pictures                                  11\n",
       "\n",
       "[1771 rows x 1 columns]"
      ]
     },
     "execution_count": 90,
     "metadata": {},
     "output_type": "execute_result"
    }
   ],
   "source": [
    "def counter(movie_bd, x):\n",
    "    \"\"\"создали функцию для посчета того что нам нужно\"\"\"\n",
    "    info = movie_bd[x].str.split('|', expand=True).stack().value_counts()\n",
    "    return info\n",
    "\n",
    "data['overview_length'] = data.overview.map(lambda x: len(x.split(' ')))\n",
    "words_mean = counter(data,'production_companies')\n",
    "\n",
    "for words in words_mean.index:\n",
    "    words_mean[words] = data['overview_length'] \\\n",
    "                        [data['production_companies'].map(lambda x: True if words in x else False)].mean()\n",
    "    \n",
    "words_mean = pd.DataFrame(words_mean).sort_values(0, ascending=False)\n",
    "\n",
    "words_mean"
   ]
  },
  {
   "cell_type": "markdown",
   "metadata": {
    "colab_type": "text",
    "id": "FJ1AFt90VqAP"
   },
   "source": [
    "# 26. Какие фильмы входят в 1 процент лучших по рейтингу? \n",
    "по vote_average"
   ]
  },
  {
   "cell_type": "code",
   "execution_count": 91,
   "metadata": {
    "colab": {},
    "colab_type": "code",
    "id": "8qmJVq4CVqAQ"
   },
   "outputs": [],
   "source": [
    "answers ['26'] = '1.Inside Out, The Dark Knight, 12 Years a Slave'\n",
    "# +"
   ]
  },
  {
   "cell_type": "code",
   "execution_count": 92,
   "metadata": {},
   "outputs": [
    {
     "data": {
      "text/plain": [
       "9                                          Inside Out\n",
       "34                                               Room\n",
       "118                                      Interstellar\n",
       "119                           Guardians of the Galaxy\n",
       "125                                The Imitation Game\n",
       "128                                         Gone Girl\n",
       "138                          The Grand Budapest Hotel\n",
       "370                                         Inception\n",
       "599                                   The Dark Knight\n",
       "872                                       The Pianist\n",
       "1081    The Lord of the Rings: The Return of the King\n",
       "1183                          The Wolf of Wall Street\n",
       "1191                                 12 Years a Slave\n",
       "1800                                          Memento\n",
       "Name: original_title, dtype: object"
      ]
     },
     "execution_count": 92,
     "metadata": {},
     "output_type": "execute_result"
    }
   ],
   "source": [
    "best_film = data[data['vote_average'] \\\n",
    "                 > data.quantile(0.99, numeric_only=True) \\\n",
    "                 ['vote_average']]['original_title']\n",
    "               # Получаем значения в заданном квантиле по условию  \n",
    "best_film"
   ]
  },
  {
   "cell_type": "markdown",
   "metadata": {},
   "source": [
    "ВАРИАНТ 2"
   ]
  },
  {
   "cell_type": "code",
   "execution_count": 93,
   "metadata": {},
   "outputs": [
    {
     "data": {
      "text/html": [
       "<div>\n",
       "<style scoped>\n",
       "    .dataframe tbody tr th:only-of-type {\n",
       "        vertical-align: middle;\n",
       "    }\n",
       "\n",
       "    .dataframe tbody tr th {\n",
       "        vertical-align: top;\n",
       "    }\n",
       "\n",
       "    .dataframe thead th {\n",
       "        text-align: right;\n",
       "    }\n",
       "</style>\n",
       "<table border=\"1\" class=\"dataframe\">\n",
       "  <thead>\n",
       "    <tr style=\"text-align: right;\">\n",
       "      <th></th>\n",
       "      <th>original_title</th>\n",
       "      <th>vote_average</th>\n",
       "    </tr>\n",
       "  </thead>\n",
       "  <tbody>\n",
       "    <tr>\n",
       "      <th>599</th>\n",
       "      <td>The Dark Knight</td>\n",
       "      <td>8.1</td>\n",
       "    </tr>\n",
       "    <tr>\n",
       "      <th>118</th>\n",
       "      <td>Interstellar</td>\n",
       "      <td>8.0</td>\n",
       "    </tr>\n",
       "    <tr>\n",
       "      <th>125</th>\n",
       "      <td>The Imitation Game</td>\n",
       "      <td>8.0</td>\n",
       "    </tr>\n",
       "    <tr>\n",
       "      <th>9</th>\n",
       "      <td>Inside Out</td>\n",
       "      <td>8.0</td>\n",
       "    </tr>\n",
       "    <tr>\n",
       "      <th>34</th>\n",
       "      <td>Room</td>\n",
       "      <td>8.0</td>\n",
       "    </tr>\n",
       "    <tr>\n",
       "      <th>1183</th>\n",
       "      <td>The Wolf of Wall Street</td>\n",
       "      <td>7.9</td>\n",
       "    </tr>\n",
       "    <tr>\n",
       "      <th>128</th>\n",
       "      <td>Gone Girl</td>\n",
       "      <td>7.9</td>\n",
       "    </tr>\n",
       "    <tr>\n",
       "      <th>1191</th>\n",
       "      <td>12 Years a Slave</td>\n",
       "      <td>7.9</td>\n",
       "    </tr>\n",
       "    <tr>\n",
       "      <th>119</th>\n",
       "      <td>Guardians of the Galaxy</td>\n",
       "      <td>7.9</td>\n",
       "    </tr>\n",
       "    <tr>\n",
       "      <th>1081</th>\n",
       "      <td>The Lord of the Rings: The Return of the King</td>\n",
       "      <td>7.9</td>\n",
       "    </tr>\n",
       "    <tr>\n",
       "      <th>1800</th>\n",
       "      <td>Memento</td>\n",
       "      <td>7.9</td>\n",
       "    </tr>\n",
       "    <tr>\n",
       "      <th>370</th>\n",
       "      <td>Inception</td>\n",
       "      <td>7.9</td>\n",
       "    </tr>\n",
       "    <tr>\n",
       "      <th>872</th>\n",
       "      <td>The Pianist</td>\n",
       "      <td>7.9</td>\n",
       "    </tr>\n",
       "    <tr>\n",
       "      <th>138</th>\n",
       "      <td>The Grand Budapest Hotel</td>\n",
       "      <td>7.9</td>\n",
       "    </tr>\n",
       "    <tr>\n",
       "      <th>1188</th>\n",
       "      <td>Her</td>\n",
       "      <td>7.8</td>\n",
       "    </tr>\n",
       "    <tr>\n",
       "      <th>28</th>\n",
       "      <td>Spotlight</td>\n",
       "      <td>7.8</td>\n",
       "    </tr>\n",
       "    <tr>\n",
       "      <th>124</th>\n",
       "      <td>Big Hero 6</td>\n",
       "      <td>7.8</td>\n",
       "    </tr>\n",
       "    <tr>\n",
       "      <th>177</th>\n",
       "      <td>The Fault in Our Stars</td>\n",
       "      <td>7.8</td>\n",
       "    </tr>\n",
       "  </tbody>\n",
       "</table>\n",
       "</div>"
      ],
      "text/plain": [
       "                                     original_title  vote_average\n",
       "599                                 The Dark Knight           8.1\n",
       "118                                    Interstellar           8.0\n",
       "125                              The Imitation Game           8.0\n",
       "9                                        Inside Out           8.0\n",
       "34                                             Room           8.0\n",
       "1183                        The Wolf of Wall Street           7.9\n",
       "128                                       Gone Girl           7.9\n",
       "1191                               12 Years a Slave           7.9\n",
       "119                         Guardians of the Galaxy           7.9\n",
       "1081  The Lord of the Rings: The Return of the King           7.9\n",
       "1800                                        Memento           7.9\n",
       "370                                       Inception           7.9\n",
       "872                                     The Pianist           7.9\n",
       "138                        The Grand Budapest Hotel           7.9\n",
       "1188                                            Her           7.8\n",
       "28                                        Spotlight           7.8\n",
       "124                                      Big Hero 6           7.8\n",
       "177                          The Fault in Our Stars           7.8"
      ]
     },
     "execution_count": 93,
     "metadata": {},
     "output_type": "execute_result"
    }
   ],
   "source": [
    "data[['original_title','vote_average']] \\\n",
    "        .sort_values('vote_average',ascending = False) \\\n",
    "        .head(int(len(data['vote_average'])*0.01))"
   ]
  },
  {
   "cell_type": "markdown",
   "metadata": {
    "colab_type": "text",
    "id": "MdXsUXbCVqAV"
   },
   "source": [
    "# 27. Какие актеры чаще всего снимаются в одном фильме вместе?\n"
   ]
  },
  {
   "cell_type": "code",
   "execution_count": 94,
   "metadata": {},
   "outputs": [],
   "source": [
    "answers ['27'] = '5.Daniel Radcliffe Rupert Grint'\n",
    "# +"
   ]
  },
  {
   "cell_type": "code",
   "execution_count": 95,
   "metadata": {},
   "outputs": [
    {
     "data": {
      "text/plain": [
       "Emma Watson Rupert Grint            8\n",
       "Daniel Radcliffe Emma Watson        8\n",
       "Daniel Radcliffe Rupert Grint       8\n",
       "Helena Bonham Carter Johnny Depp    6\n",
       "Ben Stiller Owen Wilson             6\n",
       "Robert Pattinson Taylor Lautner     5\n",
       "Kristen Stewart Taylor Lautner      5\n",
       "Paul Walker Vin Diesel              5\n",
       "Hugh Jackman Ian McKellen           5\n",
       "Adam Sandler Kevin James            5\n",
       "Name: actor_combinations, dtype: int64"
      ]
     },
     "execution_count": 95,
     "metadata": {},
     "output_type": "execute_result"
    }
   ],
   "source": [
    "from itertools import combinations\n",
    "\n",
    "actor_list = data.cast.str.split('|').tolist() # Делаем список с актерами\n",
    "combo_list=[]\n",
    "\n",
    "for i in actor_list: # Задаем цикл и создаем список с парами\n",
    "    for j in combinations(i, 2):\n",
    "        combo_list.append(' '.join(sorted(j))) # в комбинации может быть как А,Б, так и Б,А поэтому используем sorted\n",
    "        \n",
    "combo_list = pd.DataFrame(combo_list)\n",
    "combo_list.columns = ['actor_combinations']\n",
    "\n",
    "combo_list.actor_combinations.value_counts().head(10) # Считаем количество пар"
   ]
  },
  {
   "cell_type": "markdown",
   "metadata": {
    "colab_type": "text",
    "id": "U0nONFnGVqAX"
   },
   "source": [
    "# Submission"
   ]
  },
  {
   "cell_type": "code",
   "execution_count": 96,
   "metadata": {
    "colab": {},
    "colab_type": "code",
    "id": "IfcaRO9-VqAX",
    "outputId": "0f132912-32bb-4196-c98c-abfbc4ad5a5f"
   },
   "outputs": [
    {
     "data": {
      "text/plain": [
       "{'1': '5. Pirates of the Caribbean: On Stranger Tides(tt1298650)',\n",
       " '2': '2.Gods and Generals(tt0279111)',\n",
       " '3': '3. Winnie the Pooh (tt1449283)',\n",
       " '4': '2.110',\n",
       " '5': '1.107',\n",
       " '6': '5.Avatar(tt0499549)',\n",
       " '7': '5.The Lone Ranger(tt1210819)',\n",
       " '8': '1.1478',\n",
       " '9': '4.The Dark Knight(tt0468569)',\n",
       " '10': '5.The Lone Ranger(tt1210819)',\n",
       " '11': '3.Drama',\n",
       " '12': '1.Drama',\n",
       " '13': '5.Peter Jackson',\n",
       " '14': '3.Robert Rodriguez',\n",
       " '15': '3.Chris Hemsworth',\n",
       " '16': '3.Matt Damon',\n",
       " '17': '2.Action',\n",
       " '18': '1.K-19: The Widowmaker',\n",
       " '19': '5.2015',\n",
       " '20': '1.2014',\n",
       " '21': '4.September',\n",
       " '22': '2.450',\n",
       " '23': '5.Peter Jackson',\n",
       " '24': '5.Four By Two Productions',\n",
       " '25': '3.Midnight Picture Show',\n",
       " '26': '1.Inside Out, The Dark Knight, 12 Years a Slave',\n",
       " '27': '5.Daniel Radcliffe Rupert Grint'}"
      ]
     },
     "execution_count": 96,
     "metadata": {},
     "output_type": "execute_result"
    }
   ],
   "source": [
    "# В конце можно посмотреть свои ответы к каждому вопросу\n",
    "answers"
   ]
  },
  {
   "cell_type": "code",
   "execution_count": 97,
   "metadata": {
    "colab": {},
    "colab_type": "code",
    "id": "SiRmHPl8VqAd"
   },
   "outputs": [
    {
     "data": {
      "text/plain": [
       "27"
      ]
     },
     "execution_count": 97,
     "metadata": {},
     "output_type": "execute_result"
    }
   ],
   "source": [
    "# и убедиться что ни чего не пропустил)\n",
    "len(answers)"
   ]
  }
 ],
 "metadata": {
  "colab": {
   "name": "Copy of [SF-DST] Movies IMBD v4.1 TEMPLATE.ipynb",
   "provenance": []
  },
  "kernelspec": {
   "display_name": "Python 3",
   "language": "python",
   "name": "python3"
  },
  "language_info": {
   "codemirror_mode": {
    "name": "ipython",
    "version": 3
   },
   "file_extension": ".py",
   "mimetype": "text/x-python",
   "name": "python",
   "nbconvert_exporter": "python",
   "pygments_lexer": "ipython3",
   "version": "3.7.6"
  }
 },
 "nbformat": 4,
 "nbformat_minor": 1
}
