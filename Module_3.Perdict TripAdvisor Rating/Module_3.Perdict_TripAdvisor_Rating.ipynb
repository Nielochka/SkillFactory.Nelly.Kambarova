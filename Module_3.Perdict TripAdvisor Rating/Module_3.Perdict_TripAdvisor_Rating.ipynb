{
 "cells": [
  {
   "cell_type": "markdown",
   "metadata": {},
   "source": [
    "## Predict TripAdvisor Rating\n",
    "\n",
    "Try to solve first real case and create the first model using machine learning algorithms. For now, the task will be to properly prepare the data for training the model.\n",
    "\n",
    "\n",
    "#### Which case are we solving?\n",
    "\n",
    "Let's say we work for DS at TripAdvisor. One of the company's problems is dishonest restaurants that wind up their ratings. One way to find such restaurants is to build a model that predicts the restaurant rating. If the predictions of the model greatly differ from the actual result, then the restaurant may be playing unfairly and should be checked.\n",
    "\n",
    "We will be working with a dataset containing information about 40,000 restaurants in Europe, and the model we will train will have to predict the rating of a restaurant from TripAdvisor, based on the data available in the dataset."
   ]
  },
  {
   "cell_type": "markdown",
   "metadata": {},
   "source": [
    "## 1. Importing"
   ]
  },
  {
   "cell_type": "code",
   "execution_count": 1,
   "metadata": {},
   "outputs": [],
   "source": [
    "# This Python 3 environment comes with many helpful analytics libraries installed\n",
    "# It is defined by the kaggle/python docker image: https://github.com/kaggle/docker-python\n",
    "# For example, here's several helpful packages to load in \n",
    "\n",
    "import pandas as pd # data processing, CSV file I/O (e.g. pd.read_csv)\n",
    "import numpy as np # linear algebra\n",
    "from datetime import datetime # for data\n",
    "\n",
    "# Data Visualization\n",
    "import matplotlib.pyplot as plt\n",
    "import seaborn as sns \n",
    "import os\n",
    "\n",
    "# Preprocessing Data\n",
    "from sklearn.model_selection import train_test_split \n",
    "from sklearn.ensemble import RandomForestRegressor, RandomForestClassifier # tool for creating and training a model\n",
    "from sklearn import metrics # tools for assessing model accuracy\n",
    "from sklearn.preprocessing import LabelEncoder\n",
    "from sklearn.preprocessing import MinMaxScaler\n",
    "min_max_scaler = MinMaxScaler()\n",
    "\n",
    "%matplotlib inline\n",
    "\n",
    "import os\n",
    "for dirname, _, filenames in os.walk('/kaggle/input'):\n",
    "    for filename in filenames:\n",
    "        print(os.path.join(dirname, filename))\n",
    "\n",
    "# Any results you write to the current directory are saved as output."
   ]
  },
  {
   "cell_type": "code",
   "execution_count": 2,
   "metadata": {},
   "outputs": [],
   "source": [
    "#Setting the conditions for experiments.\n",
    "#For reproducibility of the results, let's set: \n",
    "# - general parameter for generating random numbers\n",
    "RANDOM_SEED = 42\n",
    "# - current date\n",
    "current_date = pd.to_datetime('02/12/2020')\n",
    "# fix the version of the packages so that the experiments are reproducible:\n",
    "!pip freeze > requirements.txt"
   ]
  },
  {
   "cell_type": "markdown",
   "metadata": {},
   "source": [
    "### 1.2. Importing Data"
   ]
  },
  {
   "cell_type": "code",
   "execution_count": null,
   "metadata": {},
   "outputs": [],
   "source": [
    "# data_directory = '/kaggle/input/sf-dst-restaurant-rating/\n",
    "# dataset for training\n",
    "# data_train = pd.read_csv(data_directory+'/main_task.csv')\n",
    "\n",
    "# dataset for which we want predict the rating\n",
    "# data_test = pd.read_csv(data_directory+'/kaggle_task.csv')\n",
    "\n",
    "# sample_submission = pd.read_csv(data_directory+'/sample_submission.csv')"
   ]
  },
  {
   "cell_type": "code",
   "execution_count": 3,
   "metadata": {},
   "outputs": [],
   "source": [
    "# data_directory = '/kaggle/input/sf-dst-restaurant-rating/\n",
    "# dataset for training\n",
    "data_train = pd.read_csv('main_task.csv')\n",
    "\n",
    "# dataset for which we want predict the rating\n",
    "data_test = pd.read_csv('kaggle_task.csv')\n",
    "\n",
    "sample_submission = pd.read_csv('sample_submission.csv')"
   ]
  },
  {
   "cell_type": "code",
   "execution_count": 4,
   "metadata": {},
   "outputs": [
    {
     "name": "stdout",
     "output_type": "stream",
     "text": [
      "<class 'pandas.core.frame.DataFrame'>\n",
      "RangeIndex: 40000 entries, 0 to 39999\n",
      "Data columns (total 10 columns):\n",
      " #   Column             Non-Null Count  Dtype  \n",
      "---  ------             --------------  -----  \n",
      " 0   Restaurant_id      40000 non-null  object \n",
      " 1   City               40000 non-null  object \n",
      " 2   Cuisine Style      30717 non-null  object \n",
      " 3   Ranking            40000 non-null  float64\n",
      " 4   Rating             40000 non-null  float64\n",
      " 5   Price Range        26114 non-null  object \n",
      " 6   Number of Reviews  37457 non-null  float64\n",
      " 7   Reviews            40000 non-null  object \n",
      " 8   URL_TA             40000 non-null  object \n",
      " 9   ID_TA              40000 non-null  object \n",
      "dtypes: float64(3), object(7)\n",
      "memory usage: 3.1+ MB\n"
     ]
    },
    {
     "data": {
      "text/html": [
       "<div>\n",
       "<style scoped>\n",
       "    .dataframe tbody tr th:only-of-type {\n",
       "        vertical-align: middle;\n",
       "    }\n",
       "\n",
       "    .dataframe tbody tr th {\n",
       "        vertical-align: top;\n",
       "    }\n",
       "\n",
       "    .dataframe thead th {\n",
       "        text-align: right;\n",
       "    }\n",
       "</style>\n",
       "<table border=\"1\" class=\"dataframe\">\n",
       "  <thead>\n",
       "    <tr style=\"text-align: right;\">\n",
       "      <th></th>\n",
       "      <th>Restaurant_id</th>\n",
       "      <th>City</th>\n",
       "      <th>Cuisine Style</th>\n",
       "      <th>Ranking</th>\n",
       "      <th>Rating</th>\n",
       "      <th>Price Range</th>\n",
       "      <th>Number of Reviews</th>\n",
       "      <th>Reviews</th>\n",
       "      <th>URL_TA</th>\n",
       "      <th>ID_TA</th>\n",
       "    </tr>\n",
       "  </thead>\n",
       "  <tbody>\n",
       "    <tr>\n",
       "      <th>15431</th>\n",
       "      <td>id_823</td>\n",
       "      <td>Helsinki</td>\n",
       "      <td>['Mexican', 'Southwestern', 'Gluten Free Optio...</td>\n",
       "      <td>824.0</td>\n",
       "      <td>3.0</td>\n",
       "      <td>$$ - $$$</td>\n",
       "      <td>212.0</td>\n",
       "      <td>[['Nice Tex-Mex restaurant', 'Good Mexican sty...</td>\n",
       "      <td>/Restaurant_Review-g189934-d798087-Reviews-Can...</td>\n",
       "      <td>d798087</td>\n",
       "    </tr>\n",
       "    <tr>\n",
       "      <th>16590</th>\n",
       "      <td>id_7854</td>\n",
       "      <td>Madrid</td>\n",
       "      <td>['German', 'European']</td>\n",
       "      <td>7861.0</td>\n",
       "      <td>3.0</td>\n",
       "      <td>$$ - $$$</td>\n",
       "      <td>83.0</td>\n",
       "      <td>[['Dinner with a group of students', 'A beer h...</td>\n",
       "      <td>/Restaurant_Review-g187514-d2001857-Reviews-Kr...</td>\n",
       "      <td>d2001857</td>\n",
       "    </tr>\n",
       "    <tr>\n",
       "      <th>32876</th>\n",
       "      <td>id_7537</td>\n",
       "      <td>Madrid</td>\n",
       "      <td>NaN</td>\n",
       "      <td>7544.0</td>\n",
       "      <td>3.0</td>\n",
       "      <td>NaN</td>\n",
       "      <td>70.0</td>\n",
       "      <td>[['Irish pub without Guinness!?', 'Below avera...</td>\n",
       "      <td>/Restaurant_Review-g187514-d2010714-Reviews-Th...</td>\n",
       "      <td>d2010714</td>\n",
       "    </tr>\n",
       "    <tr>\n",
       "      <th>24700</th>\n",
       "      <td>id_7173</td>\n",
       "      <td>London</td>\n",
       "      <td>['Japanese', 'Sushi', 'Asian', 'Gluten Free Op...</td>\n",
       "      <td>7182.0</td>\n",
       "      <td>4.0</td>\n",
       "      <td>$$ - $$$</td>\n",
       "      <td>76.0</td>\n",
       "      <td>[['Good food but a bit overpriced', 'Proper su...</td>\n",
       "      <td>/Restaurant_Review-g186338-d6437461-Reviews-Oh...</td>\n",
       "      <td>d6437461</td>\n",
       "    </tr>\n",
       "    <tr>\n",
       "      <th>21755</th>\n",
       "      <td>id_798</td>\n",
       "      <td>Bratislava</td>\n",
       "      <td>NaN</td>\n",
       "      <td>799.0</td>\n",
       "      <td>3.5</td>\n",
       "      <td>NaN</td>\n",
       "      <td>6.0</td>\n",
       "      <td>[['Tasty food', 'Nice experience'], ['06/19/20...</td>\n",
       "      <td>/Restaurant_Review-g274924-d9844847-Reviews-Bo...</td>\n",
       "      <td>d9844847</td>\n",
       "    </tr>\n",
       "  </tbody>\n",
       "</table>\n",
       "</div>"
      ],
      "text/plain": [
       "      Restaurant_id        City  \\\n",
       "15431        id_823    Helsinki   \n",
       "16590       id_7854      Madrid   \n",
       "32876       id_7537      Madrid   \n",
       "24700       id_7173      London   \n",
       "21755        id_798  Bratislava   \n",
       "\n",
       "                                           Cuisine Style  Ranking  Rating  \\\n",
       "15431  ['Mexican', 'Southwestern', 'Gluten Free Optio...    824.0     3.0   \n",
       "16590                             ['German', 'European']   7861.0     3.0   \n",
       "32876                                                NaN   7544.0     3.0   \n",
       "24700  ['Japanese', 'Sushi', 'Asian', 'Gluten Free Op...   7182.0     4.0   \n",
       "21755                                                NaN    799.0     3.5   \n",
       "\n",
       "      Price Range  Number of Reviews  \\\n",
       "15431    $$ - $$$              212.0   \n",
       "16590    $$ - $$$               83.0   \n",
       "32876         NaN               70.0   \n",
       "24700    $$ - $$$               76.0   \n",
       "21755         NaN                6.0   \n",
       "\n",
       "                                                 Reviews  \\\n",
       "15431  [['Nice Tex-Mex restaurant', 'Good Mexican sty...   \n",
       "16590  [['Dinner with a group of students', 'A beer h...   \n",
       "32876  [['Irish pub without Guinness!?', 'Below avera...   \n",
       "24700  [['Good food but a bit overpriced', 'Proper su...   \n",
       "21755  [['Tasty food', 'Nice experience'], ['06/19/20...   \n",
       "\n",
       "                                                  URL_TA     ID_TA  \n",
       "15431  /Restaurant_Review-g189934-d798087-Reviews-Can...   d798087  \n",
       "16590  /Restaurant_Review-g187514-d2001857-Reviews-Kr...  d2001857  \n",
       "32876  /Restaurant_Review-g187514-d2010714-Reviews-Th...  d2010714  \n",
       "24700  /Restaurant_Review-g186338-d6437461-Reviews-Oh...  d6437461  \n",
       "21755  /Restaurant_Review-g274924-d9844847-Reviews-Bo...  d9844847  "
      ]
     },
     "execution_count": 4,
     "metadata": {},
     "output_type": "execute_result"
    }
   ],
   "source": [
    "# Checkin the dataset for training\n",
    "data_train.info()\n",
    "data_train.sample(5)"
   ]
  },
  {
   "cell_type": "code",
   "execution_count": 5,
   "metadata": {},
   "outputs": [],
   "source": [
    "# Merging the datasets.For the correct processing of features, we combine the train and test into one dataset\n",
    "data_train['Sample'] = 1  # mark where we have train\n",
    "data_test['Sample'] = 0  # mark where we have test\n",
    "# in the test we do not have the Rating value, we must predict it, so for now we just fill it with zeros\n",
    "data_test['Rating'] = 0\n",
    "data = data_test.append(data_train, sort=False).reset_index(drop=True)"
   ]
  },
  {
   "cell_type": "markdown",
   "metadata": {},
   "source": [
    "## 2. Cleaning and Prepping Data"
   ]
  },
  {
   "cell_type": "code",
   "execution_count": 6,
   "metadata": {},
   "outputs": [
    {
     "name": "stdout",
     "output_type": "stream",
     "text": [
      "<class 'pandas.core.frame.DataFrame'>\n",
      "RangeIndex: 50000 entries, 0 to 49999\n",
      "Data columns (total 11 columns):\n",
      " #   Column             Non-Null Count  Dtype  \n",
      "---  ------             --------------  -----  \n",
      " 0   Restaurant_id      50000 non-null  object \n",
      " 1   City               50000 non-null  object \n",
      " 2   Cuisine Style      38410 non-null  object \n",
      " 3   Ranking            50000 non-null  float64\n",
      " 4   Price Range        32639 non-null  object \n",
      " 5   Number of Reviews  46800 non-null  float64\n",
      " 6   Reviews            49998 non-null  object \n",
      " 7   URL_TA             50000 non-null  object \n",
      " 8   ID_TA              50000 non-null  object \n",
      " 9   Sample             50000 non-null  int64  \n",
      " 10  Rating             50000 non-null  float64\n",
      "dtypes: float64(3), int64(1), object(7)\n",
      "memory usage: 4.2+ MB\n"
     ]
    },
    {
     "data": {
      "text/html": [
       "<div>\n",
       "<style scoped>\n",
       "    .dataframe tbody tr th:only-of-type {\n",
       "        vertical-align: middle;\n",
       "    }\n",
       "\n",
       "    .dataframe tbody tr th {\n",
       "        vertical-align: top;\n",
       "    }\n",
       "\n",
       "    .dataframe thead th {\n",
       "        text-align: right;\n",
       "    }\n",
       "</style>\n",
       "<table border=\"1\" class=\"dataframe\">\n",
       "  <thead>\n",
       "    <tr style=\"text-align: right;\">\n",
       "      <th></th>\n",
       "      <th>Restaurant_id</th>\n",
       "      <th>City</th>\n",
       "      <th>Cuisine Style</th>\n",
       "      <th>Ranking</th>\n",
       "      <th>Price Range</th>\n",
       "      <th>Number of Reviews</th>\n",
       "      <th>Reviews</th>\n",
       "      <th>URL_TA</th>\n",
       "      <th>ID_TA</th>\n",
       "      <th>Sample</th>\n",
       "      <th>Rating</th>\n",
       "    </tr>\n",
       "  </thead>\n",
       "  <tbody>\n",
       "    <tr>\n",
       "      <th>42234</th>\n",
       "      <td>id_2448</td>\n",
       "      <td>Madrid</td>\n",
       "      <td>['Spanish']</td>\n",
       "      <td>2450.0</td>\n",
       "      <td>$$ - $$$</td>\n",
       "      <td>12.0</td>\n",
       "      <td>[[], []]</td>\n",
       "      <td>/Restaurant_Review-g187514-d10915666-Reviews-Q...</td>\n",
       "      <td>d10915666</td>\n",
       "      <td>1</td>\n",
       "      <td>5.0</td>\n",
       "    </tr>\n",
       "    <tr>\n",
       "      <th>24520</th>\n",
       "      <td>id_2528</td>\n",
       "      <td>Hamburg</td>\n",
       "      <td>['Spanish', 'Latin', 'Vegetarian Friendly']</td>\n",
       "      <td>2533.0</td>\n",
       "      <td>$$ - $$$</td>\n",
       "      <td>69.0</td>\n",
       "      <td>[['Ok restaurant for business diner', 'Meat, M...</td>\n",
       "      <td>/Restaurant_Review-g187331-d2339807-Reviews-La...</td>\n",
       "      <td>d2339807</td>\n",
       "      <td>1</td>\n",
       "      <td>3.0</td>\n",
       "    </tr>\n",
       "    <tr>\n",
       "      <th>13139</th>\n",
       "      <td>id_6189</td>\n",
       "      <td>Berlin</td>\n",
       "      <td>['Italian']</td>\n",
       "      <td>6191.0</td>\n",
       "      <td>NaN</td>\n",
       "      <td>5.0</td>\n",
       "      <td>[[], []]</td>\n",
       "      <td>/Restaurant_Review-g187323-d2643409-Reviews-Va...</td>\n",
       "      <td>d2643409</td>\n",
       "      <td>1</td>\n",
       "      <td>4.0</td>\n",
       "    </tr>\n",
       "    <tr>\n",
       "      <th>23712</th>\n",
       "      <td>id_2929</td>\n",
       "      <td>Amsterdam</td>\n",
       "      <td>['Brazilian', 'Latin', 'Spanish']</td>\n",
       "      <td>2938.0</td>\n",
       "      <td>$$ - $$$</td>\n",
       "      <td>18.0</td>\n",
       "      <td>[['Best COXINHA ever', 'Food too salty'], ['08...</td>\n",
       "      <td>/Restaurant_Review-g188590-d9982451-Reviews-Tr...</td>\n",
       "      <td>d9982451</td>\n",
       "      <td>1</td>\n",
       "      <td>3.5</td>\n",
       "    </tr>\n",
       "    <tr>\n",
       "      <th>34112</th>\n",
       "      <td>id_8030</td>\n",
       "      <td>Madrid</td>\n",
       "      <td>['Spanish']</td>\n",
       "      <td>8037.0</td>\n",
       "      <td>$</td>\n",
       "      <td>35.0</td>\n",
       "      <td>[['Very friendly staff and good value for the....</td>\n",
       "      <td>/Restaurant_Review-g187514-d4606096-Reviews-Ca...</td>\n",
       "      <td>d4606096</td>\n",
       "      <td>1</td>\n",
       "      <td>3.0</td>\n",
       "    </tr>\n",
       "  </tbody>\n",
       "</table>\n",
       "</div>"
      ],
      "text/plain": [
       "      Restaurant_id       City                                Cuisine Style  \\\n",
       "42234       id_2448     Madrid                                  ['Spanish']   \n",
       "24520       id_2528    Hamburg  ['Spanish', 'Latin', 'Vegetarian Friendly']   \n",
       "13139       id_6189     Berlin                                  ['Italian']   \n",
       "23712       id_2929  Amsterdam            ['Brazilian', 'Latin', 'Spanish']   \n",
       "34112       id_8030     Madrid                                  ['Spanish']   \n",
       "\n",
       "       Ranking Price Range  Number of Reviews  \\\n",
       "42234   2450.0    $$ - $$$               12.0   \n",
       "24520   2533.0    $$ - $$$               69.0   \n",
       "13139   6191.0         NaN                5.0   \n",
       "23712   2938.0    $$ - $$$               18.0   \n",
       "34112   8037.0           $               35.0   \n",
       "\n",
       "                                                 Reviews  \\\n",
       "42234                                           [[], []]   \n",
       "24520  [['Ok restaurant for business diner', 'Meat, M...   \n",
       "13139                                           [[], []]   \n",
       "23712  [['Best COXINHA ever', 'Food too salty'], ['08...   \n",
       "34112  [['Very friendly staff and good value for the....   \n",
       "\n",
       "                                                  URL_TA      ID_TA  Sample  \\\n",
       "42234  /Restaurant_Review-g187514-d10915666-Reviews-Q...  d10915666       1   \n",
       "24520  /Restaurant_Review-g187331-d2339807-Reviews-La...   d2339807       1   \n",
       "13139  /Restaurant_Review-g187323-d2643409-Reviews-Va...   d2643409       1   \n",
       "23712  /Restaurant_Review-g188590-d9982451-Reviews-Tr...   d9982451       1   \n",
       "34112  /Restaurant_Review-g187514-d4606096-Reviews-Ca...   d4606096       1   \n",
       "\n",
       "       Rating  \n",
       "42234     5.0  \n",
       "24520     3.0  \n",
       "13139     4.0  \n",
       "23712     3.5  \n",
       "34112     3.0  "
      ]
     },
     "execution_count": 6,
     "metadata": {},
     "output_type": "execute_result"
    }
   ],
   "source": [
    "# Checking the merged data\n",
    "data.info()\n",
    "data.sample(5)"
   ]
  },
  {
   "cell_type": "code",
   "execution_count": 7,
   "metadata": {},
   "outputs": [
    {
     "data": {
      "text/plain": [
       "\"['European', 'Scandinavian', 'Gluten Free Options', 'Vegetarian Friendly', 'Vegan Options']\""
      ]
     },
     "execution_count": 7,
     "metadata": {},
     "output_type": "execute_result"
    }
   ],
   "source": [
    "# Checking the data\n",
    "data['Cuisine Style'][1]"
   ]
  },
  {
   "cell_type": "code",
   "execution_count": 8,
   "metadata": {},
   "outputs": [
    {
     "data": {
      "text/plain": [
       "\"[['Very good reviews!', 'Fine dining in Hakaniemi'], ['12/05/2017', '10/29/2017']]\""
      ]
     },
     "execution_count": 8,
     "metadata": {},
     "output_type": "execute_result"
    }
   ],
   "source": [
    "# Checking the data\n",
    "data['Reviews'][1]"
   ]
  },
  {
   "cell_type": "markdown",
   "metadata": {},
   "source": [
    "### 2.1. Preliminary Data Analysis\n",
    "\n",
    "- **City** - the city where the restaurant is located. \n",
    "- **Cuisine Style** - features of the restaurant's cuisine (cuisine of a certain country or nation, vegetarian, etc.). \n",
    "- **Ranking** - the restaurant's rank relative to other restaurants in the city. \n",
    "- **Price Range** - price category of the restaurant (cheap, medium, expensive). \n",
    "- **Number of Reviews** - the total number of reviews for the restaurant. \n",
    "- **Reviews** - most recent restaurant reviews and the dates of these reviews. \n",
    "- **URL_TA** - the url of the restaurant on TripAdvisor.\n",
    "- **ID_TA** - restaurant id on TripAdvisor.\n",
    "- **Rating** - \"bubble rating\" of the restaurant on TripAdvisor. "
   ]
  },
  {
   "cell_type": "markdown",
   "metadata": {},
   "source": [
    "#### Remarks:\n",
    "\n",
    "Should take attention to reviews, since bubble rating is defined as the average of ratings given by visitors in reviews.\n",
    "\n",
    "The ranking variable is calculated based on the rating, so its proximity to the rating must also be significant.\n",
    "\n",
    "The ranking is influenced by the latest reviews, so the date of the last review should probably be set separately.\n",
    "\n",
    "Perhaps the  ranking depends on the city, it makes sense to create a function that reflects the relative position of the restaurant."
   ]
  },
  {
   "cell_type": "code",
   "execution_count": 9,
   "metadata": {},
   "outputs": [
    {
     "data": {
      "text/plain": [
       "Restaurant_id        13094\n",
       "City                    31\n",
       "Cuisine Style        10732\n",
       "Ranking              12975\n",
       "Price Range              4\n",
       "Number of Reviews     1574\n",
       "Reviews              41858\n",
       "URL_TA               49963\n",
       "ID_TA                49963\n",
       "Sample                   2\n",
       "Rating                  10\n",
       "dtype: int64"
      ]
     },
     "execution_count": 9,
     "metadata": {},
     "output_type": "execute_result"
    }
   ],
   "source": [
    "# Counting unique values\n",
    "data.nunique(dropna = False)"
   ]
  },
  {
   "cell_type": "markdown",
   "metadata": {},
   "source": [
    "Categorical variables: City, Cuisine Style(not processed), Price Range, and Rating.\n",
    "\n",
    "Continuous variables: Restaurant_id, Ranking, Number of Reviews, Restaurant id.\n",
    "\n",
    "The city and cuisine style - are nominal categorical variables, since they don't have any internal order or sequence.\n",
    "\n",
    "The price level and rating features are ordinal categorical variables. They have a internal sequence - from a cheap restaurant to an expensive one and from a low to a high rating."
   ]
  },
  {
   "cell_type": "code",
   "execution_count": 10,
   "metadata": {},
   "outputs": [
    {
     "data": {
      "text/plain": [
       "Restaurant_id            0\n",
       "City                     0\n",
       "Cuisine Style        11590\n",
       "Ranking                  0\n",
       "Price Range          17361\n",
       "Number of Reviews     3200\n",
       "Reviews                  2\n",
       "URL_TA                   0\n",
       "ID_TA                    0\n",
       "Sample                   0\n",
       "Rating                   0\n",
       "dtype: int64"
      ]
     },
     "execution_count": 10,
     "metadata": {},
     "output_type": "execute_result"
    }
   ],
   "source": [
    "# Checking for missing values\n",
    "data.isna().sum()"
   ]
  },
  {
   "cell_type": "code",
   "execution_count": 11,
   "metadata": {},
   "outputs": [
    {
     "data": {
      "text/plain": [
       "<matplotlib.axes._subplots.AxesSubplot at 0x1e5eecd0c88>"
      ]
     },
     "execution_count": 11,
     "metadata": {},
     "output_type": "execute_result"
    },
    {
     "data": {
      "image/png": "[encoded data removed]",
      "text/plain": [
       "<Figure size 720x576 with 1 Axes>"
      ]
     },
     "metadata": {
      "needs_background": "light"
     },
     "output_type": "display_data"
    }
   ],
   "source": [
    "# Visualization\n",
    "fig, ax = plt.subplots(figsize=(10,8))\n",
    "sns.heatmap(data.isnull(), yticklabels=False, cbar=False, cmap='Blues')"
   ]
  },
  {
   "cell_type": "markdown",
   "metadata": {},
   "source": [
    "There are many missing values in the cuisine style, price range, and number of reviews columns, dont think we will delete them that may lead to problems with submitting the result.\n",
    "\n",
    "### 2.2 Restaurant_id"
   ]
  },
  {
   "cell_type": "code",
   "execution_count": 12,
   "metadata": {},
   "outputs": [
    {
     "data": {
      "text/plain": [
       "id_871      19\n",
       "id_436      19\n",
       "id_633      19\n",
       "id_227      19\n",
       "id_71       18\n",
       "            ..\n",
       "id_13853     1\n",
       "id_11830     1\n",
       "id_10404     1\n",
       "id_14892     1\n",
       "id_10921     1\n",
       "Name: Restaurant_id, Length: 13094, dtype: int64"
      ]
     },
     "execution_count": 12,
     "metadata": {},
     "output_type": "execute_result"
    }
   ],
   "source": [
    "# Counting values\n",
    "data['Restaurant_id'].value_counts()"
   ]
  },
  {
   "cell_type": "code",
   "execution_count": 13,
   "metadata": {},
   "outputs": [
    {
     "data": {
      "text/plain": [
       "<matplotlib.axes._subplots.AxesSubplot at 0x1e5efb235c8>"
      ]
     },
     "execution_count": 13,
     "metadata": {},
     "output_type": "execute_result"
    },
    {
     "data": {
      "image/png": "[encoded data removed]",
      "text/plain": [
       "<Figure size 936x576 with 1 Axes>"
      ]
     },
     "metadata": {
      "needs_background": "light"
     },
     "output_type": "display_data"
    }
   ],
   "source": [
    "# Checking the frequency distribution / visualization\n",
    "plt.rcParams['figure.figsize'] = (13,8)\n",
    "data['Restaurant_id'].value_counts().hist(bins=100)"
   ]
  },
  {
   "cell_type": "markdown",
   "metadata": {},
   "source": [
    "Significant part of the dataset have a non-unique ID, so the Restaurant_id column has no analytical value and can be deleted."
   ]
  },
  {
   "cell_type": "code",
   "execution_count": 14,
   "metadata": {},
   "outputs": [],
   "source": [
    "# Dropping the Restaurant_id column\n",
    "data.drop(['Restaurant_id'], inplace = True, axis = 1)"
   ]
  },
  {
   "cell_type": "markdown",
   "metadata": {},
   "source": [
    "### 2.3 City\n",
    "**City** - the city where the restaurant is located. We can use this variable as a basis for creating additional features using external sources.)"
   ]
  },
  {
   "cell_type": "code",
   "execution_count": 15,
   "metadata": {},
   "outputs": [
    {
     "data": {
      "text/plain": [
       "London        7193\n",
       "Paris         6108\n",
       "Madrid        3813\n",
       "Barcelona     3395\n",
       "Berlin        2705\n",
       "Milan         2694\n",
       "Rome          2589\n",
       "Prague        1816\n",
       "Lisbon        1647\n",
       "Vienna        1443\n",
       "Amsterdam     1372\n",
       "Brussels      1314\n",
       "Hamburg       1186\n",
       "Munich        1145\n",
       "Lyon          1126\n",
       "Stockholm     1033\n",
       "Budapest      1021\n",
       "Warsaw         925\n",
       "Dublin         836\n",
       "Copenhagen     819\n",
       "Athens         776\n",
       "Edinburgh      745\n",
       "Zurich         685\n",
       "Oporto         642\n",
       "Geneva         590\n",
       "Krakow         554\n",
       "Oslo           488\n",
       "Helsinki       475\n",
       "Bratislava     380\n",
       "Luxembourg     263\n",
       "Ljubljana      222\n",
       "Name: City, dtype: int64"
      ]
     },
     "execution_count": 15,
     "metadata": {},
     "output_type": "execute_result"
    }
   ],
   "source": [
    "# Counting values\n",
    "data['City'].value_counts()"
   ]
  },
  {
   "cell_type": "code",
   "execution_count": 16,
   "metadata": {},
   "outputs": [
    {
     "data": {
      "text/plain": [
       "31"
      ]
     },
     "execution_count": 16,
     "metadata": {},
     "output_type": "execute_result"
    }
   ],
   "source": [
    "# Counting unique cities\n",
    "data['City'].nunique()"
   ]
  },
  {
   "cell_type": "code",
   "execution_count": 17,
   "metadata": {},
   "outputs": [
    {
     "data": {
      "text/plain": [
       "<matplotlib.axes._subplots.AxesSubplot at 0x1e5efb00a88>"
      ]
     },
     "execution_count": 17,
     "metadata": {},
     "output_type": "execute_result"
    },
    {
     "data": {
      "image/png": "[encoded data removed]",
      "text/plain": [
       "<Figure size 936x576 with 1 Axes>"
      ]
     },
     "metadata": {
      "needs_background": "light"
     },
     "output_type": "display_data"
    }
   ],
   "source": [
    "# Checking the frequency distribution\n",
    "data['City'].value_counts(ascending=True).plot(kind='barh')"
   ]
  },
  {
   "cell_type": "code",
   "execution_count": 18,
   "metadata": {},
   "outputs": [
    {
     "data": {
      "image/png": "[encoded data removed]",
      "text/plain": [
       "<Figure size 1080x360 with 1 Axes>"
      ]
     },
     "metadata": {
      "needs_background": "light"
     },
     "output_type": "display_data"
    }
   ],
   "source": [
    "# Checking the Rating distribution by city\n",
    "fig, ax = plt.subplots(figsize=(15, 5))\n",
    "\n",
    "sns.boxplot(x='City', y='Rating', data=data.loc[\n",
    "    data.loc[:, 'City'].isin(data.loc[:, 'City'].value_counts().index[:])\n",
    "], ax=ax)\n",
    "\n",
    "plt.xticks(rotation=45)\n",
    "ax.set_title('Boxplot for City')\n",
    "\n",
    "plt.show()"
   ]
  },
  {
   "cell_type": "code",
   "execution_count": 19,
   "metadata": {},
   "outputs": [
    {
     "data": {
      "image/png": "[encoded data removed]",
      "text/plain": [
       "<Figure size 936x576 with 1 Axes>"
      ]
     },
     "metadata": {
      "needs_background": "light"
     },
     "output_type": "display_data"
    }
   ],
   "source": [
    "# Checking the Ranking distribution by city\n",
    "for x in (data['City'].value_counts())[0:10].index:\n",
    "    data['Ranking'][data['City'] == x].hist(bins=100)\n",
    "plt.show()"
   ]
  },
  {
   "cell_type": "markdown",
   "metadata": {},
   "source": [
    "It seems that the rating and ranking are proportionally distributed between the cities. \n",
    "\n",
    "Ranking has a normal distribution, it is just that there are more restaurants in big cities, because of this we have a displacement."
   ]
  },
  {
   "cell_type": "markdown",
   "metadata": {},
   "source": [
    "Let's add information about the number of restaurants in the each city. We will get this information directly from TripAdvisor (City restaurant counts)."
   ]
  },
  {
   "cell_type": "code",
   "execution_count": 20,
   "metadata": {},
   "outputs": [],
   "source": [
    "# Creating dictionary with number of restaurants in the city using TripAdvisor pages for restaurants\n",
    "res_count = {\n",
    "    'London': 19873,\n",
    "    'Paris': 17075,\n",
    "    'Madrid': 11114,\n",
    "    'Barcelona': 9472,\n",
    "    'Berlin': 6606,\n",
    "    'Milan': 7422,\n",
    "    'Rome': 10875,\n",
    "    'Prague': 5394,\n",
    "    'Lisbon': 4865,\n",
    "    'Vienna': 4111,\n",
    "    'Amsterdam': 3978,\n",
    "    'Brussels': 3608,\n",
    "    'Hamburg': 3276,\n",
    "    'Munich': 3140,\n",
    "    'Lyon': 2772,\n",
    "    'Stockholm': 2982,\n",
    "    'Budapest': 3060,\n",
    "    'Warsaw': 3220,\n",
    "    'Dublin': 2327,\n",
    "    'Copenhagen': 2331,\n",
    "    'Athens': 2542,\n",
    "    'Edinburgh': 1883,\n",
    "    'Zurich': 1864,\n",
    "    'Oporto': 1983,\n",
    "    'Geneva': 1698,\n",
    "    'Krakow': 1750,\n",
    "    'Oslo': 1260,\n",
    "    'Helsinki': 1555,\n",
    "    'Bratislava': 1263,\n",
    "    'Luxembourg': 737,\n",
    "    'Ljubljana': 600\n",
    "}"
   ]
  },
  {
   "cell_type": "code",
   "execution_count": 21,
   "metadata": {},
   "outputs": [
    {
     "data": {
      "text/plain": [
       "0        17075\n",
       "1         1555\n",
       "2         1883\n",
       "3        19873\n",
       "4         1263\n",
       "         ...  \n",
       "49995     7422\n",
       "49996    17075\n",
       "49997     2982\n",
       "49998     3220\n",
       "49999     7422\n",
       "Name: Restaurants Count, Length: 50000, dtype: int64"
      ]
     },
     "execution_count": 21,
     "metadata": {},
     "output_type": "execute_result"
    }
   ],
   "source": [
    "# Mapping the dataset with dictionary\n",
    "data['Restaurants Count'] = data['City'].map(res_count)\n",
    "data['Restaurants Count']"
   ]
  },
  {
   "cell_type": "code",
   "execution_count": 22,
   "metadata": {},
   "outputs": [],
   "source": [
    "# Creating Capital_City\n",
    "list_Of_NotCapitalCity = ['Barcelona', 'Milan', 'Hamburg', 'Munich',\n",
    "                          'Lyon', 'Zurich', 'Oporto', 'Geneva', 'Krakow']\n",
    "\n",
    "data['Capital_City'] = data['City'].apply(\n",
    "    lambda x: 0.0 if x in list_Of_NotCapitalCity else 1.0)"
   ]
  },
  {
   "cell_type": "code",
   "execution_count": 23,
   "metadata": {},
   "outputs": [],
   "source": [
    "# Сity_population dictionary , creating a new feature\n",
    "dict_Сity_population = {\n",
    "    'London': 8908,\n",
    "    'Paris': 2206,\n",
    "    'Madrid': 3223,\n",
    "    'Barcelona': 1620,\n",
    "    'Berlin': 6010,\n",
    "    'Milan': 1366,\n",
    "    'Rome': 2872,\n",
    "    'Prague': 1308,\n",
    "    'Lisbon': 506,\n",
    "    'Vienna': 1888,\n",
    "    'Amsterdam': 860,\n",
    "    'Brussels': 179,\n",
    "    'Hamburg': 1841,\n",
    "    'Munich': 1457,\n",
    "    'Lyon': 506,\n",
    "    'Stockholm': 961,\n",
    "    'Budapest': 1752,\n",
    "    'Warsaw': 1764,\n",
    "    'Dublin': 553,\n",
    "    'Copenhagen': 616,\n",
    "    'Athens': 665,\n",
    "    'Edinburgh': 513,\n",
    "    'Zurich': 415,\n",
    "    'Oporto': 240,\n",
    "    'Geneva': 201,\n",
    "    'Krakow': 769,\n",
    "    'Oslo': 681,\n",
    "    'Helsinki': 643,\n",
    "    'Bratislava': 426,\n",
    "    'Luxembourg': 119,\n",
    "    'Ljubljana': 284\n",
    "}\n",
    "data['Сity_population'] = data.apply(\n",
    "    lambda row: dict_Сity_population[row['City']], axis=1)"
   ]
  },
  {
   "cell_type": "code",
   "execution_count": 24,
   "metadata": {},
   "outputs": [],
   "source": [
    "# Converting feature to dummy variables\n",
    "data = pd.get_dummies(data, columns=['City',], dummy_na=True)\n",
    "# data.sample(5)"
   ]
  },
  {
   "cell_type": "markdown",
   "metadata": {},
   "source": [
    "### 2.4 Cuisine Style\n",
    "- **Cuisine Style** - features of the restaurant's cuisine (cuisine of a certain country or nation, vegetarian, etc.). This variable needs to be cleaned and create a new features"
   ]
  },
  {
   "cell_type": "code",
   "execution_count": 25,
   "metadata": {},
   "outputs": [
    {
     "data": {
      "text/plain": [
       "['Italian']                                                                                                                1332\n",
       "['French']                                                                                                                 1019\n",
       "['Spanish']                                                                                                                 860\n",
       "['French', 'European']                                                                                                      503\n",
       "['Cafe']                                                                                                                    500\n",
       "                                                                                                                           ... \n",
       "['American', 'Bar', 'Barbecue', 'Central American', 'International']                                                          1\n",
       "['Italian', 'International', 'Mediterranean', 'Contemporary', 'European', 'Vegetarian Friendly', 'Gluten Free Options']       1\n",
       "['Fast Food', 'Asian', 'Gluten Free Options']                                                                                 1\n",
       "['Fast Food', 'Asian', 'Thai', 'Vegetarian Friendly', 'Vegan Options', 'Gluten Free Options']                                 1\n",
       "['Italian', 'Seafood', 'Delicatessen', 'Vegetarian Friendly']                                                                 1\n",
       "Name: Cuisine Style, Length: 10731, dtype: int64"
      ]
     },
     "execution_count": 25,
     "metadata": {},
     "output_type": "execute_result"
    }
   ],
   "source": [
    "# Counting values to see how many we have\n",
    "data['Cuisine Style'].value_counts()"
   ]
  },
  {
   "cell_type": "markdown",
   "metadata": {},
   "source": [
    "We will record the missing values separately "
   ]
  },
  {
   "cell_type": "code",
   "execution_count": 26,
   "metadata": {},
   "outputs": [],
   "source": [
    "# Creating binary variable for missing values\n",
    "data['Cuisine Style NAN'] = pd.isna(data['Cuisine Style']).astype('uint8')"
   ]
  },
  {
   "cell_type": "markdown",
   "metadata": {},
   "source": [
    "Replacing missing values with 'No Cuisine Provided'."
   ]
  },
  {
   "cell_type": "code",
   "execution_count": 27,
   "metadata": {},
   "outputs": [],
   "source": [
    "# Filling the missing values\n",
    "data['Cuisine Style'] = data['Cuisine Style'].fillna('no cuisine provided')"
   ]
  },
  {
   "cell_type": "markdown",
   "metadata": {},
   "source": [
    "Now let's clear the variable and convert it into a series of lists. This way it will be easier for us to extract data and create new features later."
   ]
  },
  {
   "cell_type": "code",
   "execution_count": 28,
   "metadata": {},
   "outputs": [
    {
     "data": {
      "text/plain": [
       "0                                           ['bar', 'pub']\n",
       "1        ['european', 'scandinavian', 'gluten free opti...\n",
       "2                                  ['vegetarian friendly']\n",
       "3        ['italian', 'mediterranean', 'european', 'vege...\n",
       "4        ['italian', 'mediterranean', 'european', 'seaf...\n",
       "                               ...                        \n",
       "49995    ['italian', 'vegetarian friendly', 'vegan opti...\n",
       "49996    ['french', 'american', 'bar', 'european', 'veg...\n",
       "49997                                ['japanese', 'sushi']\n",
       "49998    ['polish', 'european', 'eastern european', 'ce...\n",
       "49999                                          ['spanish']\n",
       "Name: Cuisine Style, Length: 50000, dtype: object"
      ]
     },
     "execution_count": 28,
     "metadata": {},
     "output_type": "execute_result"
    }
   ],
   "source": [
    "# Lowering the cases\n",
    "data['Cuisine Style'] = data['Cuisine Style'].str.lower() \n",
    "data['Cuisine Style']"
   ]
  },
  {
   "cell_type": "code",
   "execution_count": 29,
   "metadata": {},
   "outputs": [],
   "source": [
    "# Converting string values to lists\n",
    "def cuisines_to_list(string):\n",
    "    string = string.replace('[', '')\n",
    "    string = string.replace(']', '')\n",
    "    string = string.replace(\"'\", '')\n",
    "    return string.split(', ')\n",
    "\n",
    "data['Cuisine Style'] = data['Cuisine Style'].apply(cuisines_to_list)"
   ]
  },
  {
   "cell_type": "code",
   "execution_count": 30,
   "metadata": {},
   "outputs": [
    {
     "data": {
      "text/plain": [
       "list"
      ]
     },
     "execution_count": 30,
     "metadata": {},
     "output_type": "execute_result"
    }
   ],
   "source": [
    "# Checking the value type\n",
    "type(data['Cuisine Style'][0])"
   ]
  },
  {
   "cell_type": "markdown",
   "metadata": {},
   "source": [
    "Now let's see how many unique cuisine styles we have for each restaraunt and overall."
   ]
  },
  {
   "cell_type": "code",
   "execution_count": 31,
   "metadata": {},
   "outputs": [
    {
     "data": {
      "text/plain": [
       "1     20744\n",
       "2      7794\n",
       "3      6638\n",
       "4      5948\n",
       "5      4482\n",
       "6      2611\n",
       "7      1294\n",
       "8       363\n",
       "9        93\n",
       "10       26\n",
       "11        4\n",
       "21        1\n",
       "15        1\n",
       "13        1\n",
       "Name: Number of Cuisines, dtype: int64"
      ]
     },
     "execution_count": 31,
     "metadata": {},
     "output_type": "execute_result"
    }
   ],
   "source": [
    "# Creating new features\n",
    "data['Number of Cuisines'] = data['Cuisine Style'].apply(lambda x: len(x))\n",
    "data['Number of Cuisines'].value_counts()"
   ]
  },
  {
   "cell_type": "code",
   "execution_count": 32,
   "metadata": {},
   "outputs": [
    {
     "data": {
      "text/plain": [
       "126"
      ]
     },
     "execution_count": 32,
     "metadata": {},
     "output_type": "execute_result"
    }
   ],
   "source": [
    "# Creating a set of unique cuisine styles\n",
    "cuisines_set = set()\n",
    "\n",
    "for restaraunt_cuisines in data['Cuisine Style']:\n",
    "    for cuisine in restaraunt_cuisines:\n",
    "        cuisines_set.add(cuisine)\n",
    "        \n",
    "len(cuisines_set)"
   ]
  },
  {
   "cell_type": "markdown",
   "metadata": {},
   "source": [
    "Let's see how common each of the styles is in our dataset"
   ]
  },
  {
   "cell_type": "code",
   "execution_count": 33,
   "metadata": {},
   "outputs": [
    {
     "data": {
      "text/plain": [
       "vegetarian friendly    14021\n",
       "european               12561\n",
       "no cuisine provided    11590\n",
       "mediterranean           7820\n",
       "italian                 7433\n",
       "vegan options           5684\n",
       "gluten free options     5185\n",
       "bar                     4094\n",
       "french                  3970\n",
       "asian                   3786\n",
       "pizza                   3502\n",
       "spanish                 3456\n",
       "pub                     3058\n",
       "cafe                    2883\n",
       "fast food               2122\n",
       "british                 1992\n",
       "international           1966\n",
       "seafood                 1878\n",
       "japanese                1860\n",
       "central european        1727\n",
       "dtype: int64"
      ]
     },
     "execution_count": 33,
     "metadata": {},
     "output_type": "execute_result"
    }
   ],
   "source": [
    "# Counting cuisine styles\n",
    "cuisines_counter = dict.fromkeys(cuisines_set, 0)\n",
    "\n",
    "for cuisine in cuisines_set:\n",
    "    for restaraunt_cuisines in data['Cuisine Style']:\n",
    "        if cuisine in restaraunt_cuisines:\n",
    "            cuisines_counter[cuisine] += 1\n",
    "            \n",
    "cuisines_counter = pd.Series(cuisines_counter)\n",
    "cuisines_counter.sort_values(ascending=False)[0:20]"
   ]
  },
  {
   "cell_type": "markdown",
   "metadata": {},
   "source": [
    "Finally, we will use dummy variables to encode cuisine styles."
   ]
  },
  {
   "cell_type": "code",
   "execution_count": 34,
   "metadata": {},
   "outputs": [
    {
     "name": "stdout",
     "output_type": "stream",
     "text": [
      "<class 'pandas.core.frame.DataFrame'>\n",
      "RangeIndex: 50000 entries, 0 to 49999\n",
      "Columns: 172 entries, Cuisine Style to yunnan\n",
      "dtypes: float64(4), int64(4), object(5), uint8(159)\n",
      "memory usage: 12.5+ MB\n"
     ]
    }
   ],
   "source": [
    "# Converting a feature to dummy variables\n",
    "data_cuisines = pd.get_dummies(data['Cuisine Style'].apply(pd.Series).stack()).sum(level=0)\n",
    "data = pd.merge(data, data_cuisines, left_index=True, right_index=True)\n",
    "data.info()"
   ]
  },
  {
   "cell_type": "markdown",
   "metadata": {},
   "source": [
    "### 2.5 Ranking\n",
    "- **Ranking** - the restaurant's rank relative to other restaurants in the city. If there are 100 restaurants in a city, the worst restaurant will have a rank of 100, and the best one will have a rank of 1. Because of this, the variable value may be duplicated. We should check a relative ranking."
   ]
  },
  {
   "cell_type": "code",
   "execution_count": 35,
   "metadata": {},
   "outputs": [
    {
     "data": {
      "text/plain": [
       "<matplotlib.axes._subplots.AxesSubplot at 0x1e5f3033948>"
      ]
     },
     "execution_count": 35,
     "metadata": {},
     "output_type": "execute_result"
    },
    {
     "data": {
      "image/png": "[encoded data removed]",
      "text/plain": [
       "<Figure size 936x576 with 1 Axes>"
      ]
     },
     "metadata": {
      "needs_background": "light"
     },
     "output_type": "display_data"
    }
   ],
   "source": [
    "# Checking the Ranking distribution\n",
    "data['Ranking'].hist(bins=100)"
   ]
  },
  {
   "cell_type": "markdown",
   "metadata": {},
   "source": [
    "As mentioned above, the rating depends on the city, so it makes sense to create a feature that reflects the relative position of the restaurant."
   ]
  },
  {
   "cell_type": "code",
   "execution_count": 36,
   "metadata": {},
   "outputs": [
    {
     "data": {
      "text/plain": [
       "0        0.759180\n",
       "1        0.068167\n",
       "2        0.430165\n",
       "3        0.083983\n",
       "4        0.029295\n",
       "           ...   \n",
       "49995    0.067367\n",
       "49996    0.371362\n",
       "49997    0.553991\n",
       "49998    0.199068\n",
       "49999    0.650364\n",
       "Name: Relative Ranking, Length: 50000, dtype: float64"
      ]
     },
     "execution_count": 36,
     "metadata": {},
     "output_type": "execute_result"
    }
   ],
   "source": [
    "# Creating a new feature\n",
    "data['Relative Ranking'] = data['Ranking'] / data['Restaurants Count']\n",
    "data['Relative Ranking']"
   ]
  },
  {
   "cell_type": "markdown",
   "metadata": {},
   "source": [
    "### 2.6. Price Range\n",
    "- **Price Range** - price category of the restaurant (cheap, medium, expensive). This feature needs to be converted to digital form? its a consistent feature"
   ]
  },
  {
   "cell_type": "code",
   "execution_count": 37,
   "metadata": {},
   "outputs": [
    {
     "data": {
      "text/plain": [
       "$$ - $$$    23041\n",
       "NaN         17361\n",
       "$            7816\n",
       "$$$$         1782\n",
       "Name: Price Range, dtype: int64"
      ]
     },
     "execution_count": 37,
     "metadata": {},
     "output_type": "execute_result"
    }
   ],
   "source": [
    "# Counting values\n",
    "data['Price Range'].value_counts(dropna=False)"
   ]
  },
  {
   "cell_type": "code",
   "execution_count": 38,
   "metadata": {},
   "outputs": [],
   "source": [
    "# Creating a binary variable for missing values\n",
    "data['Price Range NAN'] = pd.isna(data['Price Range']).astype('uint8')"
   ]
  },
  {
   "cell_type": "code",
   "execution_count": 39,
   "metadata": {},
   "outputs": [
    {
     "data": {
      "text/plain": [
       "['/Restaurant_Review-g274887-d8286886-Reviews-Beer_N_Scooter-Budapest_Central_Hungary.html',\n",
       " '/Restaurant_Review-g189934-d12947542-Reviews-Bistro_Gimis-Helsinki_Uusimaa.html',\n",
       " '/Restaurant_Review-g189852-d12716384-Reviews-Il_Molo-Stockholm.html',\n",
       " '/Restaurant_Review-g187791-d7818546-Reviews-Jerry_Thomas_Speakeasy-Rome_Lazio.html',\n",
       " '/Restaurant_Review-g187331-d1344523-Reviews-Il_Cammino-Hamburg.html',\n",
       " '/Restaurant_Review-g190454-d8435085-Reviews-Angkor_Club-Vienna.html',\n",
       " '/Restaurant_Review-g187497-d8334752-Reviews-Restaurante_Laumon-Barcelona_Catalonia.html',\n",
       " '/Restaurant_Review-g187514-d13202032-Reviews-Wan-Madrid.html',\n",
       " '/Restaurant_Review-g187497-d5795143-Reviews-La_Bona_Taula_de_Llica-Barcelona_Catalonia.html',\n",
       " '/Restaurant_Review-g187147-d11953078-Reviews-Bistrot_Wattignies-Paris_Ile_de_France.html',\n",
       " '/Restaurant_Review-g186338-d13234520-Reviews-The_Granary_Brasserie-London_England.html']"
      ]
     },
     "execution_count": 39,
     "metadata": {},
     "output_type": "execute_result"
    }
   ],
   "source": [
    "# Checking the URLs of restaraunts with no price range\n",
    "data.query('`Price Range NAN` == 1')['URL_TA'].tolist()[0:11]"
   ]
  },
  {
   "cell_type": "markdown",
   "metadata": {},
   "source": [
    "After we had a look at the data, we see a lot of average-priced restaurants. We will assume that this is the case and replace the missing values with the average price category. If our assumption is incorrect, we can always replace the data using the Price Range NAN column."
   ]
  },
  {
   "cell_type": "code",
   "execution_count": 40,
   "metadata": {},
   "outputs": [],
   "source": [
    "# Filling the missing values\n",
    "data['Price Range'] = data['Price Range'].fillna('$$ - $$$')"
   ]
  },
  {
   "cell_type": "code",
   "execution_count": 41,
   "metadata": {},
   "outputs": [
    {
     "data": {
      "text/plain": [
       "2    40402\n",
       "1     7816\n",
       "3     1782\n",
       "Name: Price Range, dtype: int64"
      ]
     },
     "execution_count": 41,
     "metadata": {},
     "output_type": "execute_result"
    }
   ],
   "source": [
    "# Replacing the object values with numeric values using dictionary replacement\n",
    "price_transform_dict = {'$':1,'$$ - $$$':2,'$$$$':3}\n",
    "data['Price Range'] = data['Price Range'].map(lambda x: price_transform_dict.get(x,x))\n",
    "\n",
    "data['Price Range'].value_counts()"
   ]
  },
  {
   "cell_type": "code",
   "execution_count": 42,
   "metadata": {},
   "outputs": [
    {
     "data": {
      "image/png": "[encoded data removed]",
      "text/plain": [
       "<Figure size 1080x360 with 1 Axes>"
      ]
     },
     "metadata": {
      "needs_background": "light"
     },
     "output_type": "display_data"
    }
   ],
   "source": [
    "# Checking the Rating distribution by price range\n",
    "fig, ax = plt.subplots(figsize = (15, 5))\n",
    "\n",
    "sns.boxplot(x='Price Range', y='Rating',data=data.loc[\n",
    "    data.loc[:, 'Price Range'].isin(data.loc[:, 'Price Range'].value_counts().index[:])\n",
    "],ax=ax)\n",
    "\n",
    "plt.xticks(rotation=45)\n",
    "ax.set_title('Boxplot for Price Range')\n",
    "\n",
    "plt.show()"
   ]
  },
  {
   "cell_type": "markdown",
   "metadata": {},
   "source": [
    "It seems that rating has no effect on price category. The medians of all price categories are the same, but expensive restaurants have less amount of bad ratings. Could be this is a psychological perception and attitude."
   ]
  },
  {
   "cell_type": "code",
   "execution_count": 43,
   "metadata": {},
   "outputs": [
    {
     "data": {
      "text/plain": [
       "NaN       3200\n",
       "2.0       2403\n",
       "3.0       2042\n",
       "4.0       1707\n",
       "5.0       1471\n",
       "          ... \n",
       "5216.0       1\n",
       "1932.0       1\n",
       "1050.0       1\n",
       "1145.0       1\n",
       "1471.0       1\n",
       "Name: Number of Reviews, Length: 1574, dtype: int64"
      ]
     },
     "execution_count": 43,
     "metadata": {},
     "output_type": "execute_result"
    }
   ],
   "source": [
    "# Counting values\n",
    "data['Number of Reviews'].value_counts(dropna=False)"
   ]
  },
  {
   "cell_type": "code",
   "execution_count": 44,
   "metadata": {},
   "outputs": [],
   "source": [
    "# Creating a binary variable for missing values\n",
    "data['Number of Reviews NAN'] = pd.isna(data['Number of Reviews']).astype('uint8')"
   ]
  },
  {
   "cell_type": "code",
   "execution_count": 45,
   "metadata": {},
   "outputs": [
    {
     "data": {
      "text/plain": [
       "<matplotlib.axes._subplots.AxesSubplot at 0x1e5f5fb3988>"
      ]
     },
     "execution_count": 45,
     "metadata": {},
     "output_type": "execute_result"
    },
    {
     "data": {
      "image/png": "[encoded data removed]",
      "text/plain": [
       "<Figure size 936x576 with 1 Axes>"
      ]
     },
     "metadata": {
      "needs_background": "light"
     },
     "output_type": "display_data"
    }
   ],
   "source": [
    "# Checking the frequency distribution\n",
    "data['Number of Reviews'].hist(bins=100)"
   ]
  },
  {
   "cell_type": "markdown",
   "metadata": {},
   "source": [
    "We will go deeper into the data on the number of reviews, using the link to the restaurant's page, take as example few, we will not go to the each"
   ]
  },
  {
   "cell_type": "code",
   "execution_count": 46,
   "metadata": {},
   "outputs": [
    {
     "data": {
      "text/plain": [
       "['/Restaurant_Review-g274887-d8286886-Reviews-Beer_N_Scooter-Budapest_Central_Hungary.html',\n",
       " '/Restaurant_Review-g187514-d13202032-Reviews-Wan-Madrid.html',\n",
       " '/Restaurant_Review-g274707-d7124128-Reviews-Chocobamba-Prague_Bohemia.html',\n",
       " '/Restaurant_Review-g274707-d12032989-Reviews-Cafe_Nova_doba-Prague_Bohemia.html',\n",
       " '/Restaurant_Review-g187497-d10088997-Reviews-Nasca-Barcelona_Catalonia.html',\n",
       " '/Restaurant_Review-g1166685-d12644341-Reviews-Otentik_City-Saint_Priest_Lyon_Rhone_Auvergne_Rhone_Alpes.html',\n",
       " '/Restaurant_Review-g187497-d12204689-Reviews-Sant_Tomassino_Gracia-Barcelona_Catalonia.html',\n",
       " '/Restaurant_Review-g187323-d4802788-Reviews-Boccato_DI_Cardina-Berlin.html',\n",
       " '/Restaurant_Review-g187497-d12530776-Reviews-Casa_NOVA-Barcelona_Catalonia.html',\n",
       " '/Restaurant_Review-g188590-d753088-Reviews-Banco_Solo-Amsterdam_North_Holland_Province.html',\n",
       " '/Restaurant_Review-g274887-d12953643-Reviews-Egyetem_Restaurant-Budapest_Central_Hungary.html']"
      ]
     },
     "execution_count": 46,
     "metadata": {},
     "output_type": "execute_result"
    }
   ],
   "source": [
    "# Checking the URLs of restaraunts with no number of reviews\n",
    "data.query('`Number of Reviews NAN` == 1')['URL_TA'].tolist()[0:11]"
   ]
  },
  {
   "cell_type": "markdown",
   "metadata": {},
   "source": [
    "After browsing the links, it becomes clear that a visible part of them are brand new restaurants or little-known. Perhaps that at the time of collecting the dataset, these restaurants did not have reviews and fill in the gaps in this column with zeros."
   ]
  },
  {
   "cell_type": "code",
   "execution_count": 47,
   "metadata": {},
   "outputs": [],
   "source": [
    "# Filling the missing values\n",
    "data['Number of Reviews'] = data['Number of Reviews'].fillna(0)"
   ]
  },
  {
   "cell_type": "code",
   "execution_count": 48,
   "metadata": {},
   "outputs": [
    {
     "data": {
      "text/plain": [
       "0        0.000309\n",
       "1        0.915094\n",
       "2        0.034568\n",
       "3        0.121031\n",
       "4        4.378378\n",
       "           ...   \n",
       "49995    0.158000\n",
       "49996    0.085475\n",
       "49997    0.002421\n",
       "49998    0.109204\n",
       "49999    0.053864\n",
       "Name: Reviews to Ranking Ratio, Length: 50000, dtype: float64"
      ]
     },
     "execution_count": 48,
     "metadata": {},
     "output_type": "execute_result"
    }
   ],
   "source": [
    "# Creating a new feature\n",
    "data['Reviews to Ranking Ratio'] = data['Number of Reviews'] / data['Ranking']\n",
    "data['Reviews to Ranking Ratio']"
   ]
  },
  {
   "cell_type": "markdown",
   "metadata": {},
   "source": [
    "### 2.8 Reviews\n",
    "- **Reviews** - most recent restaurant reviews and the dates of these reviews. From this variable, we can extract the reviews and dates. The rating in reviews (which we do not have in the dataset) directly affects the rating of the restaurant. Dates can be used as a reference for creating new ones."
   ]
  },
  {
   "cell_type": "code",
   "execution_count": 49,
   "metadata": {},
   "outputs": [
    {
     "data": {
      "text/plain": [
       "0                                              [[], []]\n",
       "1     [['Very good reviews!', 'Fine dining in Hakani...\n",
       "2     [['Better than the Links', 'Ivy Black'], ['12/...\n",
       "3     [['Most exquisite', 'Delicious and authentic']...\n",
       "4     [['Always the best in bratislava', 'Very good ...\n",
       "5     [['Lunch Break', 'Good to Quick Bite'], ['09/0...\n",
       "6                                              [[], []]\n",
       "7                                              [[], []]\n",
       "8     [['Big group supper', 'Good food but very slow...\n",
       "9     [['Good food', 'Good pizza'], ['12/02/2017', '...\n",
       "10    [['Very pretentious, but drinks are top notch'...\n",
       "11    [['GREAT APERITIVO WITH STYLE', 'Disappointing...\n",
       "12    [['You always feel very Welcome at this cozy.....\n",
       "13    [['Surprisingly good pizza', 'Yummy'], ['09/28...\n",
       "14    [['Good food, beer, value and service', 'Eat u...\n",
       "15    [['Very nice food and staff', 'Lovely service ...\n",
       "16    [['truly Neapolitan pizza, new/slick location'...\n",
       "17    [['Quite a decent pub', 'in the middle of noth...\n",
       "18                                             [[], []]\n",
       "19    [['Local joy', 'Cozy, cute and good food'], ['...\n",
       "Name: Reviews, dtype: object"
      ]
     },
     "execution_count": 49,
     "metadata": {},
     "output_type": "execute_result"
    }
   ],
   "source": [
    "# Checking the data\n",
    "data['Reviews'].head(20)"
   ]
  },
  {
   "cell_type": "code",
   "execution_count": 50,
   "metadata": {},
   "outputs": [],
   "source": [
    "# Cleaning and processing Reviews\n",
    "def cuisines_to_list(string):\n",
    "        string = str(string).replace('[', '')\n",
    "        string = str(string).replace(']', '')\n",
    "        string = str(string).replace(\"'\", '')\n",
    "        return string.split(', ')\n",
    "data['Reviews'] = data['Reviews'].apply(cuisines_to_list)"
   ]
  },
  {
   "cell_type": "code",
   "execution_count": 51,
   "metadata": {},
   "outputs": [],
   "source": [
    "#Replace the gaps in Reviews with \"[[], []]\". We do not make a separate column, because. total 2 NAN values \n",
    "data['Reviews'].fillna('[[], []]',inplace = True)"
   ]
  },
  {
   "cell_type": "markdown",
   "metadata": {},
   "source": [
    "After quick look over the dataset, you will find the following good words: 'good', 'best', 'nice', 'better', 'amazing', 'excellent', 'great', 'wonderful' ect. Let's add them to the check for good comments and same for bad comments\n",
    "\n",
    "Will count the difference in days only in a string where there are 2 dates. It makes no sense to count the difference less than 2."
   ]
  },
  {
   "cell_type": "code",
   "execution_count": 52,
   "metadata": {},
   "outputs": [],
   "source": [
    "# Establishing lists of words\n",
    "\n",
    "def filter_good_comment(line):\n",
    "    key_words = ['great', 'good', 'nice', 'best', 'excellent', 'delicious',\n",
    "                 'lovely', 'friendly', 'tasty', 'amazing', 'fantastic',\n",
    "                 'perfect', 'wonderful', 'gem', 'fresh', 'decent', 'cozy',\n",
    "                 'pleasant', 'love', 'awesome', 'beautiful', 'yummy',\n",
    "                 'fabulous', 'superb', 'fine', 'brilliant', 'cute', 'super'\n",
    "                 'favourite', 'enjoyable', 'favorite', 'outstanding',\n",
    "                 'pretty', 'affordable', 'charming', 'delightful',\n",
    "                 'unique', 'incredible', 'solid', 'exceptional']\n",
    "    counter = 0\n",
    "    for word in key_words:\n",
    "        if word in str(line).lower(): # Lowering the cases\n",
    "            counter += 1\n",
    "    return counter\n",
    "\n",
    "\n",
    "def filter_bad_comment(line):\n",
    "    key_words = ['bad', 'poor', 'worst', 'terrible', 'disappointing',\n",
    "                 'overpriced', 'rude', 'avoid', 'awful', 'disappointed',\n",
    "                 'horrible', 'mediocre', 'cold']\n",
    "    counter = 0\n",
    "    for word in key_words:\n",
    "        if word in str(line).lower():\n",
    "            counter += 1\n",
    "    return counter\n",
    "\n",
    "# Difference in days between reviews\n",
    "\n",
    "def get_date_difference(line):\n",
    "    if len(line) != 2:\n",
    "        return 0\n",
    "    date1 = datetime.strptime(line[0], '%m/%d/%Y')\n",
    "    date2 = datetime.strptime(line[1], '%m/%d/%Y')"
   ]
  },
  {
   "cell_type": "code",
   "execution_count": 53,
   "metadata": {},
   "outputs": [],
   "source": [
    "# Comment dates\n",
    "data['Date_of_Reviews'] = data['Reviews'].str.findall('\\d+/\\d+/\\d+')"
   ]
  },
  {
   "cell_type": "code",
   "execution_count": 54,
   "metadata": {},
   "outputs": [
    {
     "data": {
      "text/plain": [
       "3    50000\n",
       "Name: Date_of_Reviews, dtype: int64"
      ]
     },
     "execution_count": 54,
     "metadata": {},
     "output_type": "execute_result"
    }
   ],
   "source": [
    "# Number of dates in reviews\n",
    "data['Date_of_Reviews'] = data['Date_of_Reviews'].astype(str)\n",
    "data['Date_of_Reviews'].apply(lambda x: len(x)).value_counts() "
   ]
  },
  {
   "cell_type": "markdown",
   "metadata": {},
   "source": [
    "Let's create 3 new features: \"Number of good comments in reviews\" , \"Number of good comments in reviews\" and \"Difference in days between reviews\"."
   ]
  },
  {
   "cell_type": "code",
   "execution_count": 55,
   "metadata": {},
   "outputs": [],
   "source": [
    "data['Good_Comments'] = data.Reviews.apply(filter_good_comment)\n",
    "data['Bad_Comments'] = data.Reviews.apply(filter_bad_comment)\n",
    "data['Date_Difference'] = data['Date_of_Reviews'].apply(get_date_difference)"
   ]
  },
  {
   "cell_type": "markdown",
   "metadata": {},
   "source": [
    "### 2.9 URL_TA\n",
    "- **URL_TA** - the url of the restaurant on TripAdvisor."
   ]
  },
  {
   "cell_type": "code",
   "execution_count": 56,
   "metadata": {},
   "outputs": [
    {
     "data": {
      "text/plain": [
       "'/Restaurant_Review-g189934-d6674944-Reviews-Ravintola_Kolmon3n-Helsinki_Uusimaa.html'"
      ]
     },
     "execution_count": 56,
     "metadata": {},
     "output_type": "execute_result"
    }
   ],
   "source": [
    "# Checking the data\n",
    "data['URL_TA'][1]"
   ]
  },
  {
   "cell_type": "markdown",
   "metadata": {},
   "source": [
    "Some of TripAdvisor links is not valid any more and I dont really know how to do parsing, not much information we could get from there at the moment so we will delete this column."
   ]
  },
  {
   "cell_type": "code",
   "execution_count": 57,
   "metadata": {},
   "outputs": [],
   "source": [
    "# Dropping the URL_TA column.\n",
    "data.drop(['URL_TA'], inplace = True, axis = 1)"
   ]
  },
  {
   "cell_type": "markdown",
   "metadata": {},
   "source": [
    "### 2.10 ID_TA\n",
    "- **ID_TA** - restaurant id on TripAdvisor."
   ]
  },
  {
   "cell_type": "code",
   "execution_count": 58,
   "metadata": {},
   "outputs": [
    {
     "data": {
      "text/plain": [
       "d4914988     2\n",
       "d11921719    2\n",
       "d1235635     2\n",
       "d1568045     2\n",
       "d5617412     2\n",
       "            ..\n",
       "d12843306    1\n",
       "d11933144    1\n",
       "d8474890     1\n",
       "d1972167     1\n",
       "d12129922    1\n",
       "Name: ID_TA, Length: 49963, dtype: int64"
      ]
     },
     "execution_count": 58,
     "metadata": {},
     "output_type": "execute_result"
    }
   ],
   "source": [
    "# Counting values\n",
    "pd.set_option('display.min_rows', 10)\n",
    "data['ID_TA'].value_counts()"
   ]
  },
  {
   "cell_type": "markdown",
   "metadata": {},
   "source": [
    "Some IDs are duplicated. We will try to figure it out."
   ]
  },
  {
   "cell_type": "code",
   "execution_count": 59,
   "metadata": {},
   "outputs": [
    {
     "data": {
      "text/html": [
       "<div>\n",
       "<style scoped>\n",
       "    .dataframe tbody tr th:only-of-type {\n",
       "        vertical-align: middle;\n",
       "    }\n",
       "\n",
       "    .dataframe tbody tr th {\n",
       "        vertical-align: top;\n",
       "    }\n",
       "\n",
       "    .dataframe thead th {\n",
       "        text-align: right;\n",
       "    }\n",
       "</style>\n",
       "<table border=\"1\" class=\"dataframe\">\n",
       "  <thead>\n",
       "    <tr style=\"text-align: right;\">\n",
       "      <th></th>\n",
       "      <th>Cuisine Style</th>\n",
       "      <th>Ranking</th>\n",
       "      <th>Price Range</th>\n",
       "      <th>Number of Reviews</th>\n",
       "      <th>Reviews</th>\n",
       "      <th>ID_TA</th>\n",
       "      <th>Sample</th>\n",
       "      <th>Rating</th>\n",
       "      <th>Restaurants Count</th>\n",
       "      <th>Capital_City</th>\n",
       "      <th>...</th>\n",
       "      <th>xinjiang</th>\n",
       "      <th>yunnan</th>\n",
       "      <th>Relative Ranking</th>\n",
       "      <th>Price Range NAN</th>\n",
       "      <th>Number of Reviews NAN</th>\n",
       "      <th>Reviews to Ranking Ratio</th>\n",
       "      <th>Date_of_Reviews</th>\n",
       "      <th>Good_Comments</th>\n",
       "      <th>Bad_Comments</th>\n",
       "      <th>Date_Difference</th>\n",
       "    </tr>\n",
       "  </thead>\n",
       "  <tbody>\n",
       "    <tr>\n",
       "      <th>10147</th>\n",
       "      <td>[spanish]</td>\n",
       "      <td>4112.0</td>\n",
       "      <td>2</td>\n",
       "      <td>2.0</td>\n",
       "      <td>[, ]</td>\n",
       "      <td>d4600226</td>\n",
       "      <td>1</td>\n",
       "      <td>5.0</td>\n",
       "      <td>11114</td>\n",
       "      <td>1.0</td>\n",
       "      <td>...</td>\n",
       "      <td>0</td>\n",
       "      <td>0</td>\n",
       "      <td>0.369984</td>\n",
       "      <td>1</td>\n",
       "      <td>0</td>\n",
       "      <td>0.000486</td>\n",
       "      <td>nan</td>\n",
       "      <td>0</td>\n",
       "      <td>0</td>\n",
       "      <td>0</td>\n",
       "    </tr>\n",
       "    <tr>\n",
       "      <th>19446</th>\n",
       "      <td>[spanish]</td>\n",
       "      <td>4106.0</td>\n",
       "      <td>2</td>\n",
       "      <td>2.0</td>\n",
       "      <td>[, ]</td>\n",
       "      <td>d4600226</td>\n",
       "      <td>1</td>\n",
       "      <td>5.0</td>\n",
       "      <td>11114</td>\n",
       "      <td>1.0</td>\n",
       "      <td>...</td>\n",
       "      <td>0</td>\n",
       "      <td>0</td>\n",
       "      <td>0.369444</td>\n",
       "      <td>1</td>\n",
       "      <td>0</td>\n",
       "      <td>0.000487</td>\n",
       "      <td>nan</td>\n",
       "      <td>0</td>\n",
       "      <td>0</td>\n",
       "      <td>0</td>\n",
       "    </tr>\n",
       "  </tbody>\n",
       "</table>\n",
       "<p>2 rows × 179 columns</p>\n",
       "</div>"
      ],
      "text/plain": [
       "      Cuisine Style  Ranking  Price Range  Number of Reviews Reviews  \\\n",
       "10147     [spanish]   4112.0            2                2.0    [, ]   \n",
       "19446     [spanish]   4106.0            2                2.0    [, ]   \n",
       "\n",
       "          ID_TA  Sample  Rating  Restaurants Count  Capital_City  ...  \\\n",
       "10147  d4600226       1     5.0              11114           1.0  ...   \n",
       "19446  d4600226       1     5.0              11114           1.0  ...   \n",
       "\n",
       "       xinjiang  yunnan  Relative Ranking  Price Range NAN  \\\n",
       "10147         0       0          0.369984                1   \n",
       "19446         0       0          0.369444                1   \n",
       "\n",
       "       Number of Reviews NAN  Reviews to Ranking Ratio  Date_of_Reviews  \\\n",
       "10147                      0                  0.000486              nan   \n",
       "19446                      0                  0.000487              nan   \n",
       "\n",
       "       Good_Comments  Bad_Comments  Date_Difference  \n",
       "10147              0             0                0  \n",
       "19446              0             0                0  \n",
       "\n",
       "[2 rows x 179 columns]"
      ]
     },
     "execution_count": 59,
     "metadata": {},
     "output_type": "execute_result"
    }
   ],
   "source": [
    "# Checking the data\n",
    "data[data['ID_TA'] == 'd4600226']"
   ]
  },
  {
   "cell_type": "markdown",
   "metadata": {},
   "source": [
    "It's obvious we're dealing with duplicates, we will check how many of them there are."
   ]
  },
  {
   "cell_type": "code",
   "execution_count": 60,
   "metadata": {},
   "outputs": [
    {
     "data": {
      "text/plain": [
       "False    49963\n",
       "True        37\n",
       "Name: ID_TA, dtype: int64"
      ]
     },
     "execution_count": 60,
     "metadata": {},
     "output_type": "execute_result"
    }
   ],
   "source": [
    "# Counting duplicates\n",
    "data['ID_TA'].duplicated().value_counts()"
   ]
  },
  {
   "cell_type": "markdown",
   "metadata": {},
   "source": [
    "There are a couple of missing values in the Reviews feature, but deleting them leads to problems with submitting the result."
   ]
  },
  {
   "cell_type": "markdown",
   "metadata": {},
   "source": [
    "### 2.11 Rating\n",
    "- **Rating** - \"bubble rating\" of the restaurant on TripAdvisor. \n",
    "Tripadvisor bubble rating is a summary of ratings from guests who reviewed restaurant \n",
    " \n",
    "Bubble rating is displayed on a 1-5 scale, where 3 is average and 5 is excellent. \n",
    "\n",
    "Since the rating is a multiple of 0.5, we may set an additional function to process our forecast to avoid results that are not multiples of 0.5.\n",
    "https://www.tripadvisor.com/TripAdvisorInsights/w810"
   ]
  },
  {
   "cell_type": "code",
   "execution_count": 61,
   "metadata": {},
   "outputs": [
    {
     "data": {
      "text/plain": [
       "<matplotlib.axes._subplots.AxesSubplot at 0x1e5f3217048>"
      ]
     },
     "execution_count": 61,
     "metadata": {},
     "output_type": "execute_result"
    },
    {
     "data": {
      "image/png": "[encoded data removed]",
      "text/plain": [
       "<Figure size 936x576 with 1 Axes>"
      ]
     },
     "metadata": {
      "needs_background": "light"
     },
     "output_type": "display_data"
    }
   ],
   "source": [
    "# Checking the frequency distribution\n",
    "plt.rcParams['figure.figsize'] = (13,8)\n",
    "data['Rating'].value_counts(ascending=True).sort_index().plot(kind='barh')"
   ]
  },
  {
   "cell_type": "code",
   "execution_count": 62,
   "metadata": {},
   "outputs": [
    {
     "data": {
      "image/png": "[encoded data removed]",
      "text/plain": [
       "<Figure size 1080x360 with 1 Axes>"
      ]
     },
     "metadata": {
      "needs_background": "light"
     },
     "output_type": "display_data"
    }
   ],
   "source": [
    "# Checking the Ranking distribution by rating\n",
    "fig, ax = plt.subplots(figsize = (15, 5))\n",
    "sns.boxplot(x = 'Rating', \n",
    "            y = 'Ranking', \n",
    "            data = data.loc[data.loc[:, 'Rating'].isin(\n",
    "                data.loc[:, 'Rating'].value_counts().index[:]\n",
    "            )],ax=ax)\n",
    "ax.set_title('Boxplot for Rating')\n",
    "plt.show()"
   ]
  },
  {
   "cell_type": "markdown",
   "metadata": {},
   "source": [
    "According to this chart, restaurants with a high rating (4+) are usually located in the first 5000 ranking places. Another interesting detail that position and shape of the testing dataset is close to the boxplots of 3.5-4 rating. Thus, we can assume that this rating will be observed on average in the testing dataset."
   ]
  },
  {
   "cell_type": "code",
   "execution_count": 63,
   "metadata": {},
   "outputs": [
    {
     "data": {
      "text/html": [
       "<div>\n",
       "<style scoped>\n",
       "    .dataframe tbody tr th:only-of-type {\n",
       "        vertical-align: middle;\n",
       "    }\n",
       "\n",
       "    .dataframe tbody tr th {\n",
       "        vertical-align: top;\n",
       "    }\n",
       "\n",
       "    .dataframe thead th {\n",
       "        text-align: right;\n",
       "    }\n",
       "</style>\n",
       "<table border=\"1\" class=\"dataframe\">\n",
       "  <thead>\n",
       "    <tr style=\"text-align: right;\">\n",
       "      <th></th>\n",
       "      <th>Ranking</th>\n",
       "      <th>Price Range</th>\n",
       "      <th>Number of Reviews</th>\n",
       "      <th>Sample</th>\n",
       "      <th>Rating</th>\n",
       "      <th>Restaurants Count</th>\n",
       "      <th>Capital_City</th>\n",
       "      <th>Сity_population</th>\n",
       "      <th>City_Amsterdam</th>\n",
       "      <th>City_Athens</th>\n",
       "      <th>...</th>\n",
       "      <th>wine bar</th>\n",
       "      <th>xinjiang</th>\n",
       "      <th>yunnan</th>\n",
       "      <th>Relative Ranking</th>\n",
       "      <th>Price Range NAN</th>\n",
       "      <th>Number of Reviews NAN</th>\n",
       "      <th>Reviews to Ranking Ratio</th>\n",
       "      <th>Good_Comments</th>\n",
       "      <th>Bad_Comments</th>\n",
       "      <th>Date_Difference</th>\n",
       "    </tr>\n",
       "  </thead>\n",
       "  <tbody>\n",
       "    <tr>\n",
       "      <th>Rating</th>\n",
       "      <td>0.109897</td>\n",
       "      <td>0.012176</td>\n",
       "      <td>0.011006</td>\n",
       "      <td>0.936543</td>\n",
       "      <td>1.000000</td>\n",
       "      <td>0.011737</td>\n",
       "      <td>0.010620</td>\n",
       "      <td>0.002407</td>\n",
       "      <td>0.007447</td>\n",
       "      <td>0.016852</td>\n",
       "      <td>...</td>\n",
       "      <td>0.017776</td>\n",
       "      <td>0.002112</td>\n",
       "      <td>0.004430</td>\n",
       "      <td>0.171992</td>\n",
       "      <td>0.020519</td>\n",
       "      <td>0.000631</td>\n",
       "      <td>0.017618</td>\n",
       "      <td>0.055139</td>\n",
       "      <td>0.074935</td>\n",
       "      <td>NaN</td>\n",
       "    </tr>\n",
       "    <tr>\n",
       "      <th>Sample</th>\n",
       "      <td>0.006271</td>\n",
       "      <td>0.003419</td>\n",
       "      <td>0.002688</td>\n",
       "      <td>1.000000</td>\n",
       "      <td>0.936543</td>\n",
       "      <td>0.005031</td>\n",
       "      <td>0.004400</td>\n",
       "      <td>0.002160</td>\n",
       "      <td>0.003550</td>\n",
       "      <td>0.002912</td>\n",
       "      <td>...</td>\n",
       "      <td>0.001752</td>\n",
       "      <td>0.002236</td>\n",
       "      <td>0.004744</td>\n",
       "      <td>0.001316</td>\n",
       "      <td>0.000294</td>\n",
       "      <td>0.003473</td>\n",
       "      <td>0.004756</td>\n",
       "      <td>0.002243</td>\n",
       "      <td>0.002786</td>\n",
       "      <td>NaN</td>\n",
       "    </tr>\n",
       "    <tr>\n",
       "      <th>Relative Ranking</th>\n",
       "      <td>0.569755</td>\n",
       "      <td>0.034201</td>\n",
       "      <td>0.408267</td>\n",
       "      <td>0.001316</td>\n",
       "      <td>0.171992</td>\n",
       "      <td>0.013437</td>\n",
       "      <td>0.031722</td>\n",
       "      <td>0.024340</td>\n",
       "      <td>0.003144</td>\n",
       "      <td>0.030667</td>\n",
       "      <td>...</td>\n",
       "      <td>0.072512</td>\n",
       "      <td>0.000584</td>\n",
       "      <td>0.007748</td>\n",
       "      <td>1.000000</td>\n",
       "      <td>0.470189</td>\n",
       "      <td>0.207579</td>\n",
       "      <td>0.080047</td>\n",
       "      <td>0.350463</td>\n",
       "      <td>0.182422</td>\n",
       "      <td>NaN</td>\n",
       "    </tr>\n",
       "    <tr>\n",
       "      <th>Ranking</th>\n",
       "      <td>1.000000</td>\n",
       "      <td>0.026334</td>\n",
       "      <td>0.223198</td>\n",
       "      <td>0.006271</td>\n",
       "      <td>0.109897</td>\n",
       "      <td>0.702276</td>\n",
       "      <td>0.202905</td>\n",
       "      <td>0.547372</td>\n",
       "      <td>0.094100</td>\n",
       "      <td>0.094479</td>\n",
       "      <td>...</td>\n",
       "      <td>0.041328</td>\n",
       "      <td>0.003277</td>\n",
       "      <td>0.004805</td>\n",
       "      <td>0.569755</td>\n",
       "      <td>0.233946</td>\n",
       "      <td>0.094831</td>\n",
       "      <td>0.047729</td>\n",
       "      <td>0.182774</td>\n",
       "      <td>0.132058</td>\n",
       "      <td>NaN</td>\n",
       "    </tr>\n",
       "    <tr>\n",
       "      <th>Bad_Comments</th>\n",
       "      <td>0.132058</td>\n",
       "      <td>0.002778</td>\n",
       "      <td>0.027554</td>\n",
       "      <td>0.002786</td>\n",
       "      <td>0.074935</td>\n",
       "      <td>0.018300</td>\n",
       "      <td>0.011827</td>\n",
       "      <td>0.024002</td>\n",
       "      <td>0.011150</td>\n",
       "      <td>0.014788</td>\n",
       "      <td>...</td>\n",
       "      <td>0.015542</td>\n",
       "      <td>0.001111</td>\n",
       "      <td>0.001571</td>\n",
       "      <td>0.182422</td>\n",
       "      <td>0.016969</td>\n",
       "      <td>0.046899</td>\n",
       "      <td>0.010919</td>\n",
       "      <td>0.093040</td>\n",
       "      <td>1.000000</td>\n",
       "      <td>NaN</td>\n",
       "    </tr>\n",
       "    <tr>\n",
       "      <th>...</th>\n",
       "      <td>...</td>\n",
       "      <td>...</td>\n",
       "      <td>...</td>\n",
       "      <td>...</td>\n",
       "      <td>...</td>\n",
       "      <td>...</td>\n",
       "      <td>...</td>\n",
       "      <td>...</td>\n",
       "      <td>...</td>\n",
       "      <td>...</td>\n",
       "      <td>...</td>\n",
       "      <td>...</td>\n",
       "      <td>...</td>\n",
       "      <td>...</td>\n",
       "      <td>...</td>\n",
       "      <td>...</td>\n",
       "      <td>...</td>\n",
       "      <td>...</td>\n",
       "      <td>...</td>\n",
       "      <td>...</td>\n",
       "      <td>...</td>\n",
       "    </tr>\n",
       "    <tr>\n",
       "      <th>grill</th>\n",
       "      <td>0.013882</td>\n",
       "      <td>0.007080</td>\n",
       "      <td>0.021886</td>\n",
       "      <td>0.001630</td>\n",
       "      <td>0.000209</td>\n",
       "      <td>0.003942</td>\n",
       "      <td>0.010298</td>\n",
       "      <td>0.017119</td>\n",
       "      <td>0.024474</td>\n",
       "      <td>0.012347</td>\n",
       "      <td>...</td>\n",
       "      <td>0.007146</td>\n",
       "      <td>0.000500</td>\n",
       "      <td>0.000707</td>\n",
       "      <td>0.026712</td>\n",
       "      <td>0.057549</td>\n",
       "      <td>0.009984</td>\n",
       "      <td>0.003003</td>\n",
       "      <td>0.015540</td>\n",
       "      <td>0.001736</td>\n",
       "      <td>NaN</td>\n",
       "    </tr>\n",
       "    <tr>\n",
       "      <th>polynesian</th>\n",
       "      <td>0.004949</td>\n",
       "      <td>0.009320</td>\n",
       "      <td>0.001436</td>\n",
       "      <td>0.003162</td>\n",
       "      <td>0.000206</td>\n",
       "      <td>0.006558</td>\n",
       "      <td>0.011244</td>\n",
       "      <td>0.003931</td>\n",
       "      <td>0.001062</td>\n",
       "      <td>0.000794</td>\n",
       "      <td>...</td>\n",
       "      <td>0.000845</td>\n",
       "      <td>0.000028</td>\n",
       "      <td>0.000040</td>\n",
       "      <td>0.000219</td>\n",
       "      <td>0.002030</td>\n",
       "      <td>0.001654</td>\n",
       "      <td>0.000176</td>\n",
       "      <td>0.003671</td>\n",
       "      <td>0.001571</td>\n",
       "      <td>NaN</td>\n",
       "    </tr>\n",
       "    <tr>\n",
       "      <th>City_Lisbon</th>\n",
       "      <td>0.089639</td>\n",
       "      <td>0.025073</td>\n",
       "      <td>0.001748</td>\n",
       "      <td>0.004931</td>\n",
       "      <td>0.000081</td>\n",
       "      <td>0.121864</td>\n",
       "      <td>0.103810</td>\n",
       "      <td>0.154727</td>\n",
       "      <td>0.031001</td>\n",
       "      <td>0.023173</td>\n",
       "      <td>...</td>\n",
       "      <td>0.010339</td>\n",
       "      <td>0.000825</td>\n",
       "      <td>0.001167</td>\n",
       "      <td>0.016034</td>\n",
       "      <td>0.002323</td>\n",
       "      <td>0.002560</td>\n",
       "      <td>0.000807</td>\n",
       "      <td>0.003823</td>\n",
       "      <td>0.000020</td>\n",
       "      <td>NaN</td>\n",
       "    </tr>\n",
       "    <tr>\n",
       "      <th>City_nan</th>\n",
       "      <td>NaN</td>\n",
       "      <td>NaN</td>\n",
       "      <td>NaN</td>\n",
       "      <td>NaN</td>\n",
       "      <td>NaN</td>\n",
       "      <td>NaN</td>\n",
       "      <td>NaN</td>\n",
       "      <td>NaN</td>\n",
       "      <td>NaN</td>\n",
       "      <td>NaN</td>\n",
       "      <td>...</td>\n",
       "      <td>NaN</td>\n",
       "      <td>NaN</td>\n",
       "      <td>NaN</td>\n",
       "      <td>NaN</td>\n",
       "      <td>NaN</td>\n",
       "      <td>NaN</td>\n",
       "      <td>NaN</td>\n",
       "      <td>NaN</td>\n",
       "      <td>NaN</td>\n",
       "      <td>NaN</td>\n",
       "    </tr>\n",
       "    <tr>\n",
       "      <th>Date_Difference</th>\n",
       "      <td>NaN</td>\n",
       "      <td>NaN</td>\n",
       "      <td>NaN</td>\n",
       "      <td>NaN</td>\n",
       "      <td>NaN</td>\n",
       "      <td>NaN</td>\n",
       "      <td>NaN</td>\n",
       "      <td>NaN</td>\n",
       "      <td>NaN</td>\n",
       "      <td>NaN</td>\n",
       "      <td>...</td>\n",
       "      <td>NaN</td>\n",
       "      <td>NaN</td>\n",
       "      <td>NaN</td>\n",
       "      <td>NaN</td>\n",
       "      <td>NaN</td>\n",
       "      <td>NaN</td>\n",
       "      <td>NaN</td>\n",
       "      <td>NaN</td>\n",
       "      <td>NaN</td>\n",
       "      <td>NaN</td>\n",
       "    </tr>\n",
       "  </tbody>\n",
       "</table>\n",
       "<p>175 rows × 175 columns</p>\n",
       "</div>"
      ],
      "text/plain": [
       "                   Ranking  Price Range  Number of Reviews    Sample  \\\n",
       "Rating            0.109897     0.012176           0.011006  0.936543   \n",
       "Sample            0.006271     0.003419           0.002688  1.000000   \n",
       "Relative Ranking  0.569755     0.034201           0.408267  0.001316   \n",
       "Ranking           1.000000     0.026334           0.223198  0.006271   \n",
       "Bad_Comments      0.132058     0.002778           0.027554  0.002786   \n",
       "...                    ...          ...                ...       ...   \n",
       "grill             0.013882     0.007080           0.021886  0.001630   \n",
       "polynesian        0.004949     0.009320           0.001436  0.003162   \n",
       "City_Lisbon       0.089639     0.025073           0.001748  0.004931   \n",
       "City_nan               NaN          NaN                NaN       NaN   \n",
       "Date_Difference        NaN          NaN                NaN       NaN   \n",
       "\n",
       "                    Rating  Restaurants Count  Capital_City  Сity_population  \\\n",
       "Rating            1.000000           0.011737      0.010620         0.002407   \n",
       "Sample            0.936543           0.005031      0.004400         0.002160   \n",
       "Relative Ranking  0.171992           0.013437      0.031722         0.024340   \n",
       "Ranking           0.109897           0.702276      0.202905         0.547372   \n",
       "Bad_Comments      0.074935           0.018300      0.011827         0.024002   \n",
       "...                    ...                ...           ...              ...   \n",
       "grill             0.000209           0.003942      0.010298         0.017119   \n",
       "polynesian        0.000206           0.006558      0.011244         0.003931   \n",
       "City_Lisbon       0.000081           0.121864      0.103810         0.154727   \n",
       "City_nan               NaN                NaN           NaN              NaN   \n",
       "Date_Difference        NaN                NaN           NaN              NaN   \n",
       "\n",
       "                  City_Amsterdam  City_Athens  ...  wine bar  xinjiang  \\\n",
       "Rating                  0.007447     0.016852  ...  0.017776  0.002112   \n",
       "Sample                  0.003550     0.002912  ...  0.001752  0.002236   \n",
       "Relative Ranking        0.003144     0.030667  ...  0.072512  0.000584   \n",
       "Ranking                 0.094100     0.094479  ...  0.041328  0.003277   \n",
       "Bad_Comments            0.011150     0.014788  ...  0.015542  0.001111   \n",
       "...                          ...          ...  ...       ...       ...   \n",
       "grill                   0.024474     0.012347  ...  0.007146  0.000500   \n",
       "polynesian              0.001062     0.000794  ...  0.000845  0.000028   \n",
       "City_Lisbon             0.031001     0.023173  ...  0.010339  0.000825   \n",
       "City_nan                     NaN          NaN  ...       NaN       NaN   \n",
       "Date_Difference              NaN          NaN  ...       NaN       NaN   \n",
       "\n",
       "                    yunnan  Relative Ranking  Price Range NAN  \\\n",
       "Rating            0.004430          0.171992         0.020519   \n",
       "Sample            0.004744          0.001316         0.000294   \n",
       "Relative Ranking  0.007748          1.000000         0.470189   \n",
       "Ranking           0.004805          0.569755         0.233946   \n",
       "Bad_Comments      0.001571          0.182422         0.016969   \n",
       "...                    ...               ...              ...   \n",
       "grill             0.000707          0.026712         0.057549   \n",
       "polynesian        0.000040          0.000219         0.002030   \n",
       "City_Lisbon       0.001167          0.016034         0.002323   \n",
       "City_nan               NaN               NaN              NaN   \n",
       "Date_Difference        NaN               NaN              NaN   \n",
       "\n",
       "                  Number of Reviews NAN  Reviews to Ranking Ratio  \\\n",
       "Rating                         0.000631                  0.017618   \n",
       "Sample                         0.003473                  0.004756   \n",
       "Relative Ranking               0.207579                  0.080047   \n",
       "Ranking                        0.094831                  0.047729   \n",
       "Bad_Comments                   0.046899                  0.010919   \n",
       "...                                 ...                       ...   \n",
       "grill                          0.009984                  0.003003   \n",
       "polynesian                     0.001654                  0.000176   \n",
       "City_Lisbon                    0.002560                  0.000807   \n",
       "City_nan                            NaN                       NaN   \n",
       "Date_Difference                     NaN                       NaN   \n",
       "\n",
       "                  Good_Comments  Bad_Comments  Date_Difference  \n",
       "Rating                 0.055139      0.074935              NaN  \n",
       "Sample                 0.002243      0.002786              NaN  \n",
       "Relative Ranking       0.350463      0.182422              NaN  \n",
       "Ranking                0.182774      0.132058              NaN  \n",
       "Bad_Comments           0.093040      1.000000              NaN  \n",
       "...                         ...           ...              ...  \n",
       "grill                  0.015540      0.001736              NaN  \n",
       "polynesian             0.003671      0.001571              NaN  \n",
       "City_Lisbon            0.003823      0.000020              NaN  \n",
       "City_nan                    NaN           NaN              NaN  \n",
       "Date_Difference             NaN           NaN              NaN  \n",
       "\n",
       "[175 rows x 175 columns]"
      ]
     },
     "execution_count": 63,
     "metadata": {},
     "output_type": "execute_result"
    }
   ],
   "source": [
    "# Using the correlation matrix (in absolute value)\n",
    "data.corr().abs().sort_values(by='Rating', ascending=False)"
   ]
  },
  {
   "cell_type": "markdown",
   "metadata": {},
   "source": [
    "The correlation matrix tells us that the most strongly associated features with the rating are relative ranking, bad reviews content and number of cuisines."
   ]
  },
  {
   "cell_type": "markdown",
   "metadata": {},
   "source": [
    "### 2.12. Dropping non-numerical data"
   ]
  },
  {
   "cell_type": "code",
   "execution_count": 64,
   "metadata": {},
   "outputs": [
    {
     "name": "stdout",
     "output_type": "stream",
     "text": [
      "<class 'pandas.core.frame.DataFrame'>\n",
      "RangeIndex: 50000 entries, 0 to 49999\n",
      "Columns: 179 entries, Cuisine Style to Date_Difference\n",
      "dtypes: float64(6), int64(8), object(4), uint8(161)\n",
      "memory usage: 14.5+ MB\n"
     ]
    }
   ],
   "source": [
    "# Checking the data\n",
    "data.info()"
   ]
  },
  {
   "cell_type": "code",
   "execution_count": 65,
   "metadata": {},
   "outputs": [],
   "source": [
    "# Dropping object columns\n",
    "object_columns = [s for s in data.columns if data[s].dtypes == 'object']\n",
    "data.drop(object_columns, axis = 1, inplace=True)"
   ]
  },
  {
   "cell_type": "code",
   "execution_count": 66,
   "metadata": {},
   "outputs": [
    {
     "name": "stdout",
     "output_type": "stream",
     "text": [
      "<class 'pandas.core.frame.DataFrame'>\n",
      "RangeIndex: 50000 entries, 0 to 49999\n",
      "Columns: 175 entries, Ranking to Date_Difference\n",
      "dtypes: float64(6), int64(8), uint8(161)\n",
      "memory usage: 13.0 MB\n"
     ]
    }
   ],
   "source": [
    "# Checking the data\n",
    "data.info()"
   ]
  },
  {
   "cell_type": "markdown",
   "metadata": {},
   "source": [
    "# 3. Data Preprocessing\n",
    "\n",
    "Now, for convenience and code reproducibility, let's wrap all the processing in one big function."
   ]
  },
  {
   "cell_type": "code",
   "execution_count": 67,
   "metadata": {},
   "outputs": [],
   "source": [
    "# data_directory = '/kaggle/input/sf-dst-restaurant-rating/\n",
    "# dataset for training\n",
    "df_train = pd.read_csv('main_task.csv')\n",
    "\n",
    "# dataset for which we want predict the rating\n",
    "df_test = pd.read_csv('kaggle_task.csv')\n",
    "\n",
    "sample_submission = pd.read_csv('sample_submission.csv')"
   ]
  },
  {
   "cell_type": "code",
   "execution_count": 68,
   "metadata": {},
   "outputs": [],
   "source": [
    "# Merging the datasets.For the correct processing of features, we combine the train and test into one dataset\n",
    "df_train['Sample'] = 1  # mark where we have train\n",
    "df_test['Sample'] = 0  # mark where we have test\n",
    "\n",
    "# in the test we do not have the Rating value, we must predict it, so for now we just fill it with zeros\n",
    "df_test['Rating'] = 0\n",
    "data = data_test.append(data_train, sort=False).reset_index(drop=True)"
   ]
  },
  {
   "cell_type": "code",
   "execution_count": 69,
   "metadata": {},
   "outputs": [],
   "source": [
    "def preproc_data(df_input):\n",
    "    '''includes several functions to pre-process the predictor data.'''\n",
    "\n",
    "    df_output = df_input.copy()\n",
    "\n",
    "    ########################## 1. Предобработка ##############################################################\n",
    "    # убираем не нужные для модели признаки\n",
    "    df_output.drop(['Restaurant_id', 'ID_TA', ], axis=1, inplace=True)\n",
    "\n",
    "    ############################################## CITY ######################################################\n",
    "    # Creating dictionary with number of restaurants in the city using TripAdvisor pages for restaurants\n",
    "    res_count = {\n",
    "        'London': 19873,\n",
    "        'Paris': 17075,\n",
    "        'Madrid': 11114,\n",
    "        'Barcelona': 9472,\n",
    "        'Berlin': 6606,\n",
    "        'Milan': 7422,\n",
    "        'Rome': 10875,\n",
    "        'Prague': 5394,\n",
    "        'Lisbon': 4865,\n",
    "        'Vienna': 4111,\n",
    "        'Amsterdam': 3978,\n",
    "        'Brussels': 3608,\n",
    "        'Hamburg': 3276,\n",
    "        'Munich': 3140,\n",
    "        'Lyon': 2772,\n",
    "        'Stockholm': 2982,\n",
    "        'Budapest': 3060,\n",
    "        'Warsaw': 3220,\n",
    "        'Dublin': 2327,\n",
    "        'Copenhagen': 2331,\n",
    "        'Athens': 2542,\n",
    "        'Edinburgh': 1883,\n",
    "        'Zurich': 1864,\n",
    "        'Oporto': 1983,\n",
    "        'Geneva': 1698,\n",
    "        'Krakow': 1750,\n",
    "        'Oslo': 1260,\n",
    "        'Helsinki': 1555,\n",
    "        'Bratislava': 1263,\n",
    "        'Luxembourg': 737,\n",
    "        'Ljubljana': 600\n",
    "    }\n",
    "\n",
    "    # Mapping the dataset with dictionary.\n",
    "    df_output['Restaurants Count'] = df_output['City'].map(res_count)\n",
    "\n",
    "    # Creating Capital_City\n",
    "    list_Of_NotCapitalCity = ['Barcelona', 'Milan', 'Hamburg', 'Munich',\n",
    "                              'Lyon', 'Zurich', 'Oporto', 'Geneva', 'Krakow']\n",
    "\n",
    "    df_output['Capital_City'] = df_output['City'].apply(\n",
    "        lambda x: 0.0 if x in list_Of_NotCapitalCity else 1.0)\n",
    "\n",
    "    # Сity_population dictionary , creating a new feature\n",
    "    dict_Сity_population = {\n",
    "        'London': 8908,\n",
    "        'Paris': 2206,\n",
    "        'Madrid': 3223,\n",
    "        'Barcelona': 1620,\n",
    "        'Berlin': 6010,\n",
    "        'Milan': 1366,\n",
    "        'Rome': 2872,\n",
    "        'Prague': 1308,\n",
    "        'Lisbon': 506,\n",
    "        'Vienna': 1888,\n",
    "        'Amsterdam': 860,\n",
    "        'Brussels': 179,\n",
    "        'Hamburg': 1841,\n",
    "        'Munich': 1457,\n",
    "        'Lyon': 506,\n",
    "        'Stockholm': 961,\n",
    "        'Budapest': 1752,\n",
    "        'Warsaw': 1764,\n",
    "        'Dublin': 553,\n",
    "        'Copenhagen': 616,\n",
    "        'Athens': 665,\n",
    "        'Edinburgh': 513,\n",
    "        'Zurich': 415,\n",
    "        'Oporto': 240,\n",
    "        'Geneva': 201,\n",
    "        'Krakow': 769,\n",
    "        'Oslo': 681,\n",
    "        'Helsinki': 643,\n",
    "        'Bratislava': 426,\n",
    "        'Luxembourg': 119,\n",
    "        'Ljubljana': 284\n",
    "    }\n",
    "    df_output['Сity_population'] = df_output.apply(\n",
    "        lambda row: dict_Сity_population[row['City']], axis=1)\n",
    "\n",
    "    # Converting feature to dummy variables\n",
    "    df_output = pd.get_dummies(df_output, columns=['City', ], dummy_na=True)\n",
    "\n",
    "    ############################################## CUISINE ###################################################\n",
    "\n",
    "    # Creating binary variable for missing values\n",
    "    df_output['Cuisine Style NAN'] = pd.isna(df_output['Cuisine Style']).astype('uint8')\n",
    "    \n",
    "    # Filling the missing values\n",
    "    df_output['Cuisine Style'] = df_output['Cuisine Style'].fillna('no cuisine provided')\n",
    "    \n",
    "    # Lowering the cases\n",
    "    df_output['Cuisine Style'] = df_output['Cuisine Style'].str.lower() \n",
    "    \n",
    "    # Converting string values to lists\n",
    "    def cuisines_to_list(string):\n",
    "        string = string.replace('[', '')\n",
    "        string = string.replace(']', '')\n",
    "        string = string.replace(\"'\", '')\n",
    "        return string.split(', ')\n",
    "\n",
    "    df_output['Cuisine Style'] = df_output['Cuisine Style'].apply(cuisines_to_list)\n",
    "    \n",
    "    # Creating new features\n",
    "    df_output['Number of Cuisines'] = df_output['Cuisine Style'].apply(lambda x: len(x))\n",
    "    \n",
    "    # Creating a set of unique cuisine styles\n",
    "    cuisines_set = set()\n",
    "\n",
    "    for restaraunt_cuisines in df_output['Cuisine Style']:\n",
    "        for cuisine in restaraunt_cuisines:\n",
    "            cuisines_set.add(cuisine)\n",
    "            \n",
    "    # Counting cuisine styles\n",
    "    cuisines_counter = dict.fromkeys(cuisines_set, 0)\n",
    "\n",
    "    for cuisine in cuisines_set:\n",
    "        for restaraunt_cuisines in df_output['Cuisine Style']:\n",
    "            if cuisine in restaraunt_cuisines:\n",
    "                cuisines_counter[cuisine] += 1\n",
    "            \n",
    "    cuisines_counter = pd.Series(cuisines_counter)\n",
    "    \n",
    "    # Converting a feature to dummy variables\n",
    "    data_cuisines = pd.get_dummies(df_output['Cuisine Style'].apply(pd.Series).stack()).sum(level=0)\n",
    "    df_output = pd.merge(df_output, data_cuisines, left_index=True, right_index=True)\n",
    "     \n",
    "\n",
    "    \n",
    "    ############################################### RANKING ######################################################\n",
    "    # Creating a new feature.\n",
    "    df_output['Relative Ranking'] = df_output['Ranking'] / \\\n",
    "        df_output['Restaurants Count']\n",
    "\n",
    "    ############################################# PRICE RANGE #####################################################\n",
    "\n",
    "    # Creating a binary variable for missing values.\n",
    "    df_output['Price Range NAN'] = pd.isna(\n",
    "        df_output['Price Range']).astype('uint8')\n",
    "\n",
    "    # Filling the missing values.\n",
    "    df_output['Price Range'] = df_output['Price Range'].fillna('$$ - $$$')\n",
    "\n",
    "    # Replacing the object values with numeric values\n",
    "    price_transform_dict = {'$': 1, '$$ - $$$': 2, '$$$$': 3}\n",
    "    df_output['Price Range'] = df_output['Price Range'].map(\n",
    "        lambda x: price_transform_dict.get(x, x))\n",
    "\n",
    "    ############################################ NUMBER OF REVIEWS ################################################\n",
    "    # Creating a binary variable for missing values.\n",
    "    df_output['Number of Reviews NAN'] = pd.isna(\n",
    "        df_output['Number of Reviews']).astype('uint8')\n",
    "\n",
    "    # Filling the missing values.\n",
    "    df_output['Number of Reviews'] = df_output['Number of Reviews'].fillna(\n",
    "        0)\n",
    "\n",
    "    # Creating a new feature.\n",
    "    df_output['Reviews to Ranking Ratio'] = df_output['Number of Reviews'] / \\\n",
    "        df_output['Ranking']\n",
    "\n",
    "    ################################################## REVIEWS ####################################################\n",
    "    # Cleaning and processing Reviews\n",
    "    def cuisines_to_list(string):\n",
    "            string = str(string).replace('[', '')\n",
    "            string = str(string).replace(']', '')\n",
    "            string = str(string).replace(\"'\", '')\n",
    "            return string.split(', ')\n",
    "    df_output['Reviews'] = df_output['Reviews'].apply(cuisines_to_list)\n",
    "    \n",
    "    #Replace the gaps in Reviews with \"[[], []]\" \n",
    "    df_output['Reviews'].fillna('[[], []]',inplace = True)\n",
    "    \n",
    "    # Establishing lists of words\n",
    "\n",
    "    def filter_good_comment(line):\n",
    "        key_words = ['great', 'good', 'nice', 'best', 'excellent', 'delicious',\n",
    "                     'lovely', 'friendly', 'tasty', 'amazing', 'fantastic',\n",
    "                     'perfect', 'wonderful', 'gem', 'fresh', 'decent', 'cozy',\n",
    "                     'pleasant', 'love', 'awesome', 'beautiful', 'yummy',\n",
    "                     'fabulous', 'superb', 'fine', 'brilliant', 'cute', 'super'\n",
    "                     'favourite', 'enjoyable', 'favorite', 'outstanding',\n",
    "                     'pretty', 'affordable', 'charming', 'delightful',\n",
    "                     'unique', 'incredible', 'solid', 'exceptional']\n",
    "        counter = 0\n",
    "        for word in key_words:\n",
    "            if word in str(line).lower():\n",
    "                counter += 1\n",
    "        return counter\n",
    " \n",
    "    def filter_bad_comment(line):\n",
    "        key_words = ['bad', 'poor', 'worst', 'terrible', 'disappointing',\n",
    "                     'overpriced', 'rude', 'avoid', 'awful', 'disappointed',\n",
    "                     'horrible', 'mediocre', 'cold']\n",
    "        counter = 0\n",
    "        for word in key_words:\n",
    "            if word in str(line).lower():\n",
    "                counter += 1\n",
    "        return counter\n",
    "\n",
    "    # Difference in days between reviews\n",
    "    def get_date_difference(line):\n",
    "        if len(line) != 2:\n",
    "            return 0\n",
    "        date1 = datetime.strptime(line[0], '%m/%d/%Y')\n",
    "        date2 = datetime.strptime(line[1], '%m/%d/%Y')\n",
    "        \n",
    "    # Comment dates\n",
    "    df_output['Date_of_Reviews'] = df_output['Reviews'].str.findall('\\d+/\\d+/\\d+')\n",
    "    \n",
    "    # Number of dates in reviews\n",
    "    df_output['Date_of_Reviews'] = df_output['Date_of_Reviews'].astype(str)\n",
    "\n",
    "    df_output['Date_of_Reviews'].apply(lambda x: len(x)).value_counts() \n",
    "    \n",
    "    # create 3 new features\n",
    "    df_output['Good_Comments'] = df_output.Reviews.apply(filter_good_comment)\n",
    "    df_output['Bad_Comments'] = df_output.Reviews.apply(filter_bad_comment)\n",
    "    df_output['Date_Difference'] = df_output['Date_of_Reviews'].apply(get_date_difference)\n",
    "   \n",
    "    ########################################## 5. Clean ####################################################\n",
    "    # Dropping object columns; the model based on features with dtypes \"object\" will not be trained, just select them and delete\n",
    "    object_columns = [\n",
    "        s for s in df_output.columns if df_output[s].dtypes == 'object']\n",
    "    df_output.drop(object_columns, axis=1, inplace=True)\n",
    "\n",
    "    return df_output"
   ]
  },
  {
   "cell_type": "markdown",
   "metadata": {},
   "source": [
    "Run and check "
   ]
  },
  {
   "cell_type": "code",
   "execution_count": 70,
   "metadata": {},
   "outputs": [
    {
     "data": {
      "text/html": [
       "<div>\n",
       "<style scoped>\n",
       "    .dataframe tbody tr th:only-of-type {\n",
       "        vertical-align: middle;\n",
       "    }\n",
       "\n",
       "    .dataframe tbody tr th {\n",
       "        vertical-align: top;\n",
       "    }\n",
       "\n",
       "    .dataframe thead th {\n",
       "        text-align: right;\n",
       "    }\n",
       "</style>\n",
       "<table border=\"1\" class=\"dataframe\">\n",
       "  <thead>\n",
       "    <tr style=\"text-align: right;\">\n",
       "      <th></th>\n",
       "      <th>Ranking</th>\n",
       "      <th>Price Range</th>\n",
       "      <th>Number of Reviews</th>\n",
       "      <th>Sample</th>\n",
       "      <th>Rating</th>\n",
       "      <th>Restaurants Count</th>\n",
       "      <th>Capital_City</th>\n",
       "      <th>Сity_population</th>\n",
       "      <th>City_Amsterdam</th>\n",
       "      <th>City_Athens</th>\n",
       "      <th>...</th>\n",
       "      <th>wine bar</th>\n",
       "      <th>xinjiang</th>\n",
       "      <th>yunnan</th>\n",
       "      <th>Relative Ranking</th>\n",
       "      <th>Price Range NAN</th>\n",
       "      <th>Number of Reviews NAN</th>\n",
       "      <th>Reviews to Ranking Ratio</th>\n",
       "      <th>Good_Comments</th>\n",
       "      <th>Bad_Comments</th>\n",
       "      <th>Date_Difference</th>\n",
       "    </tr>\n",
       "  </thead>\n",
       "  <tbody>\n",
       "    <tr>\n",
       "      <th>16249</th>\n",
       "      <td>305.0</td>\n",
       "      <td>2</td>\n",
       "      <td>11.0</td>\n",
       "      <td>1</td>\n",
       "      <td>4.5</td>\n",
       "      <td>1263</td>\n",
       "      <td>1.0</td>\n",
       "      <td>426</td>\n",
       "      <td>0</td>\n",
       "      <td>0</td>\n",
       "      <td>...</td>\n",
       "      <td>0</td>\n",
       "      <td>0</td>\n",
       "      <td>0</td>\n",
       "      <td>0.241489</td>\n",
       "      <td>1</td>\n",
       "      <td>0</td>\n",
       "      <td>0.036066</td>\n",
       "      <td>0</td>\n",
       "      <td>0</td>\n",
       "      <td>0</td>\n",
       "    </tr>\n",
       "    <tr>\n",
       "      <th>5743</th>\n",
       "      <td>375.0</td>\n",
       "      <td>2</td>\n",
       "      <td>163.0</td>\n",
       "      <td>0</td>\n",
       "      <td>0.0</td>\n",
       "      <td>6606</td>\n",
       "      <td>1.0</td>\n",
       "      <td>6010</td>\n",
       "      <td>0</td>\n",
       "      <td>0</td>\n",
       "      <td>...</td>\n",
       "      <td>0</td>\n",
       "      <td>0</td>\n",
       "      <td>0</td>\n",
       "      <td>0.056767</td>\n",
       "      <td>0</td>\n",
       "      <td>0</td>\n",
       "      <td>0.434667</td>\n",
       "      <td>3</td>\n",
       "      <td>0</td>\n",
       "      <td>0</td>\n",
       "    </tr>\n",
       "    <tr>\n",
       "      <th>29941</th>\n",
       "      <td>370.0</td>\n",
       "      <td>2</td>\n",
       "      <td>103.0</td>\n",
       "      <td>1</td>\n",
       "      <td>4.5</td>\n",
       "      <td>4865</td>\n",
       "      <td>1.0</td>\n",
       "      <td>506</td>\n",
       "      <td>0</td>\n",
       "      <td>0</td>\n",
       "      <td>...</td>\n",
       "      <td>0</td>\n",
       "      <td>0</td>\n",
       "      <td>0</td>\n",
       "      <td>0.076053</td>\n",
       "      <td>0</td>\n",
       "      <td>0</td>\n",
       "      <td>0.278378</td>\n",
       "      <td>3</td>\n",
       "      <td>0</td>\n",
       "      <td>0</td>\n",
       "    </tr>\n",
       "    <tr>\n",
       "      <th>25521</th>\n",
       "      <td>849.0</td>\n",
       "      <td>1</td>\n",
       "      <td>2.0</td>\n",
       "      <td>1</td>\n",
       "      <td>5.0</td>\n",
       "      <td>1983</td>\n",
       "      <td>0.0</td>\n",
       "      <td>240</td>\n",
       "      <td>0</td>\n",
       "      <td>0</td>\n",
       "      <td>...</td>\n",
       "      <td>0</td>\n",
       "      <td>0</td>\n",
       "      <td>0</td>\n",
       "      <td>0.428139</td>\n",
       "      <td>0</td>\n",
       "      <td>0</td>\n",
       "      <td>0.002356</td>\n",
       "      <td>0</td>\n",
       "      <td>0</td>\n",
       "      <td>0</td>\n",
       "    </tr>\n",
       "    <tr>\n",
       "      <th>20747</th>\n",
       "      <td>2511.0</td>\n",
       "      <td>2</td>\n",
       "      <td>6.0</td>\n",
       "      <td>1</td>\n",
       "      <td>5.0</td>\n",
       "      <td>6606</td>\n",
       "      <td>1.0</td>\n",
       "      <td>6010</td>\n",
       "      <td>0</td>\n",
       "      <td>0</td>\n",
       "      <td>...</td>\n",
       "      <td>0</td>\n",
       "      <td>0</td>\n",
       "      <td>0</td>\n",
       "      <td>0.380109</td>\n",
       "      <td>1</td>\n",
       "      <td>0</td>\n",
       "      <td>0.002389</td>\n",
       "      <td>0</td>\n",
       "      <td>0</td>\n",
       "      <td>0</td>\n",
       "    </tr>\n",
       "    <tr>\n",
       "      <th>49008</th>\n",
       "      <td>2344.0</td>\n",
       "      <td>2</td>\n",
       "      <td>6.0</td>\n",
       "      <td>1</td>\n",
       "      <td>3.5</td>\n",
       "      <td>3608</td>\n",
       "      <td>1.0</td>\n",
       "      <td>179</td>\n",
       "      <td>0</td>\n",
       "      <td>0</td>\n",
       "      <td>...</td>\n",
       "      <td>0</td>\n",
       "      <td>0</td>\n",
       "      <td>0</td>\n",
       "      <td>0.649667</td>\n",
       "      <td>0</td>\n",
       "      <td>0</td>\n",
       "      <td>0.002560</td>\n",
       "      <td>0</td>\n",
       "      <td>0</td>\n",
       "      <td>0</td>\n",
       "    </tr>\n",
       "    <tr>\n",
       "      <th>3484</th>\n",
       "      <td>6854.0</td>\n",
       "      <td>2</td>\n",
       "      <td>267.0</td>\n",
       "      <td>0</td>\n",
       "      <td>0.0</td>\n",
       "      <td>19873</td>\n",
       "      <td>1.0</td>\n",
       "      <td>8908</td>\n",
       "      <td>0</td>\n",
       "      <td>0</td>\n",
       "      <td>...</td>\n",
       "      <td>0</td>\n",
       "      <td>0</td>\n",
       "      <td>0</td>\n",
       "      <td>0.344890</td>\n",
       "      <td>0</td>\n",
       "      <td>0</td>\n",
       "      <td>0.038955</td>\n",
       "      <td>0</td>\n",
       "      <td>0</td>\n",
       "      <td>0</td>\n",
       "    </tr>\n",
       "    <tr>\n",
       "      <th>27385</th>\n",
       "      <td>1849.0</td>\n",
       "      <td>2</td>\n",
       "      <td>6.0</td>\n",
       "      <td>1</td>\n",
       "      <td>4.0</td>\n",
       "      <td>3608</td>\n",
       "      <td>1.0</td>\n",
       "      <td>179</td>\n",
       "      <td>0</td>\n",
       "      <td>0</td>\n",
       "      <td>...</td>\n",
       "      <td>0</td>\n",
       "      <td>0</td>\n",
       "      <td>0</td>\n",
       "      <td>0.512472</td>\n",
       "      <td>1</td>\n",
       "      <td>0</td>\n",
       "      <td>0.003245</td>\n",
       "      <td>0</td>\n",
       "      <td>0</td>\n",
       "      <td>0</td>\n",
       "    </tr>\n",
       "    <tr>\n",
       "      <th>25979</th>\n",
       "      <td>127.0</td>\n",
       "      <td>2</td>\n",
       "      <td>537.0</td>\n",
       "      <td>1</td>\n",
       "      <td>4.5</td>\n",
       "      <td>5394</td>\n",
       "      <td>1.0</td>\n",
       "      <td>1308</td>\n",
       "      <td>0</td>\n",
       "      <td>0</td>\n",
       "      <td>...</td>\n",
       "      <td>0</td>\n",
       "      <td>0</td>\n",
       "      <td>0</td>\n",
       "      <td>0.023545</td>\n",
       "      <td>0</td>\n",
       "      <td>0</td>\n",
       "      <td>4.228346</td>\n",
       "      <td>4</td>\n",
       "      <td>0</td>\n",
       "      <td>0</td>\n",
       "    </tr>\n",
       "    <tr>\n",
       "      <th>33854</th>\n",
       "      <td>340.0</td>\n",
       "      <td>1</td>\n",
       "      <td>327.0</td>\n",
       "      <td>1</td>\n",
       "      <td>4.5</td>\n",
       "      <td>7422</td>\n",
       "      <td>0.0</td>\n",
       "      <td>1366</td>\n",
       "      <td>0</td>\n",
       "      <td>0</td>\n",
       "      <td>...</td>\n",
       "      <td>0</td>\n",
       "      <td>0</td>\n",
       "      <td>0</td>\n",
       "      <td>0.045810</td>\n",
       "      <td>0</td>\n",
       "      <td>0</td>\n",
       "      <td>0.961765</td>\n",
       "      <td>2</td>\n",
       "      <td>0</td>\n",
       "      <td>0</td>\n",
       "    </tr>\n",
       "  </tbody>\n",
       "</table>\n",
       "<p>10 rows × 175 columns</p>\n",
       "</div>"
      ],
      "text/plain": [
       "       Ranking  Price Range  Number of Reviews  Sample  Rating  \\\n",
       "16249    305.0            2               11.0       1     4.5   \n",
       "5743     375.0            2              163.0       0     0.0   \n",
       "29941    370.0            2              103.0       1     4.5   \n",
       "25521    849.0            1                2.0       1     5.0   \n",
       "20747   2511.0            2                6.0       1     5.0   \n",
       "49008   2344.0            2                6.0       1     3.5   \n",
       "3484    6854.0            2              267.0       0     0.0   \n",
       "27385   1849.0            2                6.0       1     4.0   \n",
       "25979    127.0            2              537.0       1     4.5   \n",
       "33854    340.0            1              327.0       1     4.5   \n",
       "\n",
       "       Restaurants Count  Capital_City  Сity_population  City_Amsterdam  \\\n",
       "16249               1263           1.0              426               0   \n",
       "5743                6606           1.0             6010               0   \n",
       "29941               4865           1.0              506               0   \n",
       "25521               1983           0.0              240               0   \n",
       "20747               6606           1.0             6010               0   \n",
       "49008               3608           1.0              179               0   \n",
       "3484               19873           1.0             8908               0   \n",
       "27385               3608           1.0              179               0   \n",
       "25979               5394           1.0             1308               0   \n",
       "33854               7422           0.0             1366               0   \n",
       "\n",
       "       City_Athens  ...  wine bar  xinjiang  yunnan  Relative Ranking  \\\n",
       "16249            0  ...         0         0       0          0.241489   \n",
       "5743             0  ...         0         0       0          0.056767   \n",
       "29941            0  ...         0         0       0          0.076053   \n",
       "25521            0  ...         0         0       0          0.428139   \n",
       "20747            0  ...         0         0       0          0.380109   \n",
       "49008            0  ...         0         0       0          0.649667   \n",
       "3484             0  ...         0         0       0          0.344890   \n",
       "27385            0  ...         0         0       0          0.512472   \n",
       "25979            0  ...         0         0       0          0.023545   \n",
       "33854            0  ...         0         0       0          0.045810   \n",
       "\n",
       "       Price Range NAN  Number of Reviews NAN  Reviews to Ranking Ratio  \\\n",
       "16249                1                      0                  0.036066   \n",
       "5743                 0                      0                  0.434667   \n",
       "29941                0                      0                  0.278378   \n",
       "25521                0                      0                  0.002356   \n",
       "20747                1                      0                  0.002389   \n",
       "49008                0                      0                  0.002560   \n",
       "3484                 0                      0                  0.038955   \n",
       "27385                1                      0                  0.003245   \n",
       "25979                0                      0                  4.228346   \n",
       "33854                0                      0                  0.961765   \n",
       "\n",
       "       Good_Comments  Bad_Comments  Date_Difference  \n",
       "16249              0             0                0  \n",
       "5743               3             0                0  \n",
       "29941              3             0                0  \n",
       "25521              0             0                0  \n",
       "20747              0             0                0  \n",
       "49008              0             0                0  \n",
       "3484               0             0                0  \n",
       "27385              0             0                0  \n",
       "25979              4             0                0  \n",
       "33854              2             0                0  \n",
       "\n",
       "[10 rows x 175 columns]"
      ]
     },
     "execution_count": 70,
     "metadata": {},
     "output_type": "execute_result"
    }
   ],
   "source": [
    "df_preproc = preproc_data(data)\n",
    "df_preproc.sample(10)"
   ]
  },
  {
   "cell_type": "code",
   "execution_count": 71,
   "metadata": {},
   "outputs": [
    {
     "name": "stdout",
     "output_type": "stream",
     "text": [
      "<class 'pandas.core.frame.DataFrame'>\n",
      "RangeIndex: 50000 entries, 0 to 49999\n",
      "Columns: 175 entries, Ranking to Date_Difference\n",
      "dtypes: float64(6), int64(8), uint8(161)\n",
      "memory usage: 13.0 MB\n"
     ]
    }
   ],
   "source": [
    "df_preproc.info()"
   ]
  },
  {
   "cell_type": "code",
   "execution_count": 72,
   "metadata": {},
   "outputs": [],
   "source": [
    "# Now let's select the test part\n",
    "train_data = df_preproc.query('Sample == 1').drop(['Sample'], axis=1)\n",
    "test_data = df_preproc.query('Sample == 0').drop(['Sample'], axis=1)\n",
    "\n",
    "y = train_data.Rating.values            # наш таргет\n",
    "X = train_data.drop(['Rating'], axis=1)"
   ]
  },
  {
   "cell_type": "markdown",
   "metadata": {},
   "source": [
    "Before sending our data for training, we will divide the data into another test and train for validation. This will help us test how good our model is performing before submitting to kaggle."
   ]
  },
  {
   "cell_type": "code",
   "execution_count": 73,
   "metadata": {},
   "outputs": [],
   "source": [
    "# Let's use the special function train_test_split to split test data\n",
    "# allocate 20% of the data for validation (parameter test_size)\n",
    "X_train, X_test, y_train, y_test = train_test_split(X, y, test_size=0.2, random_state=RANDOM_SEED)"
   ]
  },
  {
   "cell_type": "code",
   "execution_count": 74,
   "metadata": {},
   "outputs": [
    {
     "data": {
      "text/plain": [
       "((10000, 174), (40000, 174), (40000, 173), (32000, 173), (8000, 173))"
      ]
     },
     "execution_count": 74,
     "metadata": {},
     "output_type": "execute_result"
    }
   ],
   "source": [
    "# cheking\n",
    "test_data.shape, train_data.shape, X.shape, X_train.shape, X_test.shape"
   ]
  },
  {
   "cell_type": "markdown",
   "metadata": {},
   "source": [
    "## 5. Model"
   ]
  },
  {
   "cell_type": "code",
   "execution_count": 75,
   "metadata": {},
   "outputs": [],
   "source": [
    "# Importing the required libraries:\n",
    "from sklearn.ensemble import RandomForestRegressor # tool for creating and training a model\n",
    "from sklearn import metrics # tools for assessing model accuracy"
   ]
  },
  {
   "cell_type": "code",
   "execution_count": 76,
   "metadata": {},
   "outputs": [],
   "source": [
    "# Create the model (DO NOT TOUCH SETTINGS)\n",
    "model = RandomForestRegressor(n_estimators=100, verbose=1, n_jobs=-1, random_state=RANDOM_SEED)"
   ]
  },
  {
   "cell_type": "code",
   "execution_count": 77,
   "metadata": {},
   "outputs": [
    {
     "name": "stderr",
     "output_type": "stream",
     "text": [
      "[Parallel(n_jobs=-1)]: Using backend ThreadingBackend with 4 concurrent workers.\n",
      "[Parallel(n_jobs=-1)]: Done  42 tasks      | elapsed:   13.6s\n",
      "[Parallel(n_jobs=-1)]: Done 100 out of 100 | elapsed:   31.1s finished\n",
      "[Parallel(n_jobs=4)]: Using backend ThreadingBackend with 4 concurrent workers.\n",
      "[Parallel(n_jobs=4)]: Done  42 tasks      | elapsed:    0.0s\n",
      "[Parallel(n_jobs=4)]: Done 100 out of 100 | elapsed:    0.1s finished\n"
     ]
    }
   ],
   "source": [
    "# Train the model on a test dataset\n",
    "model.fit(X_train, y_train)\n",
    "\n",
    "# We use a trained model to predict restaurant ratings in a test sample.\n",
    "# Write the predicted values into the y_pred variable\n",
    "y_pred = model.predict(X_test)"
   ]
  },
  {
   "cell_type": "code",
   "execution_count": 78,
   "metadata": {},
   "outputs": [
    {
     "name": "stdout",
     "output_type": "stream",
     "text": [
      "MAE: 0.20501187499999998\n"
     ]
    }
   ],
   "source": [
    "# Compare the predicted values (y_pred) with the real ones (y_test), and see how much they differ on average\n",
    "# The metric is called the Mean Absolute Error (MAE) and shows the average deviation of the predicted values from the actual ones.\n",
    "print('MAE:', metrics.mean_absolute_error(y_test, y_pred))"
   ]
  },
  {
   "cell_type": "code",
   "execution_count": 79,
   "metadata": {},
   "outputs": [
    {
     "data": {
      "text/plain": [
       "<matplotlib.axes._subplots.AxesSubplot at 0x1e5837b2788>"
      ]
     },
     "execution_count": 79,
     "metadata": {},
     "output_type": "execute_result"
    },
    {
     "data": {
      "image/png": "[encoded data removed]",
      "text/plain": [
       "<Figure size 720x720 with 1 Axes>"
      ]
     },
     "metadata": {
      "needs_background": "light"
     },
     "output_type": "display_data"
    }
   ],
   "source": [
    "# RandomForestRegressor has the ability to display the most important features for the model\n",
    "plt.rcParams['figure.figsize'] = (10,10)\n",
    "feat_importances = pd.Series(model.feature_importances_, index=X.columns)\n",
    "feat_importances.nlargest(15).plot(kind='barh')"
   ]
  },
  {
   "cell_type": "markdown",
   "metadata": {},
   "source": [
    "Compare the predicted values (y_pred) with the real ones (y_test), and see how much they differ on average\n",
    "\n",
    "The metric is called the Mean Absolute Error (MAE) and shows the average deviation of the predicted values from the actual ones."
   ]
  },
  {
   "cell_type": "code",
   "execution_count": 80,
   "metadata": {},
   "outputs": [
    {
     "name": "stdout",
     "output_type": "stream",
     "text": [
      "MAE: 0.20501187499999998\n"
     ]
    }
   ],
   "source": [
    "# Mean Absolute Error (MAE) estimation.\n",
    "print('MAE:', metrics.mean_absolute_error(y_test, y_pred))"
   ]
  },
  {
   "cell_type": "code",
   "execution_count": 81,
   "metadata": {},
   "outputs": [
    {
     "data": {
      "text/plain": [
       "<matplotlib.axes._subplots.AxesSubplot at 0x1e5830c09c8>"
      ]
     },
     "execution_count": 81,
     "metadata": {},
     "output_type": "execute_result"
    },
    {
     "data": {
      "image/png": "[encoded data removed]",
      "text/plain": [
       "<Figure size 720x720 with 1 Axes>"
      ]
     },
     "metadata": {
      "needs_background": "light"
     },
     "output_type": "display_data"
    }
   ],
   "source": [
    "# Evaluating the importance of variables for the forecast.\n",
    "plt.rcParams['figure.figsize'] = (10,10)\n",
    "feat_importances = pd.Series(model.feature_importances_, index=X.columns)\n",
    "feat_importances.nlargest(15).plot(kind='barh')"
   ]
  },
  {
   "cell_type": "markdown",
   "metadata": {},
   "source": [
    "## 6. Submission"
   ]
  },
  {
   "cell_type": "code",
   "execution_count": 82,
   "metadata": {},
   "outputs": [
    {
     "name": "stdout",
     "output_type": "stream",
     "text": [
      "<class 'pandas.core.frame.DataFrame'>\n",
      "Int64Index: 10000 entries, 0 to 9999\n",
      "Columns: 174 entries, Ranking to Date_Difference\n",
      "dtypes: float64(6), int64(7), uint8(161)\n",
      "memory usage: 2.6 MB\n"
     ]
    },
    {
     "data": {
      "text/html": [
       "<div>\n",
       "<style scoped>\n",
       "    .dataframe tbody tr th:only-of-type {\n",
       "        vertical-align: middle;\n",
       "    }\n",
       "\n",
       "    .dataframe tbody tr th {\n",
       "        vertical-align: top;\n",
       "    }\n",
       "\n",
       "    .dataframe thead th {\n",
       "        text-align: right;\n",
       "    }\n",
       "</style>\n",
       "<table border=\"1\" class=\"dataframe\">\n",
       "  <thead>\n",
       "    <tr style=\"text-align: right;\">\n",
       "      <th></th>\n",
       "      <th>Ranking</th>\n",
       "      <th>Price Range</th>\n",
       "      <th>Number of Reviews</th>\n",
       "      <th>Rating</th>\n",
       "      <th>Restaurants Count</th>\n",
       "      <th>Capital_City</th>\n",
       "      <th>Сity_population</th>\n",
       "      <th>City_Amsterdam</th>\n",
       "      <th>City_Athens</th>\n",
       "      <th>City_Barcelona</th>\n",
       "      <th>...</th>\n",
       "      <th>wine bar</th>\n",
       "      <th>xinjiang</th>\n",
       "      <th>yunnan</th>\n",
       "      <th>Relative Ranking</th>\n",
       "      <th>Price Range NAN</th>\n",
       "      <th>Number of Reviews NAN</th>\n",
       "      <th>Reviews to Ranking Ratio</th>\n",
       "      <th>Good_Comments</th>\n",
       "      <th>Bad_Comments</th>\n",
       "      <th>Date_Difference</th>\n",
       "    </tr>\n",
       "  </thead>\n",
       "  <tbody>\n",
       "    <tr>\n",
       "      <th>7161</th>\n",
       "      <td>6232.0</td>\n",
       "      <td>2</td>\n",
       "      <td>10.0</td>\n",
       "      <td>0.0</td>\n",
       "      <td>11114</td>\n",
       "      <td>1.0</td>\n",
       "      <td>3223</td>\n",
       "      <td>0</td>\n",
       "      <td>0</td>\n",
       "      <td>0</td>\n",
       "      <td>...</td>\n",
       "      <td>0</td>\n",
       "      <td>0</td>\n",
       "      <td>0</td>\n",
       "      <td>0.560734</td>\n",
       "      <td>1</td>\n",
       "      <td>0</td>\n",
       "      <td>0.001605</td>\n",
       "      <td>1</td>\n",
       "      <td>0</td>\n",
       "      <td>0</td>\n",
       "    </tr>\n",
       "    <tr>\n",
       "      <th>8128</th>\n",
       "      <td>11408.0</td>\n",
       "      <td>2</td>\n",
       "      <td>4.0</td>\n",
       "      <td>0.0</td>\n",
       "      <td>17075</td>\n",
       "      <td>1.0</td>\n",
       "      <td>2206</td>\n",
       "      <td>0</td>\n",
       "      <td>0</td>\n",
       "      <td>0</td>\n",
       "      <td>...</td>\n",
       "      <td>0</td>\n",
       "      <td>0</td>\n",
       "      <td>0</td>\n",
       "      <td>0.668111</td>\n",
       "      <td>1</td>\n",
       "      <td>0</td>\n",
       "      <td>0.000351</td>\n",
       "      <td>0</td>\n",
       "      <td>0</td>\n",
       "      <td>0</td>\n",
       "    </tr>\n",
       "    <tr>\n",
       "      <th>5000</th>\n",
       "      <td>492.0</td>\n",
       "      <td>2</td>\n",
       "      <td>920.0</td>\n",
       "      <td>0.0</td>\n",
       "      <td>19873</td>\n",
       "      <td>1.0</td>\n",
       "      <td>8908</td>\n",
       "      <td>0</td>\n",
       "      <td>0</td>\n",
       "      <td>0</td>\n",
       "      <td>...</td>\n",
       "      <td>0</td>\n",
       "      <td>0</td>\n",
       "      <td>0</td>\n",
       "      <td>0.024757</td>\n",
       "      <td>0</td>\n",
       "      <td>0</td>\n",
       "      <td>1.869919</td>\n",
       "      <td>2</td>\n",
       "      <td>0</td>\n",
       "      <td>0</td>\n",
       "    </tr>\n",
       "    <tr>\n",
       "      <th>180</th>\n",
       "      <td>789.0</td>\n",
       "      <td>2</td>\n",
       "      <td>540.0</td>\n",
       "      <td>0.0</td>\n",
       "      <td>11114</td>\n",
       "      <td>1.0</td>\n",
       "      <td>3223</td>\n",
       "      <td>0</td>\n",
       "      <td>0</td>\n",
       "      <td>0</td>\n",
       "      <td>...</td>\n",
       "      <td>0</td>\n",
       "      <td>0</td>\n",
       "      <td>0</td>\n",
       "      <td>0.070992</td>\n",
       "      <td>0</td>\n",
       "      <td>0</td>\n",
       "      <td>0.684411</td>\n",
       "      <td>0</td>\n",
       "      <td>0</td>\n",
       "      <td>0</td>\n",
       "    </tr>\n",
       "    <tr>\n",
       "      <th>6689</th>\n",
       "      <td>2552.0</td>\n",
       "      <td>1</td>\n",
       "      <td>42.0</td>\n",
       "      <td>0.0</td>\n",
       "      <td>19873</td>\n",
       "      <td>1.0</td>\n",
       "      <td>8908</td>\n",
       "      <td>0</td>\n",
       "      <td>0</td>\n",
       "      <td>0</td>\n",
       "      <td>...</td>\n",
       "      <td>0</td>\n",
       "      <td>0</td>\n",
       "      <td>0</td>\n",
       "      <td>0.128415</td>\n",
       "      <td>0</td>\n",
       "      <td>0</td>\n",
       "      <td>0.016458</td>\n",
       "      <td>0</td>\n",
       "      <td>0</td>\n",
       "      <td>0</td>\n",
       "    </tr>\n",
       "    <tr>\n",
       "      <th>2452</th>\n",
       "      <td>4080.0</td>\n",
       "      <td>2</td>\n",
       "      <td>170.0</td>\n",
       "      <td>0.0</td>\n",
       "      <td>19873</td>\n",
       "      <td>1.0</td>\n",
       "      <td>8908</td>\n",
       "      <td>0</td>\n",
       "      <td>0</td>\n",
       "      <td>0</td>\n",
       "      <td>...</td>\n",
       "      <td>0</td>\n",
       "      <td>0</td>\n",
       "      <td>0</td>\n",
       "      <td>0.205304</td>\n",
       "      <td>0</td>\n",
       "      <td>0</td>\n",
       "      <td>0.041667</td>\n",
       "      <td>2</td>\n",
       "      <td>0</td>\n",
       "      <td>0</td>\n",
       "    </tr>\n",
       "    <tr>\n",
       "      <th>6573</th>\n",
       "      <td>13695.0</td>\n",
       "      <td>2</td>\n",
       "      <td>64.0</td>\n",
       "      <td>0.0</td>\n",
       "      <td>19873</td>\n",
       "      <td>1.0</td>\n",
       "      <td>8908</td>\n",
       "      <td>0</td>\n",
       "      <td>0</td>\n",
       "      <td>0</td>\n",
       "      <td>...</td>\n",
       "      <td>0</td>\n",
       "      <td>0</td>\n",
       "      <td>0</td>\n",
       "      <td>0.689126</td>\n",
       "      <td>0</td>\n",
       "      <td>0</td>\n",
       "      <td>0.004673</td>\n",
       "      <td>2</td>\n",
       "      <td>0</td>\n",
       "      <td>0</td>\n",
       "    </tr>\n",
       "    <tr>\n",
       "      <th>7885</th>\n",
       "      <td>610.0</td>\n",
       "      <td>2</td>\n",
       "      <td>439.0</td>\n",
       "      <td>0.0</td>\n",
       "      <td>9472</td>\n",
       "      <td>0.0</td>\n",
       "      <td>1620</td>\n",
       "      <td>0</td>\n",
       "      <td>0</td>\n",
       "      <td>1</td>\n",
       "      <td>...</td>\n",
       "      <td>1</td>\n",
       "      <td>0</td>\n",
       "      <td>0</td>\n",
       "      <td>0.064400</td>\n",
       "      <td>0</td>\n",
       "      <td>0</td>\n",
       "      <td>0.719672</td>\n",
       "      <td>2</td>\n",
       "      <td>0</td>\n",
       "      <td>0</td>\n",
       "    </tr>\n",
       "    <tr>\n",
       "      <th>3996</th>\n",
       "      <td>1728.0</td>\n",
       "      <td>2</td>\n",
       "      <td>2.0</td>\n",
       "      <td>0.0</td>\n",
       "      <td>2982</td>\n",
       "      <td>1.0</td>\n",
       "      <td>961</td>\n",
       "      <td>0</td>\n",
       "      <td>0</td>\n",
       "      <td>0</td>\n",
       "      <td>...</td>\n",
       "      <td>0</td>\n",
       "      <td>0</td>\n",
       "      <td>0</td>\n",
       "      <td>0.579477</td>\n",
       "      <td>1</td>\n",
       "      <td>0</td>\n",
       "      <td>0.001157</td>\n",
       "      <td>0</td>\n",
       "      <td>0</td>\n",
       "      <td>0</td>\n",
       "    </tr>\n",
       "    <tr>\n",
       "      <th>6938</th>\n",
       "      <td>1352.0</td>\n",
       "      <td>2</td>\n",
       "      <td>3.0</td>\n",
       "      <td>0.0</td>\n",
       "      <td>1864</td>\n",
       "      <td>0.0</td>\n",
       "      <td>415</td>\n",
       "      <td>0</td>\n",
       "      <td>0</td>\n",
       "      <td>0</td>\n",
       "      <td>...</td>\n",
       "      <td>0</td>\n",
       "      <td>0</td>\n",
       "      <td>0</td>\n",
       "      <td>0.725322</td>\n",
       "      <td>1</td>\n",
       "      <td>0</td>\n",
       "      <td>0.002219</td>\n",
       "      <td>0</td>\n",
       "      <td>0</td>\n",
       "      <td>0</td>\n",
       "    </tr>\n",
       "  </tbody>\n",
       "</table>\n",
       "<p>10 rows × 174 columns</p>\n",
       "</div>"
      ],
      "text/plain": [
       "      Ranking  Price Range  Number of Reviews  Rating  Restaurants Count  \\\n",
       "7161   6232.0            2               10.0     0.0              11114   \n",
       "8128  11408.0            2                4.0     0.0              17075   \n",
       "5000    492.0            2              920.0     0.0              19873   \n",
       "180     789.0            2              540.0     0.0              11114   \n",
       "6689   2552.0            1               42.0     0.0              19873   \n",
       "2452   4080.0            2              170.0     0.0              19873   \n",
       "6573  13695.0            2               64.0     0.0              19873   \n",
       "7885    610.0            2              439.0     0.0               9472   \n",
       "3996   1728.0            2                2.0     0.0               2982   \n",
       "6938   1352.0            2                3.0     0.0               1864   \n",
       "\n",
       "      Capital_City  Сity_population  City_Amsterdam  City_Athens  \\\n",
       "7161           1.0             3223               0            0   \n",
       "8128           1.0             2206               0            0   \n",
       "5000           1.0             8908               0            0   \n",
       "180            1.0             3223               0            0   \n",
       "6689           1.0             8908               0            0   \n",
       "2452           1.0             8908               0            0   \n",
       "6573           1.0             8908               0            0   \n",
       "7885           0.0             1620               0            0   \n",
       "3996           1.0              961               0            0   \n",
       "6938           0.0              415               0            0   \n",
       "\n",
       "      City_Barcelona  ...  wine bar  xinjiang  yunnan  Relative Ranking  \\\n",
       "7161               0  ...         0         0       0          0.560734   \n",
       "8128               0  ...         0         0       0          0.668111   \n",
       "5000               0  ...         0         0       0          0.024757   \n",
       "180                0  ...         0         0       0          0.070992   \n",
       "6689               0  ...         0         0       0          0.128415   \n",
       "2452               0  ...         0         0       0          0.205304   \n",
       "6573               0  ...         0         0       0          0.689126   \n",
       "7885               1  ...         1         0       0          0.064400   \n",
       "3996               0  ...         0         0       0          0.579477   \n",
       "6938               0  ...         0         0       0          0.725322   \n",
       "\n",
       "      Price Range NAN  Number of Reviews NAN  Reviews to Ranking Ratio  \\\n",
       "7161                1                      0                  0.001605   \n",
       "8128                1                      0                  0.000351   \n",
       "5000                0                      0                  1.869919   \n",
       "180                 0                      0                  0.684411   \n",
       "6689                0                      0                  0.016458   \n",
       "2452                0                      0                  0.041667   \n",
       "6573                0                      0                  0.004673   \n",
       "7885                0                      0                  0.719672   \n",
       "3996                1                      0                  0.001157   \n",
       "6938                1                      0                  0.002219   \n",
       "\n",
       "      Good_Comments  Bad_Comments  Date_Difference  \n",
       "7161              1             0                0  \n",
       "8128              0             0                0  \n",
       "5000              2             0                0  \n",
       "180               0             0                0  \n",
       "6689              0             0                0  \n",
       "2452              2             0                0  \n",
       "6573              2             0                0  \n",
       "7885              2             0                0  \n",
       "3996              0             0                0  \n",
       "6938              0             0                0  \n",
       "\n",
       "[10 rows x 174 columns]"
      ]
     },
     "execution_count": 82,
     "metadata": {},
     "output_type": "execute_result"
    }
   ],
   "source": [
    "# Checking the data ones again\n",
    "test_data.info()\n",
    "test_data.sample(10)"
   ]
  },
  {
   "cell_type": "code",
   "execution_count": 83,
   "metadata": {},
   "outputs": [],
   "source": [
    "# Dropping Rating column\n",
    "test_data = test_data.drop(['Rating'], axis=1)"
   ]
  },
  {
   "cell_type": "code",
   "execution_count": 84,
   "metadata": {},
   "outputs": [
    {
     "data": {
      "text/html": [
       "<div>\n",
       "<style scoped>\n",
       "    .dataframe tbody tr th:only-of-type {\n",
       "        vertical-align: middle;\n",
       "    }\n",
       "\n",
       "    .dataframe tbody tr th {\n",
       "        vertical-align: top;\n",
       "    }\n",
       "\n",
       "    .dataframe thead th {\n",
       "        text-align: right;\n",
       "    }\n",
       "</style>\n",
       "<table border=\"1\" class=\"dataframe\">\n",
       "  <thead>\n",
       "    <tr style=\"text-align: right;\">\n",
       "      <th></th>\n",
       "      <th>id</th>\n",
       "      <th>cuisine</th>\n",
       "    </tr>\n",
       "  </thead>\n",
       "  <tbody>\n",
       "    <tr>\n",
       "      <th>0</th>\n",
       "      <td>35203</td>\n",
       "      <td>italian</td>\n",
       "    </tr>\n",
       "    <tr>\n",
       "      <th>1</th>\n",
       "      <td>17600</td>\n",
       "      <td>italian</td>\n",
       "    </tr>\n",
       "    <tr>\n",
       "      <th>2</th>\n",
       "      <td>35200</td>\n",
       "      <td>italian</td>\n",
       "    </tr>\n",
       "    <tr>\n",
       "      <th>3</th>\n",
       "      <td>17602</td>\n",
       "      <td>italian</td>\n",
       "    </tr>\n",
       "    <tr>\n",
       "      <th>4</th>\n",
       "      <td>17605</td>\n",
       "      <td>italian</td>\n",
       "    </tr>\n",
       "    <tr>\n",
       "      <th>...</th>\n",
       "      <td>...</td>\n",
       "      <td>...</td>\n",
       "    </tr>\n",
       "    <tr>\n",
       "      <th>9939</th>\n",
       "      <td>46537</td>\n",
       "      <td>italian</td>\n",
       "    </tr>\n",
       "    <tr>\n",
       "      <th>9940</th>\n",
       "      <td>30854</td>\n",
       "      <td>italian</td>\n",
       "    </tr>\n",
       "    <tr>\n",
       "      <th>9941</th>\n",
       "      <td>15430</td>\n",
       "      <td>italian</td>\n",
       "    </tr>\n",
       "    <tr>\n",
       "      <th>9942</th>\n",
       "      <td>46530</td>\n",
       "      <td>italian</td>\n",
       "    </tr>\n",
       "    <tr>\n",
       "      <th>9943</th>\n",
       "      <td>30849</td>\n",
       "      <td>italian</td>\n",
       "    </tr>\n",
       "  </tbody>\n",
       "</table>\n",
       "<p>9944 rows × 2 columns</p>\n",
       "</div>"
      ],
      "text/plain": [
       "         id  cuisine\n",
       "0     35203  italian\n",
       "1     17600  italian\n",
       "2     35200  italian\n",
       "3     17602  italian\n",
       "4     17605  italian\n",
       "...     ...      ...\n",
       "9939  46537  italian\n",
       "9940  30854  italian\n",
       "9941  15430  italian\n",
       "9942  46530  italian\n",
       "9943  30849  italian\n",
       "\n",
       "[9944 rows x 2 columns]"
      ]
     },
     "execution_count": 84,
     "metadata": {},
     "output_type": "execute_result"
    }
   ],
   "source": [
    "# Checking the data\n",
    "sample_submission"
   ]
  },
  {
   "cell_type": "code",
   "execution_count": null,
   "metadata": {},
   "outputs": [],
   "source": [
    "# Predicting the rating in a test sample\n",
    "predict_submission = np.array([rating_correction(x) for x in model.predict(test_data)])"
   ]
  },
  {
   "cell_type": "code",
   "execution_count": null,
   "metadata": {},
   "outputs": [],
   "source": [
    "# Checking the data\n",
    "predict_submission"
   ]
  },
  {
   "cell_type": "code",
   "execution_count": null,
   "metadata": {},
   "outputs": [],
   "source": [
    "# Result submission\n",
    "sample_submission['Rating'] = predict_submission\n",
    "sample_submission.to_csv('submission.csv', index=False)\n",
    "sample_submission.sample(10)"
   ]
  },
  {
   "cell_type": "markdown",
   "metadata": {},
   "source": [
    "## 7. Recap & Conclusions\n",
    "\n",
    "The actions taken:\n",
    "\n",
    "- We initialized necessary libraries, set visualization conditions and loaded the dataset.\n",
    "- We analyzed the features, identified the target variable, looked at external sources, and suggested which features we can rely on for feature engineering.\n",
    "- We checked each variable, filled the NANs, checked the frequency distributions and created several new features.\n",
    "\n",
    "\n",
    "The most valuable agents for reducing MAE:\n",
    "\n",
    "- Relative rank feature;\n",
    "- Number of Reviews;\n",
    "- Rating correction function;\n",
    "- City Population;\n",
    "- Reviews to ranking ratio;\n",
    "- Restaurants Count."
   ]
  },
  {
   "cell_type": "markdown",
   "metadata": {},
   "source": [
    "### P.S. \n",
    "Below is the model which were send by our Mentor , regarding to that model the results of MAE is different at the time when we using same data. I could not fugureout why its showing so big difference, maybe we still have to learn a lot... But that makes me even more cuorios to learn, search and discover the analise and tools for that."
   ]
  },
  {
   "cell_type": "code",
   "execution_count": 87,
   "metadata": {},
   "outputs": [],
   "source": [
    "def fit_estimate(data, random_state=None):\n",
    "    # Х - данные с информацией о ресторанах, у - целевая переменная (рейтинги ресторанов)\n",
    "    X = data.drop(['Rating'], axis = 1)\n",
    "    y = data['Rating']\n",
    "    # Наборы данных с меткой \"train\" будут использоваться для обучения модели, \"test\" - для тестирования.\n",
    "    # Для тестирования мы будем использовать 25% от исходного датасета.\n",
    "    X_train, X_test, y_train, y_test = train_test_split(X, y, test_size=0.25, random_state=random_state)\n",
    "    # Создаём модель\n",
    "    regr = RandomForestRegressor(n_estimators=100, random_state=random_state, n_jobs=-1)\n",
    "    # Обучаем модель на тестовом наборе данных\n",
    "    regr.fit(X_train, y_train)\n",
    "    # Используем обученную модель для предсказания рейтинга ресторанов в тестовой выборке.\n",
    "    # Предсказанные значения записываем в переменную y_pred\n",
    "    y_pred = regr.predict(X_test)\n",
    "    # Сравниваем предсказанные значения (y_pred) с реальными (y_test), и смотрим насколько они в среднем отличаются\n",
    "    # Метрика называется Mean Absolute Error (MAE) и показывает среднее отклонение предсказанных значений от фактических.\n",
    "    print('MAE reg:', metrics.mean_absolute_error(y_test, y_pred))\n",
    "    print('MAE reg round:', metrics.mean_absolute_error(y_test, np.round(y_pred * 2) / 2))\n",
    "    \n",
    "    # Попробуем классификацию:\n",
    "    le = LabelEncoder()\n",
    "    le.fit(y_train)\n",
    "    \n",
    "    classif = RandomForestClassifier(n_estimators=100, random_state=random_state, n_jobs=-1)\n",
    "    classif.fit(X_train, le.transform(y_train))\n",
    "    y_pred = classif.predict(X_test)\n",
    "    print('MAE classif:', metrics.mean_absolute_error(y_test, le.inverse_transform(y_pred)))    "
   ]
  },
  {
   "cell_type": "code",
   "execution_count": 88,
   "metadata": {},
   "outputs": [
    {
     "name": "stdout",
     "output_type": "stream",
     "text": [
      "MAE reg: 0.1682584\n",
      "MAE reg round: 0.1446\n",
      "MAE classif: 0.16524\n"
     ]
    }
   ],
   "source": [
    "fit_estimate(df_preproc.dropna(), random_state=322)"
   ]
  }
 ],
 "metadata": {
  "kernelspec": {
   "display_name": "Python 3",
   "language": "python",
   "name": "python3"
  },
  "language_info": {
   "codemirror_mode": {
    "name": "ipython",
    "version": 3
   },
   "file_extension": ".py",
   "mimetype": "text/x-python",
   "name": "python",
   "nbconvert_exporter": "python",
   "pygments_lexer": "ipython3",
   "version": "3.7.6"
  }
 },
 "nbformat": 4,
 "nbformat_minor": 4
}
